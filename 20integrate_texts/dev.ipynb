{
 "cells": [
  {
   "cell_type": "code",
   "execution_count": 46,
   "metadata": {},
   "outputs": [
    {
     "name": "stdout",
     "output_type": "stream",
     "text": [
      "The autoreload extension is already loaded. To reload it, use:\n",
      "  %reload_ext autoreload\n"
     ]
    }
   ],
   "source": [
    "\n",
    "%load_ext autoreload\n",
    "%autoreload 2\n",
    "from loaders.loaders import *\n",
    "from dataset_dict import dataset_dict, output_path\n",
    "from loaders.RecordDistributor import RecordDistributor\n",
    "from loaders.CleanedEnglishDataset import WikiBookEn\n",
    "from loaders.OtherDatasets import *\n",
    "from loaders.PilePythonDataset import PilePythonDataset"
   ]
  },
  {
   "cell_type": "code",
   "execution_count": 57,
   "metadata": {},
   "outputs": [
    {
     "name": "stdout",
     "output_type": "stream",
     "text": [
      "python0000.jsonl.zst already exists.\n",
      "python0001.jsonl.zst already exists.\n",
      "python0002.jsonl.zst already exists.\n",
      "python0003.jsonl.zst already exists.\n",
      "python0004.jsonl.zst already exists.\n",
      "python0005.jsonl.zst already exists.\n",
      "python0006.jsonl.zst already exists.\n",
      "python0007.jsonl.zst already exists.\n",
      "python0008.jsonl.zst already exists.\n",
      "python0009.jsonl.zst already exists.\n",
      "python0010.jsonl.zst already exists.\n",
      "python0011.jsonl.zst already exists.\n",
      "python0012.jsonl.zst already exists.\n",
      "python0013.jsonl.zst already exists.\n",
      "python0014.jsonl.zst already exists.\n",
      "python0015.jsonl.zst already exists.\n",
      "python0016.jsonl.zst already exists.\n",
      "python0017.jsonl.zst already exists.\n",
      "python0018.jsonl.zst already exists.\n",
      "python0019.jsonl.zst already exists.\n",
      "python0020.jsonl.zst already exists.\n",
      "python0021.jsonl.zst already exists.\n",
      "python0022.jsonl.zst already exists.\n",
      "python0023.jsonl.zst already exists.\n",
      "python0024.jsonl.zst already exists.\n",
      "python0025.jsonl.zst already exists.\n",
      "python0026.jsonl.zst already exists.\n",
      "python0027.jsonl.zst already exists.\n",
      "python0028.jsonl.zst already exists.\n",
      "python0029.jsonl.zst already exists.\n",
      "python0030.jsonl.zst already exists.\n",
      "python0031.jsonl.zst already exists.\n",
      "python0032.jsonl.zst already exists.\n",
      "python0033.jsonl.zst already exists.\n",
      "python0034.jsonl.zst already exists.\n",
      "python0035.jsonl.zst already exists.\n",
      "python0036.jsonl.zst already exists.\n",
      "python0037.jsonl.zst already exists.\n",
      "python0038.jsonl.zst already exists.\n",
      "python0039.jsonl.zst already exists.\n",
      "python0040.jsonl.zst already exists.\n",
      "python0041.jsonl.zst already exists.\n",
      "All downloads completed.\n",
      "try loading.. ../data/original_dump/python/python0000.jsonl.zst\n"
     ]
    }
   ],
   "source": [
    "from datasets import load_dataset\n",
    "#ds= load_dataset(\"suolyer/pile_stackexchange\",streaming=True,split=\"validation\")\n",
    "\n",
    "#ds=PythonCodeDataset()\n",
    "#ds=OpenMathInstructJa()\n",
    "ds=PilePythonDataset(\"../data/original_dump/python/\")\n",
    "loader=iter(ds)"
   ]
  },
  {
   "cell_type": "code",
   "execution_count": 58,
   "metadata": {},
   "outputs": [
    {
     "data": {
      "text/plain": [
       "<generator object Dataset.__iter__ at 0x14a7041bd5a0>"
      ]
     },
     "execution_count": 58,
     "metadata": {},
     "output_type": "execute_result"
    }
   ],
   "source": [
    "ds.current_loader"
   ]
  },
  {
   "cell_type": "code",
   "execution_count": 63,
   "metadata": {},
   "outputs": [
    {
     "name": "stderr",
     "output_type": "stream",
     "text": [
      "  0%|          | 0/10000 [00:00<?, ?it/s]"
     ]
    },
    {
     "name": "stderr",
     "output_type": "stream",
     "text": [
      "100%|██████████| 10000/10000 [00:01<00:00, 7297.39it/s]\n"
     ]
    }
   ],
   "source": [
    "from tqdm import tqdm\n",
    "for i in tqdm(range(10**4)):\n",
    "    next(loader)"
   ]
  },
  {
   "cell_type": "code",
   "execution_count": 64,
   "metadata": {},
   "outputs": [
    {
     "name": "stdout",
     "output_type": "stream",
     "text": [
      "import numpy as np\n",
      "\n",
      "# Import the model from the auxillary folder\n",
      "import sys\n",
      "sys.path.append(\"aux\")\n",
      "from Example_3_4_aux import myModel\n",
      "\n",
      "np.random.seed(1)\n",
      "\n",
      "# Constants:\n",
      "N = 10\n",
      "Ntest = 100\n",
      "\n",
      "H = 15\n",
      "varType = \"float64\"\n",
      "\n",
      "# Analytical solution\n",
      "real = lambda x,y: np.exp(-x)*(x+y**3)\n",
      "\n",
      "# Create the training data\n",
      "X,Y = np.meshgrid(np.linspace(0,1,N),np.linspace(0,1,N))\n",
      "X = X.flatten(); Y = Y.flatten()\n",
      "inputs = np.vstack([X,Y])\n",
      "\n",
      "inputs = np.array(inputs,dtype=varType).T\n",
      "\n",
      "# Train the class\n",
      "outputs = np.zeros((inputs.shape[0],1),dtype=varType)\n",
      "\n",
      "model = myModel(H)\n",
      "model.trainBfgs(inputs,outputs,maxIter=2000,tol=1e-14)\n",
      "\n",
      "errUTrain = np.abs(model.call(inputs)-np.expand_dims(real(X,Y),1))\n",
      "\n",
      "#: Print out the error statistics for the test set\n",
      "Xtest, Ytest = np.meshgrid(np.linspace(0,1,Ntest),np.linspace(0,1,Ntest))\n",
      "Xtest = Xtest.flatten(); Ytest = Ytest.flatten()\n",
      "\n",
      "test = np.vstack([Xtest,Ytest]).T\n",
      "test = np.array(test,dtype=varType)\n",
      "u = model.call(test)\n",
      "errU = np.abs(u-np.expand_dims(real(Xtest,Ytest),1))\n",
      "\n",
      "print(\"\")\n",
      "print(\"Max Error U Train: \"+str(np.max(errUTrain)))\n",
      "print(\"Mean Error U Train: \"+str(np.mean(errUTrain)))\n",
      "print(\"Max Error U Test: \"+str(np.max(errU)))\n",
      "print(\"Mean Error U Test: \"+str(np.mean(errU)))\n",
      "\n"
     ]
    }
   ],
   "source": [
    "print(next(loader)[\"text\"])"
   ]
  },
  {
   "cell_type": "code",
   "execution_count": null,
   "metadata": {},
   "outputs": [],
   "source": []
  }
 ],
 "metadata": {
  "kernelspec": {
   "display_name": "textprocess",
   "language": "python",
   "name": "python3"
  },
  "language_info": {
   "codemirror_mode": {
    "name": "ipython",
    "version": 3
   },
   "file_extension": ".py",
   "mimetype": "text/x-python",
   "name": "python",
   "nbconvert_exporter": "python",
   "pygments_lexer": "ipython3",
   "version": "3.12.2"
  }
 },
 "nbformat": 4,
 "nbformat_minor": 2
}
