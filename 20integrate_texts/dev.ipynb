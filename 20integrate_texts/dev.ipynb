{
 "cells": [
  {
   "cell_type": "code",
   "execution_count": 1,
   "metadata": {},
   "outputs": [
    {
     "name": "stderr",
     "output_type": "stream",
     "text": [
      "/home/hatakeyama/miniconda3/envs/textprocess/lib/python3.12/site-packages/tqdm/auto.py:21: TqdmWarning: IProgress not found. Please update jupyter and ipywidgets. See https://ipywidgets.readthedocs.io/en/stable/user_install.html\n",
      "  from .autonotebook import tqdm as notebook_tqdm\n"
     ]
    },
    {
     "name": "stdout",
     "output_type": "stream",
     "text": [
      "{'1': 7826, '2': 6053, '3': 12775, '4': 5617, '0': 4325}\n"
     ]
    }
   ],
   "source": [
    "\n",
    "%load_ext autoreload\n",
    "%autoreload 2\n",
    "from loaders.loaders import *\n",
    "from dataset_dict import dataset_dict, output_path\n",
    "from loaders.RecordDistributor import RecordDistributor\n"
   ]
  },
  {
   "cell_type": "code",
   "execution_count": 6,
   "metadata": {},
   "outputs": [
    {
     "name": "stderr",
     "output_type": "stream",
     "text": [
      "/home/hatakeyama/miniconda3/envs/textprocess/lib/python3.12/site-packages/datasets/load.py:1461: FutureWarning: The repository for allenai/peS2o contains custom code which must be executed to correctly load the dataset. You can inspect the repository content at https://hf.co/datasets/allenai/peS2o\n",
      "You can avoid this message in future by passing the argument `trust_remote_code=True`.\n",
      "Passing `trust_remote_code=True` will be mandatory to load this dataset from the next major release of `datasets`.\n",
      "  warnings.warn(\n"
     ]
    }
   ],
   "source": [
    "from datasets import load_dataset\n",
    "ds= load_dataset(\"allenai/peS2o\",streaming=True,split=\"train\")\n",
    "loader=iter(ds)"
   ]
  },
  {
   "cell_type": "code",
   "execution_count": 23,
   "metadata": {},
   "outputs": [
    {
     "data": {
      "text/plain": [
       "{'added': '2018-04-03T04:06:09.115Z',\n",
       " 'created': '1996-06-01T00:00:00.000Z',\n",
       " 'id': '24962770',\n",
       " 'source': 's2ag/train',\n",
       " 'text': 'Two-phase helical CT for pancreatic tumors: pancreatic versus hepatic phase enhancement of tumor, pancreas, and vascular structures.\\n\\nPURPOSE\\nTo quantitatively evaluate and validate a two-phase helical computed tomographic (CT) protocol for evaluation of pancreatic tumors.\\n\\n\\nMATERIALS AND METHODS\\nTwenty-seven patients with pathologically proved pancreatic adenocarcinomas prospectively underwent two-phase CT examination with helical acquisition during the pancreatic phase (40-70 seconds after infusion of intravenous contrast material at 3 mL/sec) and the hepatic phase (70-100 seconds after infusion). Mean CT attenuation values of tumor, bordering pancreas, and all major peripancreatic vessels were obtained for both time intervals.\\n\\n\\nRESULTS\\nMean tumor-pancreas contrast was significantly greater during the pancreatic phase (67 HU +/- 19) than the hepatic phase (39 HU +/- 16) (P < .001) This was the result of both greater enhancement of normal pancreas and lower tumor enhancement during the pancreatic phase. Opacification of all vascular structures, including the portal vein, was also greater during the pancreatic phase (P < .001).\\n\\n\\nCONCLUSION\\nTwo-phase helical CT with pancreatic phase acquisition provides statistically significantly better pancreatic, arterial, and portal venous enhancement than that of hepatic phase imaging, with improved tumor-pancreas contrast.',\n",
       " 'version': 'v2'}"
      ]
     },
     "execution_count": 23,
     "metadata": {},
     "output_type": "execute_result"
    }
   ],
   "source": [
    "next(loader)"
   ]
  },
  {
   "cell_type": "code",
   "execution_count": null,
   "metadata": {},
   "outputs": [],
   "source": []
  }
 ],
 "metadata": {
  "kernelspec": {
   "display_name": "textprocess",
   "language": "python",
   "name": "python3"
  },
  "language_info": {
   "codemirror_mode": {
    "name": "ipython",
    "version": 3
   },
   "file_extension": ".py",
   "mimetype": "text/x-python",
   "name": "python",
   "nbconvert_exporter": "python",
   "pygments_lexer": "ipython3",
   "version": "3.12.2"
  }
 },
 "nbformat": 4,
 "nbformat_minor": 2
}
