{
 "cells": [
  {
   "cell_type": "code",
   "execution_count": 1,
   "metadata": {},
   "outputs": [],
   "source": [
    "# 種々のdatasetをintagrateします\n",
    "# こちらはデータ配分の確認用です｡\n",
    "# 本番ではintegrate_dataset.pyを実行します｡\n",
    "\n",
    "%load_ext autoreload\n",
    "%autoreload 2"
   ]
  },
  {
   "cell_type": "code",
   "execution_count": 3,
   "metadata": {},
   "outputs": [
    {
     "name": "stdout",
     "output_type": "stream",
     "text": [
      "The autoreload extension is already loaded. To reload it, use:\n",
      "  %reload_ext autoreload\n"
     ]
    }
   ],
   "source": [
    "%load_ext autoreload\n",
    "%autoreload 2\n",
    "from src.loaders import *\n",
    "from src.RecordDistributor import RecordDistributor"
   ]
  },
  {
   "cell_type": "code",
   "execution_count": 4,
   "metadata": {},
   "outputs": [
    {
     "data": {
      "text/html": [
       "<div>\n",
       "<style scoped>\n",
       "    .dataframe tbody tr th:only-of-type {\n",
       "        vertical-align: middle;\n",
       "    }\n",
       "\n",
       "    .dataframe tbody tr th {\n",
       "        vertical-align: top;\n",
       "    }\n",
       "\n",
       "    .dataframe thead th {\n",
       "        text-align: right;\n",
       "    }\n",
       "</style>\n",
       "<table border=\"1\" class=\"dataframe\">\n",
       "  <thead>\n",
       "    <tr style=\"text-align: right;\">\n",
       "      <th>Source</th>\n",
       "      <th>CC(ja)</th>\n",
       "      <th>Cosmopodia</th>\n",
       "      <th>NHK-news</th>\n",
       "      <th>aozora-bunko</th>\n",
       "      <th>japanese-ronbun</th>\n",
       "      <th>wiki(en)</th>\n",
       "      <th>wiki(ja)</th>\n",
       "    </tr>\n",
       "    <tr>\n",
       "      <th>Stage</th>\n",
       "      <th></th>\n",
       "      <th></th>\n",
       "      <th></th>\n",
       "      <th></th>\n",
       "      <th></th>\n",
       "      <th></th>\n",
       "      <th></th>\n",
       "    </tr>\n",
       "  </thead>\n",
       "  <tbody>\n",
       "    <tr>\n",
       "      <th>Stage 1</th>\n",
       "      <td>62.602425</td>\n",
       "      <td>0.261365</td>\n",
       "      <td>1.708839</td>\n",
       "      <td>0.171051</td>\n",
       "      <td>0.032295</td>\n",
       "      <td>21.152077</td>\n",
       "      <td>14.071948</td>\n",
       "    </tr>\n",
       "    <tr>\n",
       "      <th>Stage 2</th>\n",
       "      <td>9.231170</td>\n",
       "      <td>1.079140</td>\n",
       "      <td>0.251980</td>\n",
       "      <td>0.025223</td>\n",
       "      <td>0.004762</td>\n",
       "      <td>87.332717</td>\n",
       "      <td>2.075008</td>\n",
       "    </tr>\n",
       "    <tr>\n",
       "      <th>Stage 3</th>\n",
       "      <td>98.010937</td>\n",
       "      <td>0.020460</td>\n",
       "      <td>0.033442</td>\n",
       "      <td>0.003347</td>\n",
       "      <td>0.000632</td>\n",
       "      <td>1.655793</td>\n",
       "      <td>0.275389</td>\n",
       "    </tr>\n",
       "    <tr>\n",
       "      <th>Stage 4</th>\n",
       "      <td>29.544660</td>\n",
       "      <td>0.123349</td>\n",
       "      <td>6.451930</td>\n",
       "      <td>0.645913</td>\n",
       "      <td>0.122298</td>\n",
       "      <td>9.982536</td>\n",
       "      <td>53.129315</td>\n",
       "    </tr>\n",
       "  </tbody>\n",
       "</table>\n",
       "</div>"
      ],
      "text/plain": [
       "Source      CC(ja)  Cosmopodia  NHK-news  aozora-bunko  japanese-ronbun  \\\n",
       "Stage                                                                     \n",
       "Stage 1  62.602425    0.261365  1.708839      0.171051         0.032295   \n",
       "Stage 2   9.231170    1.079140  0.251980      0.025223         0.004762   \n",
       "Stage 3  98.010937    0.020460  0.033442      0.003347         0.000632   \n",
       "Stage 4  29.544660    0.123349  6.451930      0.645913         0.122298   \n",
       "\n",
       "Source    wiki(en)   wiki(ja)  \n",
       "Stage                          \n",
       "Stage 1  21.152077  14.071948  \n",
       "Stage 2  87.332717   2.075008  \n",
       "Stage 3   1.655793   0.275389  \n",
       "Stage 4   9.982536  53.129315  "
      ]
     },
     "execution_count": 4,
     "metadata": {},
     "output_type": "execute_result"
    }
   ],
   "source": [
    "from dataset_dict import dataset_dict\n",
    "distributor=RecordDistributor(dataset_dict)\n",
    "distributor.percent_df"
   ]
  },
  {
   "cell_type": "code",
   "execution_count": 5,
   "metadata": {},
   "outputs": [
    {
     "data": {
      "text/html": [
       "<div>\n",
       "<style scoped>\n",
       "    .dataframe tbody tr th:only-of-type {\n",
       "        vertical-align: middle;\n",
       "    }\n",
       "\n",
       "    .dataframe tbody tr th {\n",
       "        vertical-align: top;\n",
       "    }\n",
       "\n",
       "    .dataframe thead th {\n",
       "        text-align: right;\n",
       "    }\n",
       "</style>\n",
       "<table border=\"1\" class=\"dataframe\">\n",
       "  <thead>\n",
       "    <tr style=\"text-align: right;\">\n",
       "      <th>Source</th>\n",
       "      <th>CC(ja)</th>\n",
       "      <th>Cosmopodia</th>\n",
       "      <th>NHK-news</th>\n",
       "      <th>aozora-bunko</th>\n",
       "      <th>japanese-ronbun</th>\n",
       "      <th>wiki(en)</th>\n",
       "      <th>wiki(ja)</th>\n",
       "      <th>Sum</th>\n",
       "    </tr>\n",
       "    <tr>\n",
       "      <th>Stage</th>\n",
       "      <th></th>\n",
       "      <th></th>\n",
       "      <th></th>\n",
       "      <th></th>\n",
       "      <th></th>\n",
       "      <th></th>\n",
       "      <th></th>\n",
       "      <th></th>\n",
       "    </tr>\n",
       "  </thead>\n",
       "  <tbody>\n",
       "    <tr>\n",
       "      <th>Stage 1</th>\n",
       "      <td>562156</td>\n",
       "      <td>2347</td>\n",
       "      <td>15345</td>\n",
       "      <td>1536</td>\n",
       "      <td>290</td>\n",
       "      <td>189941</td>\n",
       "      <td>126363</td>\n",
       "      <td>897978</td>\n",
       "    </tr>\n",
       "    <tr>\n",
       "      <th>Stage 2</th>\n",
       "      <td>562156</td>\n",
       "      <td>65717</td>\n",
       "      <td>15345</td>\n",
       "      <td>1536</td>\n",
       "      <td>290</td>\n",
       "      <td>5318352</td>\n",
       "      <td>126363</td>\n",
       "      <td>6089759</td>\n",
       "    </tr>\n",
       "    <tr>\n",
       "      <th>Stage 3</th>\n",
       "      <td>44972530</td>\n",
       "      <td>9388</td>\n",
       "      <td>15345</td>\n",
       "      <td>1536</td>\n",
       "      <td>290</td>\n",
       "      <td>759764</td>\n",
       "      <td>126363</td>\n",
       "      <td>45885216</td>\n",
       "    </tr>\n",
       "    <tr>\n",
       "      <th>Stage 4</th>\n",
       "      <td>562156</td>\n",
       "      <td>2347</td>\n",
       "      <td>122763</td>\n",
       "      <td>12290</td>\n",
       "      <td>2327</td>\n",
       "      <td>189941</td>\n",
       "      <td>1010909</td>\n",
       "      <td>1902733</td>\n",
       "    </tr>\n",
       "  </tbody>\n",
       "</table>\n",
       "</div>"
      ],
      "text/plain": [
       "Source     CC(ja)  Cosmopodia  NHK-news  aozora-bunko  japanese-ronbun  \\\n",
       "Stage                                                                    \n",
       "Stage 1    562156        2347     15345          1536              290   \n",
       "Stage 2    562156       65717     15345          1536              290   \n",
       "Stage 3  44972530        9388     15345          1536              290   \n",
       "Stage 4    562156        2347    122763         12290             2327   \n",
       "\n",
       "Source   wiki(en)  wiki(ja)       Sum  \n",
       "Stage                                  \n",
       "Stage 1    189941    126363    897978  \n",
       "Stage 2   5318352    126363   6089759  \n",
       "Stage 3    759764    126363  45885216  \n",
       "Stage 4    189941   1010909   1902733  "
      ]
     },
     "execution_count": 5,
     "metadata": {},
     "output_type": "execute_result"
    }
   ],
   "source": [
    "\n",
    "distributor.record_df"
   ]
  },
  {
   "cell_type": "code",
   "execution_count": null,
   "metadata": {},
   "outputs": [],
   "source": [
    "#distributor.load_datasets()"
   ]
  },
  {
   "cell_type": "code",
   "execution_count": null,
   "metadata": {},
   "outputs": [],
   "source": [
    "import random\n",
    "from tqdm import tqdm\n",
    "#distributor.write_jsonl(output_path,overwrite=conf[\"overwrite\"])"
   ]
  },
  {
   "cell_type": "code",
   "execution_count": null,
   "metadata": {},
   "outputs": [],
   "source": []
  }
 ],
 "metadata": {
  "kernelspec": {
   "display_name": "scr",
   "language": "python",
   "name": "python3"
  },
  "language_info": {
   "codemirror_mode": {
    "name": "ipython",
    "version": 3
   },
   "file_extension": ".py",
   "mimetype": "text/x-python",
   "name": "python",
   "nbconvert_exporter": "python",
   "pygments_lexer": "ipython3",
   "version": "3.11.5"
  }
 },
 "nbformat": 4,
 "nbformat_minor": 2
}
