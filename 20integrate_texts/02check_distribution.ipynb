{
 "cells": [
  {
   "cell_type": "code",
   "execution_count": 1,
   "metadata": {},
   "outputs": [],
   "source": [
    "# 種々のdatasetをintagrateします\n",
    "# こちらはデータ配分の確認用です｡\n",
    "# 本番ではintegrate_dataset.pyを実行します｡\n",
    "\n",
    "%load_ext autoreload\n",
    "%autoreload 2"
   ]
  },
  {
   "cell_type": "code",
   "execution_count": 2,
   "metadata": {},
   "outputs": [
    {
     "name": "stderr",
     "output_type": "stream",
     "text": [
      "/home/hatakeyama/miniconda3/envs/textprocess/lib/python3.12/site-packages/tqdm/auto.py:21: TqdmWarning: IProgress not found. Please update jupyter and ipywidgets. See https://ipywidgets.readthedocs.io/en/stable/user_install.html\n",
      "  from .autonotebook import tqdm as notebook_tqdm\n"
     ]
    }
   ],
   "source": [
    "from loaders.loaders import *\n",
    "from loaders.RecordDistributor import RecordDistributor"
   ]
  },
  {
   "cell_type": "code",
   "execution_count": 3,
   "metadata": {},
   "outputs": [
    {
     "name": "stdout",
     "output_type": "stream",
     "text": [
      "{'1': 12387, '2': 8143, '0': 3963, '3': 6057, '4': 5618}\n"
     ]
    },
    {
     "data": {
      "text/html": [
       "<div>\n",
       "<style scoped>\n",
       "    .dataframe tbody tr th:only-of-type {\n",
       "        vertical-align: middle;\n",
       "    }\n",
       "\n",
       "    .dataframe tbody tr th {\n",
       "        vertical-align: top;\n",
       "    }\n",
       "\n",
       "    .dataframe thead th {\n",
       "        text-align: right;\n",
       "    }\n",
       "</style>\n",
       "<table border=\"1\" class=\"dataframe\">\n",
       "  <thead>\n",
       "    <tr style=\"text-align: right;\">\n",
       "      <th>Source</th>\n",
       "      <th>ja0</th>\n",
       "      <th>ja1</th>\n",
       "      <th>ja2</th>\n",
       "      <th>ja3</th>\n",
       "      <th>ja4</th>\n",
       "      <th>wiki(en)</th>\n",
       "    </tr>\n",
       "    <tr>\n",
       "      <th>Stage</th>\n",
       "      <th></th>\n",
       "      <th></th>\n",
       "      <th></th>\n",
       "      <th></th>\n",
       "      <th></th>\n",
       "      <th></th>\n",
       "    </tr>\n",
       "  </thead>\n",
       "  <tbody>\n",
       "    <tr>\n",
       "      <th>Stage 1</th>\n",
       "      <td>4.896266</td>\n",
       "      <td>18.879668</td>\n",
       "      <td>11.825726</td>\n",
       "      <td>8.381743</td>\n",
       "      <td>7.634855</td>\n",
       "      <td>48.381743</td>\n",
       "    </tr>\n",
       "    <tr>\n",
       "      <th>Stage 2</th>\n",
       "      <td>66.685425</td>\n",
       "      <td>12.802476</td>\n",
       "      <td>8.019133</td>\n",
       "      <td>5.683737</td>\n",
       "      <td>5.177265</td>\n",
       "      <td>1.631964</td>\n",
       "    </tr>\n",
       "    <tr>\n",
       "      <th>Stage 3</th>\n",
       "      <td>1.185215</td>\n",
       "      <td>91.492567</td>\n",
       "      <td>2.862595</td>\n",
       "      <td>2.028927</td>\n",
       "      <td>1.848132</td>\n",
       "      <td>0.582563</td>\n",
       "    </tr>\n",
       "    <tr>\n",
       "      <th>Stage 4</th>\n",
       "      <td>1.753083</td>\n",
       "      <td>6.759768</td>\n",
       "      <td>84.890804</td>\n",
       "      <td>3.001040</td>\n",
       "      <td>2.733621</td>\n",
       "      <td>0.861685</td>\n",
       "    </tr>\n",
       "    <tr>\n",
       "      <th>Stage 5</th>\n",
       "      <td>2.293489</td>\n",
       "      <td>8.843537</td>\n",
       "      <td>5.539359</td>\n",
       "      <td>78.620019</td>\n",
       "      <td>3.576288</td>\n",
       "      <td>1.127308</td>\n",
       "    </tr>\n",
       "    <tr>\n",
       "      <th>Stage 6</th>\n",
       "      <td>2.452203</td>\n",
       "      <td>9.455528</td>\n",
       "      <td>5.922693</td>\n",
       "      <td>4.197839</td>\n",
       "      <td>76.766417</td>\n",
       "      <td>1.205320</td>\n",
       "    </tr>\n",
       "  </tbody>\n",
       "</table>\n",
       "</div>"
      ],
      "text/plain": [
       "Source         ja0        ja1        ja2        ja3        ja4   wiki(en)\n",
       "Stage                                                                    \n",
       "Stage 1   4.896266  18.879668  11.825726   8.381743   7.634855  48.381743\n",
       "Stage 2  66.685425  12.802476   8.019133   5.683737   5.177265   1.631964\n",
       "Stage 3   1.185215  91.492567   2.862595   2.028927   1.848132   0.582563\n",
       "Stage 4   1.753083   6.759768  84.890804   3.001040   2.733621   0.861685\n",
       "Stage 5   2.293489   8.843537   5.539359  78.620019   3.576288   1.127308\n",
       "Stage 6   2.452203   9.455528   5.922693   4.197839  76.766417   1.205320"
      ]
     },
     "execution_count": 3,
     "metadata": {},
     "output_type": "execute_result"
    }
   ],
   "source": [
    "from dataset_dict import dataset_dict\n",
    "distributor=RecordDistributor(dataset_dict)\n",
    "distributor.percent_df"
   ]
  },
  {
   "cell_type": "code",
   "execution_count": 4,
   "metadata": {},
   "outputs": [
    {
     "data": {
      "text/html": [
       "<div>\n",
       "<style scoped>\n",
       "    .dataframe tbody tr th:only-of-type {\n",
       "        vertical-align: middle;\n",
       "    }\n",
       "\n",
       "    .dataframe tbody tr th {\n",
       "        vertical-align: top;\n",
       "    }\n",
       "\n",
       "    .dataframe thead th {\n",
       "        text-align: right;\n",
       "    }\n",
       "</style>\n",
       "<table border=\"1\" class=\"dataframe\">\n",
       "  <thead>\n",
       "    <tr style=\"text-align: right;\">\n",
       "      <th>Source</th>\n",
       "      <th>ja0</th>\n",
       "      <th>ja1</th>\n",
       "      <th>ja2</th>\n",
       "      <th>ja3</th>\n",
       "      <th>ja4</th>\n",
       "      <th>wiki(en)</th>\n",
       "      <th>Sum</th>\n",
       "    </tr>\n",
       "    <tr>\n",
       "      <th>Stage</th>\n",
       "      <th></th>\n",
       "      <th></th>\n",
       "      <th></th>\n",
       "      <th></th>\n",
       "      <th></th>\n",
       "      <th></th>\n",
       "      <th></th>\n",
       "    </tr>\n",
       "  </thead>\n",
       "  <tbody>\n",
       "    <tr>\n",
       "      <th>Stage 1</th>\n",
       "      <td>118</td>\n",
       "      <td>455</td>\n",
       "      <td>285</td>\n",
       "      <td>202</td>\n",
       "      <td>184</td>\n",
       "      <td>1166</td>\n",
       "      <td>2410</td>\n",
       "    </tr>\n",
       "    <tr>\n",
       "      <th>Stage 2</th>\n",
       "      <td>2370</td>\n",
       "      <td>455</td>\n",
       "      <td>285</td>\n",
       "      <td>202</td>\n",
       "      <td>184</td>\n",
       "      <td>58</td>\n",
       "      <td>3554</td>\n",
       "    </tr>\n",
       "    <tr>\n",
       "      <th>Stage 3</th>\n",
       "      <td>118</td>\n",
       "      <td>9109</td>\n",
       "      <td>285</td>\n",
       "      <td>202</td>\n",
       "      <td>184</td>\n",
       "      <td>58</td>\n",
       "      <td>9956</td>\n",
       "    </tr>\n",
       "    <tr>\n",
       "      <th>Stage 4</th>\n",
       "      <td>118</td>\n",
       "      <td>455</td>\n",
       "      <td>5714</td>\n",
       "      <td>202</td>\n",
       "      <td>184</td>\n",
       "      <td>58</td>\n",
       "      <td>6731</td>\n",
       "    </tr>\n",
       "    <tr>\n",
       "      <th>Stage 5</th>\n",
       "      <td>118</td>\n",
       "      <td>455</td>\n",
       "      <td>285</td>\n",
       "      <td>4045</td>\n",
       "      <td>184</td>\n",
       "      <td>58</td>\n",
       "      <td>5145</td>\n",
       "    </tr>\n",
       "    <tr>\n",
       "      <th>Stage 6</th>\n",
       "      <td>118</td>\n",
       "      <td>455</td>\n",
       "      <td>285</td>\n",
       "      <td>202</td>\n",
       "      <td>3694</td>\n",
       "      <td>58</td>\n",
       "      <td>4812</td>\n",
       "    </tr>\n",
       "  </tbody>\n",
       "</table>\n",
       "</div>"
      ],
      "text/plain": [
       "Source    ja0   ja1   ja2   ja3   ja4  wiki(en)   Sum\n",
       "Stage                                                \n",
       "Stage 1   118   455   285   202   184      1166  2410\n",
       "Stage 2  2370   455   285   202   184        58  3554\n",
       "Stage 3   118  9109   285   202   184        58  9956\n",
       "Stage 4   118   455  5714   202   184        58  6731\n",
       "Stage 5   118   455   285  4045   184        58  5145\n",
       "Stage 6   118   455   285   202  3694        58  4812"
      ]
     },
     "execution_count": 4,
     "metadata": {},
     "output_type": "execute_result"
    }
   ],
   "source": [
    "\n",
    "distributor.record_df"
   ]
  },
  {
   "cell_type": "code",
   "execution_count": 5,
   "metadata": {},
   "outputs": [],
   "source": [
    "#distributor.load_datasets()"
   ]
  },
  {
   "cell_type": "code",
   "execution_count": 6,
   "metadata": {},
   "outputs": [],
   "source": [
    "import random\n",
    "from tqdm import tqdm\n",
    "#distributor.write_jsonl(output_path,overwrite=conf[\"overwrite\"])"
   ]
  },
  {
   "cell_type": "code",
   "execution_count": null,
   "metadata": {},
   "outputs": [],
   "source": []
  }
 ],
 "metadata": {
  "kernelspec": {
   "display_name": "scr",
   "language": "python",
   "name": "python3"
  },
  "language_info": {
   "codemirror_mode": {
    "name": "ipython",
    "version": 3
   },
   "file_extension": ".py",
   "mimetype": "text/x-python",
   "name": "python",
   "nbconvert_exporter": "python",
   "pygments_lexer": "ipython3",
   "version": "3.12.2"
  }
 },
 "nbformat": 4,
 "nbformat_minor": 2
}
