{
 "cells": [
  {
   "cell_type": "code",
   "execution_count": 1,
   "metadata": {},
   "outputs": [],
   "source": [
    "%load_ext autoreload\n",
    "%autoreload 2"
   ]
  },
  {
   "cell_type": "code",
   "execution_count": 7,
   "metadata": {},
   "outputs": [
    {
     "data": {
      "text/plain": [
       "7124668"
      ]
     },
     "execution_count": 7,
     "metadata": {},
     "output_type": "execute_result"
    }
   ],
   "source": [
    "#ファイル内で重複を順次、監視する\n",
    "import glob\n",
    "path_list=glob.glob(\"../data/categorized/*/*.jsonl\")\n",
    "len(path_list)"
   ]
  },
  {
   "cell_type": "code",
   "execution_count": 16,
   "metadata": {},
   "outputs": [],
   "source": [
    "import glob\n",
    "import os\n",
    "import json\n",
    "import random\n",
    "import string\n",
    "from datetime import datetime, timedelta\n",
    "\n",
    "# 指定したフォルダ内のファイルを検索\n",
    "cluster_id=0\n",
    "path_list = glob.glob(f\"../data/categorized/{cluster_id}/*.jsonl\")\n",
    "\n",
    "# 条件に合致するファイルを選ぶ\n",
    "eligible_files = []\n",
    "for file_path in path_list:\n",
    "    # ファイルの最終更新時間とサイズをチェック\n",
    "    stats = os.stat(file_path)\n",
    "    file_size = stats.st_size\n",
    "    last_modified = datetime.fromtimestamp(stats.st_mtime)\n",
    "    if file_size <= 1 * 1024 * 1024 and (datetime.now() - last_modified) > timedelta(minutes=5):\n",
    "        eligible_files.append(file_path)\n",
    "\n",
    "# 条件に合う2つのファイルをランダムに選び、統合\n",
    "if len(eligible_files) >= 2:\n",
    "    selected_files = random.sample(eligible_files, 2)\n",
    "    combined_data = []\n",
    "    for file_path in selected_files:\n",
    "        with open(file_path,\"r\") as f:\n",
    "            lines=f.readlines()\n",
    "            combined_data+=lines\n",
    "    \n",
    "    # 新しいランダムなファイル名を生成\n",
    "    random_name = \"00\"+''.join(random.choices(string.ascii_letters + string.digits, k=10)) + '.jsonl'\n",
    "    new_path = os.path.join(os.path.dirname(selected_files[0]), random_name)\n",
    "    combined_data = list(set(combined_data)) \n",
    "    # 統合したデータを新しいファイルに保存\n",
    "    with open(new_path,\"w\") as f:\n",
    "        f.writelines(combined_data)\n",
    " \n",
    "    \n",
    "    # 元のファイルを削除\n",
    "    for file_path in selected_files:\n",
    "        os.remove(file_path)"
   ]
  },
  {
   "cell_type": "code",
   "execution_count": null,
   "metadata": {},
   "outputs": [],
   "source": []
  }
 ],
 "metadata": {
  "kernelspec": {
   "display_name": "textprocess",
   "language": "python",
   "name": "python3"
  },
  "language_info": {
   "codemirror_mode": {
    "name": "ipython",
    "version": 3
   },
   "file_extension": ".py",
   "mimetype": "text/x-python",
   "name": "python",
   "nbconvert_exporter": "python",
   "pygments_lexer": "ipython3",
   "version": "3.12.2"
  }
 },
 "nbformat": 4,
 "nbformat_minor": 2
}
