{
 "cells": [
  {
   "cell_type": "code",
   "execution_count": null,
   "metadata": {},
   "outputs": [],
   "source": [
    "%load_ext autoreload\n",
    "%autoreload 2"
   ]
  },
  {
   "cell_type": "code",
   "execution_count": null,
   "metadata": {},
   "outputs": [],
   "source": [
    "import glob\n",
    "import os\n",
    "import json\n",
    "import random\n",
    "import string\n",
    "from rapidfuzz.process import cdist\n",
    "# 指定したフォルダ内のファイルを検索\n",
    "cluster_id=2\n",
    "#cluster_id=0\n",
    "path_list = glob.glob(f\"../data/categorized/{cluster_id}/*.jsonl\")\n"
   ]
  },
  {
   "cell_type": "code",
   "execution_count": 19,
   "metadata": {},
   "outputs": [
    {
     "data": {
      "text/plain": [
       "49104"
      ]
     },
     "execution_count": 19,
     "metadata": {},
     "output_type": "execute_result"
    }
   ],
   "source": [
    "\n",
    "all_lines=[]\n",
    "for path in path_list:\n",
    "    with open(path,\"r\") as f:\n",
    "        lines=f.readlines()\n",
    "    lines=[i[10:-3] for i in lines]\n",
    "    #lines=[i[10:10+check_lengh] for i in lines]\n",
    "    all_lines+=lines\n",
    "\n",
    "#普通の重複検出\n",
    "all_lines=list(set(all_lines))\n",
    "len(all_lines)\n"
   ]
  },
  {
   "cell_type": "code",
   "execution_count": 20,
   "metadata": {},
   "outputs": [
    {
     "ename": "ImportError",
     "evalue": "cannot import name 'dedup_lines' from 'src.RapidFuzzDedup' (/media/hatakeyama/python/Dataset_for_BTM/01web_codes/src/RapidFuzzDedup.py)",
     "output_type": "error",
     "traceback": [
      "\u001b[0;31m---------------------------------------------------------------------------\u001b[0m",
      "\u001b[0;31mImportError\u001b[0m                               Traceback (most recent call last)",
      "Cell \u001b[0;32mIn[20], line 3\u001b[0m\n\u001b[1;32m      1\u001b[0m \u001b[38;5;28;01mimport\u001b[39;00m \u001b[38;5;21;01mtime\u001b[39;00m\n\u001b[1;32m      2\u001b[0m \u001b[38;5;28;01mimport\u001b[39;00m \u001b[38;5;21;01mnumpy\u001b[39;00m \u001b[38;5;28;01mas\u001b[39;00m \u001b[38;5;21;01mnp\u001b[39;00m\n\u001b[0;32m----> 3\u001b[0m \u001b[38;5;28;01mfrom\u001b[39;00m \u001b[38;5;21;01msrc\u001b[39;00m\u001b[38;5;21;01m.\u001b[39;00m\u001b[38;5;21;01mRapidFuzzDedup\u001b[39;00m \u001b[38;5;28;01mimport\u001b[39;00m dedup_lines\n\u001b[1;32m      4\u001b[0m check_lengh\u001b[38;5;241m=\u001b[39m\u001b[38;5;241m100\u001b[39m\n\u001b[1;32m      5\u001b[0m check_n\u001b[38;5;241m=\u001b[39m\u001b[38;5;241m5\u001b[39m\n",
      "\u001b[0;31mImportError\u001b[0m: cannot import name 'dedup_lines' from 'src.RapidFuzzDedup' (/media/hatakeyama/python/Dataset_for_BTM/01web_codes/src/RapidFuzzDedup.py)"
     ]
    },
    {
     "ename": "",
     "evalue": "",
     "output_type": "error",
     "traceback": [
      "\u001b[1;31m現在のセルまたは前のセルでコードを実行中に、カーネル (Kernel) がクラッシュしました。\n",
      "\u001b[1;31mエラーの原因を特定するには、セル内のコードを確認してください。\n",
      "\u001b[1;31m詳細については<a href='https://aka.ms/vscodeJupyterKernelCrash'>こちら</a>をクリックします。\n",
      "\u001b[1;31m詳細については、Jupyter <a href='command:jupyter.viewOutput'>ログ</a> を参照してください。"
     ]
    }
   ],
   "source": [
    "import time\n",
    "import numpy as np\n",
    "from src.RapidFuzzDedup import dedup_lines\n",
    "check_lengh=100\n",
    "check_n=5\n",
    "n_workers=16\n",
    "threshold=90\n",
    "check_lines=all_lines[:check_n]\n",
    "deduped_lines=dedup_lines(check_lines,check_length=check_length,n_workers=n_workers,threshold=threshold)"
   ]
  },
  {
   "cell_type": "code",
   "execution_count": 7,
   "metadata": {},
   "outputs": [
    {
     "data": {
      "text/plain": [
       "['飛躍的な再生可能エネルギーの導入を確実に実現していくためには具体的な計画とこれに対する不断の検証が必要となる。まずは「グリーン政策大綱」を対象とし、その後も具体的な計画、実施、検証というPDCAサイク',\n",
       " '具体的な改善方法やアクションプランの策定に困っていませんか?',\n",
       " 'これからも様々な可能性を追求して、あきらめることなく新たな挑戦をしていきますので、今後ともKSK北海道の活躍にご期待ください。',\n",
       " 'アメリカにはプロフェッショナル・エンジニアリングというプログラムがあります。このプログラムはだれでも受講することができ、PEと呼ばれています。これに相当するものが日本でも早晩出てくる可能性があります。',\n",
       " '★ Emery:エネルギー推進の為に働くものもあれば、再生に関するものもあります。']"
      ]
     },
     "execution_count": 7,
     "metadata": {},
     "output_type": "execute_result"
    }
   ],
   "source": [
    "check_lines"
   ]
  },
  {
   "cell_type": "code",
   "execution_count": 15,
   "metadata": {},
   "outputs": [
    {
     "data": {
      "text/plain": [
       "[0, 1, 2, 3, 4]"
      ]
     },
     "execution_count": 15,
     "metadata": {},
     "output_type": "execute_result"
    }
   ],
   "source": [
    "\n",
    "deduped_ids = get_deduped_ids(similarity_scores,threshold=30)\n",
    "deduped_ids\n"
   ]
  },
  {
   "cell_type": "code",
   "execution_count": 9,
   "metadata": {},
   "outputs": [
    {
     "data": {
      "text/plain": [
       "array([[100.      ,  10.769231,  19.631903,  13.      ,  19.858156],\n",
       "       [ 10.769231, 100.      ,   8.602151,  15.384615,   8.450705],\n",
       "       [ 19.631903,   8.602151, 100.      ,  18.404907,  11.538462],\n",
       "       [ 13.      ,  15.384615,  18.404907, 100.      ,  21.276596],\n",
       "       [ 19.858156,   8.450705,  11.538462,  21.276596, 100.      ]],\n",
       "      dtype=float32)"
      ]
     },
     "execution_count": 9,
     "metadata": {},
     "output_type": "execute_result"
    }
   ],
   "source": [
    "similarity_scores"
   ]
  },
  {
   "cell_type": "code",
   "execution_count": 34,
   "metadata": {},
   "outputs": [
    {
     "name": "stdout",
     "output_type": "stream",
     "text": [
      "[0]\n"
     ]
    }
   ],
   "source": [
    "# 重複を除外した行のIDリストを作成\n",
    "\n",
    "# 重複されていない行のIDを出力\n",
    "print(deduped_ids)"
   ]
  },
  {
   "cell_type": "code",
   "execution_count": 110,
   "metadata": {},
   "outputs": [
    {
     "data": {
      "text/plain": [
       "Text(0, 0.5, 'time (s)')"
      ]
     },
     "execution_count": 110,
     "metadata": {},
     "output_type": "execute_result"
    },
    {
     "data": {
      "image/png": "[encoded data removed]",
      "text/plain": [
       "<Figure size 640x480 with 1 Axes>"
      ]
     },
     "metadata": {},
     "output_type": "display_data"
    }
   ],
   "source": [
    "import pandas as pd\n",
    "from matplotlib import pyplot as plt\n",
    "df=pd.DataFrame(res_list)\n",
    "\n",
    "\n",
    "\n",
    "plt.scatter(df[\"check_n\"],df[\"time\"])\n",
    "#x軸をlogスケールにする\n",
    "plt.yscale(\"log\")\n",
    "plt.xscale(\"log\")\n",
    "plt.xlabel(\"records\")\n",
    "plt.ylabel(\"time (s)\")"
   ]
  },
  {
   "cell_type": "code",
   "execution_count": null,
   "metadata": {},
   "outputs": [],
   "source": [
    "\n",
    "import joblib\n",
    "from hojichar import deduplication, Document\n",
    "class Deduplicator:\n",
    "    def __init__(self, hasher, cache_path=\"cache\", init=False):\n",
    "        self.hasher = hasher\n",
    "        self.cache_path = cache_path\n",
    "        if init:\n",
    "            self.seen = set()\n",
    "        else:\n",
    "            try:\n",
    "                self.seen = joblib.load(self.cache_path)\n",
    "            except FileNotFoundError:\n",
    "                print(\"No cache found, initializing new cache.\")\n",
    "                self.seen = set()\n",
    "\n",
    "    def is_duplicated(self, text):\n",
    "        doc = Document(text)\n",
    "        self.hasher.apply(doc)\n",
    "\n",
    "        for lsh in doc.dedup_lsh:\n",
    "            if lsh in self.seen:\n",
    "                self.seen.add(lsh)\n",
    "                return True\n",
    "\n",
    "            self.seen.add(lsh)\n",
    "        return False\n",
    "\n",
    "    def save_state(self):\n",
    "        joblib.dump(self.seen, self.cache_path)"
   ]
  },
  {
   "cell_type": "code",
   "execution_count": 92,
   "metadata": {},
   "outputs": [
    {
     "name": "stdout",
     "output_type": "stream",
     "text": [
      "No cache found, initializing new cache.\n",
      "check_n:100 time:4.875152587890625\n",
      "No cache found, initializing new cache.\n",
      "check_n:200 time:5.544226408004761\n",
      "No cache found, initializing new cache.\n",
      "check_n:500 time:8.497542381286621\n",
      "No cache found, initializing new cache.\n",
      "check_n:1000 time:12.539214372634888\n",
      "No cache found, initializing new cache.\n",
      "check_n:2000 time:24.438169240951538\n"
     ]
    }
   ],
   "source": [
    "check_n=10000\n",
    "res_list=[]\n",
    "\n",
    "for check_n in [100,200,500,1000,2000]:\n",
    "    dedup=Deduplicator( deduplication.GenerateDedupLSH())\n",
    "    start = time.time()\n",
    "    for i in range(check_n):\n",
    "        (dedup.is_duplicated(all_lines[i]))\n",
    "    print(f\"check_n:{check_n} time:{time.time()-start}\")\n",
    "    res_list.append({\"check_n\":check_n,\"time\":time.time()-start})"
   ]
  },
  {
   "cell_type": "code",
   "execution_count": null,
   "metadata": {},
   "outputs": [],
   "source": []
  }
 ],
 "metadata": {
  "kernelspec": {
   "display_name": "textprocess",
   "language": "python",
   "name": "python3"
  },
  "language_info": {
   "codemirror_mode": {
    "name": "ipython",
    "version": 3
   },
   "file_extension": ".py",
   "mimetype": "text/x-python",
   "name": "python",
   "nbconvert_exporter": "python",
   "pygments_lexer": "ipython3",
   "version": "3.12.2"
  }
 },
 "nbformat": 4,
 "nbformat_minor": 2
}
