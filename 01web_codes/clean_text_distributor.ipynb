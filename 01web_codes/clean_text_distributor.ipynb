{
 "cells": [
  {
   "cell_type": "code",
   "execution_count": 1,
   "metadata": {},
   "outputs": [],
   "source": [
    "#きれいなテキストを分配する\n",
    "#TODO: code重複"
   ]
  },
  {
   "cell_type": "code",
   "execution_count": 1,
   "metadata": {},
   "outputs": [],
   "source": [
    "from src.cleaner.auto_cleaner import clean_text\n",
    "import argparse\n",
    "import json\n",
    "import os\n",
    "from src.classify.Text2Vec import Text2Vec, texts2classes\n",
    "from src.cleaner.auto_cleaner import clean_text, ml_clean_text\n",
    "from gensim.models.fasttext import load_facebook_model\n",
    "import joblib"
   ]
  },
  {
   "cell_type": "code",
   "execution_count": 9,
   "metadata": {},
   "outputs": [],
   "source": [
    "streaming = True\n",
    "base_dir = \"../data/categorized\"\n",
    "length_threshold = 30  # 短い記事は捨てる\n",
    "check_length = 200  # はじめのlengthだけで分類する\n",
    "\n",
    "\n",
    "# load models\n",
    "t2v = Text2Vec(load_facebook_model('../data/model/cc.ja.300.bin'))\n",
    "kmeans = joblib.load(\"../data/model/kmeans.pkl\")\n"
   ]
  },
  {
   "cell_type": "code",
   "execution_count": 19,
   "metadata": {},
   "outputs": [],
   "source": [
    "\n",
    "def make_dir(path):\n",
    "    if not os.path.exists(path):\n",
    "        os.mkdir(path)\n",
    "\n",
    "def proc(docs,database_name):\n",
    "    # docsを処理する関数\n",
    "    # ここに処理のロジックを実装します\n",
    "    print(f\"Processing {len(docs)} documents...\")\n",
    "    categories = texts2classes(docs, t2v, kmeans, length=check_length)\n",
    "\n",
    "    for text, category in zip(docs, categories):\n",
    "        #print(categories,text)\n",
    "        save_dir = f\"{base_dir}/{category}\"\n",
    "\n",
    "        make_dir(save_dir)\n",
    "        data = json.dumps(\n",
    "            {\n",
    "                # \"db\": database_name, #特に必要ない｡storage 節約\n",
    "                \"text\": text},\n",
    "            ensure_ascii=False\n",
    "        )\n",
    "        database_name = database_name.replace(\".json\", \"\").replace(\".gz\", \"\")\n",
    "        with open(f\"{save_dir}/{database_name}.jsonl\", \"a\") as f:\n",
    "            f.write(data+\"\\n\")\n",
    "\n",
    "    return len(docs)\n"
   ]
  },
  {
   "cell_type": "code",
   "execution_count": 22,
   "metadata": {},
   "outputs": [
    {
     "name": "stderr",
     "output_type": "stream",
     "text": [
      "/home/hatakeyama/miniconda3/envs/textprocess/lib/python3.12/site-packages/datasets/load.py:2516: FutureWarning: 'use_auth_token' was deprecated in favor of 'token' in version 2.14.0 and will be removed in 3.0.0.\n",
      "You can remove this warning by passing 'token=<use_auth_token>' instead.\n",
      "  warnings.warn(\n",
      "Repo card metadata block was not found. Setting CardData to empty.\n",
      "Filter: 100%|██████████| 1395760/1395760 [00:31<00:00, 44958.24 examples/s]\n"
     ]
    }
   ],
   "source": [
    "import sys\n",
    "sys.path.append(\"../20integrate_texts/\")\n",
    "from loaders.loaders import *\n",
    "length_threshold = 100\n",
    "batch_size=10000\n",
    "\n",
    "loader_dict={\n",
    "    \"NHK_School\":NHKSchool_loader(),\n",
    "    \"WikiQA\":wiki_qa_loader(),\n",
    "    \"Wiki\":cleaned_wiki_loader(),\n",
    "    \"NHK_News\":nhk_news_loader(),\n",
    "    \"aozora\":aozora_bunko_loader(),\n",
    "    \"j_ronbun\":j_research_loader(),\n",
    "    #\"cosmo\":cosmo_loader(),\n",
    "}"
   ]
  },
  {
   "cell_type": "code",
   "execution_count": 23,
   "metadata": {},
   "outputs": [
    {
     "name": "stdout",
     "output_type": "stream",
     "text": [
      "Processing 4522 documents...\n"
     ]
    }
   ],
   "source": [
    "\n",
    "\n",
    "\n",
    "for doc_name,loader in loader_dict.items():\n",
    "    docs = []\n",
    "    lines = []\n",
    "    for record in iter(loader):\n",
    "        lines.append(record[\"text\"])\n",
    "\n",
    "    cnt=0\n",
    "    for text in lines:\n",
    "        text = clean_text(text)\n",
    "        if len(text) < length_threshold:\n",
    "            continue\n",
    "\n",
    "        docs.append(text)\n",
    "        if len(docs) == batch_size:\n",
    "            # docsのコピーを作成してprocに渡す\n",
    "            proc(docs[:],doc_name+str(cnt))\n",
    "            # docsをリセット\n",
    "            docs = []\n",
    "            cnt+=1\n",
    "\n",
    "    proc(docs[:],doc_name+str(cnt))"
   ]
  },
  {
   "cell_type": "code",
   "execution_count": null,
   "metadata": {},
   "outputs": [],
   "source": []
  }
 ],
 "metadata": {
  "kernelspec": {
   "display_name": "textprocess",
   "language": "python",
   "name": "python3"
  },
  "language_info": {
   "codemirror_mode": {
    "name": "ipython",
    "version": 3
   },
   "file_extension": ".py",
   "mimetype": "text/x-python",
   "name": "python",
   "nbconvert_exporter": "python",
   "pygments_lexer": "ipython3",
   "version": "3.12.2"
  }
 },
 "nbformat": 4,
 "nbformat_minor": 2
}
