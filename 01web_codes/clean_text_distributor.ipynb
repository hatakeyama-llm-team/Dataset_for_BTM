{
 "cells": [
  {
   "cell_type": "code",
   "execution_count": 1,
   "metadata": {},
   "outputs": [],
   "source": [
    "#きれいなテキストを分配する\n",
    "#TODO: code重複"
   ]
  },
  {
   "cell_type": "code",
   "execution_count": 1,
   "metadata": {},
   "outputs": [],
   "source": [
    "from src.cleaner.auto_cleaner import clean_text\n",
    "import argparse\n",
    "import json\n",
    "import os\n",
    "from src.classify.Text2Vec import Text2Vec, texts2classes\n",
    "from src.cleaner.auto_cleaner import clean_text, ml_clean_text\n",
    "from gensim.models.fasttext import load_facebook_model\n",
    "import joblib"
   ]
  },
  {
   "cell_type": "code",
   "execution_count": 9,
   "metadata": {},
   "outputs": [],
   "source": [
    "streaming = True\n",
    "base_dir = \"../data/categorized\"\n",
    "length_threshold = 30  # 短い記事は捨てる\n",
    "check_length = 200  # はじめのlengthだけで分類する\n",
    "\n",
    "\n",
    "# load models\n",
    "t2v = Text2Vec(load_facebook_model('../data/model/cc.ja.300.bin'))\n",
    "kmeans = joblib.load(\"../data/model/kmeans.pkl\")\n",
    "\n",
    "\n",
    "def proc(docs,database_name):\n",
    "    # docsを処理する関数\n",
    "    # ここに処理のロジックを実装します\n",
    "    print(f\"Processing {len(docs)} documents...\")\n",
    "    categories = texts2classes(docs, t2v, kmeans, length=check_length)\n",
    "\n",
    "    for text, category in zip(docs, categories):\n",
    "        save_dir = f\"{base_dir}/{category}\"\n",
    "\n",
    "        data = json.dumps(\n",
    "            {\n",
    "                # \"db\": database_name, #特に必要ない｡storage 節約\n",
    "                \"text\": text},\n",
    "            ensure_ascii=False\n",
    "        )\n",
    "        database_name = database_name.replace(\".json\", \"\").replace(\".gz\", \"\")\n",
    "        with open(f\"{save_dir}/{database_name}.jsonl\", \"a\") as f:\n",
    "            f.write(data+\"\\n\")\n",
    "\n",
    "    return len(docs)\n",
    "\n"
   ]
  },
  {
   "cell_type": "code",
   "execution_count": 8,
   "metadata": {},
   "outputs": [
    {
     "name": "stderr",
     "output_type": "stream",
     "text": [
      "/home/hatakeyama/miniconda3/envs/textprocess/lib/python3.12/site-packages/datasets/load.py:2516: FutureWarning: 'use_auth_token' was deprecated in favor of 'token' in version 2.14.0 and will be removed in 3.0.0.\n",
      "You can remove this warning by passing 'token=<use_auth_token>' instead.\n",
      "  warnings.warn(\n",
      "Repo card metadata block was not found. Setting CardData to empty.\n",
      "Filter: 100%|██████████| 6288/6288 [00:00<00:00, 57798.08 examples/s]\n"
     ]
    }
   ],
   "source": [
    "import sys\n",
    "sys.path.append(\"../20integrate_texts/\")\n",
    "from loaders.loaders import *\n",
    "loader=NHKSchoolDataset()\n",
    "\n",
    "docs = []\n",
    "length_threshold = 100\n",
    "batch_size=10000\n",
    "\n",
    "lines = []\n",
    "for record in iter(loader):\n",
    "    lines.append(record[\"text\"])"
   ]
  },
  {
   "cell_type": "code",
   "execution_count": 5,
   "metadata": {},
   "outputs": [],
   "source": []
  },
  {
   "cell_type": "code",
   "execution_count": 6,
   "metadata": {},
   "outputs": [
    {
     "ename": "NameError",
     "evalue": "name 'clean_text' is not defined",
     "output_type": "error",
     "traceback": [
      "\u001b[0;31m---------------------------------------------------------------------------\u001b[0m",
      "\u001b[0;31mNameError\u001b[0m                                 Traceback (most recent call last)",
      "Cell \u001b[0;32mIn[6], line 2\u001b[0m\n\u001b[1;32m      1\u001b[0m \u001b[38;5;28;01mfor\u001b[39;00m text \u001b[38;5;129;01min\u001b[39;00m lines:\n\u001b[0;32m----> 2\u001b[0m     text \u001b[38;5;241m=\u001b[39m \u001b[43mclean_text\u001b[49m(text)\n\u001b[1;32m      3\u001b[0m     \u001b[38;5;28;01mif\u001b[39;00m \u001b[38;5;28mlen\u001b[39m(text) \u001b[38;5;241m<\u001b[39m length_threshold:\n\u001b[1;32m      4\u001b[0m         \u001b[38;5;28;01mcontinue\u001b[39;00m\n",
      "\u001b[0;31mNameError\u001b[0m: name 'clean_text' is not defined"
     ]
    }
   ],
   "source": [
    "\n",
    "for text in lines:\n",
    "    text = clean_text(text)\n",
    "    if len(text) < length_threshold:\n",
    "        continue\n",
    "\n",
    "    docs.append(text)\n",
    "    if len(docs) == batch_size:\n",
    "        # docsのコピーを作成してprocに渡す\n",
    "        proc(docs[:])\n",
    "        # docsをリセット\n",
    "        docs = []"
   ]
  },
  {
   "cell_type": "code",
   "execution_count": null,
   "metadata": {},
   "outputs": [],
   "source": []
  }
 ],
 "metadata": {
  "kernelspec": {
   "display_name": "textprocess",
   "language": "python",
   "name": "python3"
  },
  "language_info": {
   "codemirror_mode": {
    "name": "ipython",
    "version": 3
   },
   "file_extension": ".py",
   "mimetype": "text/x-python",
   "name": "python",
   "nbconvert_exporter": "python",
   "pygments_lexer": "ipython3",
   "version": "3.12.2"
  }
 },
 "nbformat": 4,
 "nbformat_minor": 2
}
