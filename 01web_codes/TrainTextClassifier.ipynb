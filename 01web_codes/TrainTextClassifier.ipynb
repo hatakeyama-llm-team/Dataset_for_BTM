{
 "cells": [
  {
   "cell_type": "code",
   "execution_count": null,
   "metadata": {},
   "outputs": [],
   "source": [
    "%load_ext autoreload\n",
    "%autoreload 2\n",
    "\n",
    "from src.cleaner.auto_cleaner import clean_text\n",
    "import glob\n",
    "import json\n",
    "import random"
   ]
  },
  {
   "cell_type": "code",
   "execution_count": null,
   "metadata": {},
   "outputs": [],
   "source": [
    "#クリーニングする処理\n",
    "text=\"衝撃!!|中山トンネルは、上越新幹線高崎駅 - 上毛高原駅間にある総延長14,857 mの複線鉄道トンネルであり高崎方面から進行すると榛名トンネルの次、二番目に通過するトンネルである。建設中に2回の大出水事故を起こして難工事を極め、2回の経路変更によりようやく完成したが、経路変更のためにトンネル内に半径1,500 mの曲線ができてしまい、営業速度240 km/hの新幹線がトンネル内の曲線部分を通過するときには160 km/hに減速せざるをえなくなった。\"\n",
    "#text=\"中山トンネルは、上越新幹線高崎駅 - 上毛高原駅間にある総延長14,857 mの複線鉄道トンネルであり高崎方面から進行すると榛名トンネルの次、二番目に通過するトンネルである。建設中に2回の大出水事故を起こして難工事を極め、2回の経路変更によりようやく完成したが、経路変更のためにトンネル内に半径1,500 mの曲線ができてしまい、営業速度240 km/hの新幹線がトンネル内の曲線部分を通過するときには160 km/hに減速せざるをえなくなった。\"\n",
    "print(clean_text(text))"
   ]
  },
  {
   "cell_type": "code",
   "execution_count": null,
   "metadata": {},
   "outputs": [],
   "source": [
    "from src.cleaner.TextClassifier import TextClassifier"
   ]
  },
  {
   "cell_type": "code",
   "execution_count": null,
   "metadata": {},
   "outputs": [],
   "source": [
    "classifier=TextClassifier()"
   ]
  },
  {
   "cell_type": "code",
   "execution_count": null,
   "metadata": {},
   "outputs": [],
   "source": [
    "classifier.train_fasttext(autotuneDuration=120,wordNgrams=2)"
   ]
  },
  {
   "cell_type": "code",
   "execution_count": null,
   "metadata": {},
   "outputs": [],
   "source": [
    "classifier.clean(text)"
   ]
  },
  {
   "cell_type": "code",
   "execution_count": null,
   "metadata": {},
   "outputs": [],
   "source": []
  }
 ],
 "metadata": {
  "kernelspec": {
   "display_name": "ft",
   "language": "python",
   "name": "python3"
  },
  "language_info": {
   "codemirror_mode": {
    "name": "ipython",
    "version": 3
   },
   "file_extension": ".py",
   "mimetype": "text/x-python",
   "name": "python",
   "nbconvert_exporter": "python",
   "pygments_lexer": "ipython3",
   "version": "3.12.2"
  }
 },
 "nbformat": 4,
 "nbformat_minor": 2
}
