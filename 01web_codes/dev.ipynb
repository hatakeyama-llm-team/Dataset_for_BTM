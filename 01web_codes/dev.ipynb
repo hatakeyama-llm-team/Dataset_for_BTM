{
 "cells": [
  {
   "cell_type": "code",
   "execution_count": 4,
   "metadata": {},
   "outputs": [
    {
     "name": "stdout",
     "output_type": "stream",
     "text": [
      "The autoreload extension is already loaded. To reload it, use:\n",
      "  %reload_ext autoreload\n"
     ]
    }
   ],
   "source": [
    "%load_ext autoreload\n",
    "%autoreload 2\n",
    "\n",
    "from src.cleaner.auto_cleaner import clean_text,ml_clean_text\n",
    "import glob\n",
    "import json\n",
    "import random"
   ]
  },
  {
   "cell_type": "code",
   "execution_count": 5,
   "metadata": {},
   "outputs": [
    {
     "name": "stdout",
     "output_type": "stream",
     "text": [
      "中山トンネルは、上越新幹線高崎駅-上毛高原駅間にある総延長14,857 mの複線鉄道トンネルであり高崎方面から進行すると榛名トンネルの次、二番目に通過するトンネルである。建設中に2回の大出水事故を起こして難工事を極め、2回の経路変更によりようやく完成したが、経路変更のためにトンネル内に半径1,500 mの曲線ができてしまい、営業速度240 km/hの新幹線がトンネル内の曲線部分を通過するときには160 km/hに減速せざるをえなくなった。\n"
     ]
    }
   ],
   "source": [
    "#クリーニングする処理\n",
    "text=\"衝撃!!|中山トンネルは、上越新幹線高崎駅 - 上毛高原駅間にある総延長14,857 mの複線鉄道トンネルであり高崎方面から進行すると榛名トンネルの次、二番目に通過するトンネルである。建設中に2回の大出水事故を起こして難工事を極め、2回の経路変更によりようやく完成したが、経路変更のためにトンネル内に半径1,500 mの曲線ができてしまい、営業速度240 km/hの新幹線がトンネル内の曲線部分を通過するときには160 km/hに減速せざるをえなくなった。\"\n",
    "#text=\"中山トンネルは、上越新幹線高崎駅 - 上毛高原駅間にある総延長14,857 mの複線鉄道トンネルであり高崎方面から進行すると榛名トンネルの次、二番目に通過するトンネルである。建設中に2回の大出水事故を起こして難工事を極め、2回の経路変更によりようやく完成したが、経路変更のためにトンネル内に半径1,500 mの曲線ができてしまい、営業速度240 km/hの新幹線がトンネル内の曲線部分を通過するときには160 km/hに減速せざるをえなくなった。\"\n",
    "print(clean_text(text))"
   ]
  },
  {
   "cell_type": "code",
   "execution_count": 6,
   "metadata": {},
   "outputs": [],
   "source": [
    "#以下､クラスタリング後のjsonlファイルを読み込む例｡\n",
    "#datasetsライブラリから､適当にmc4-jaなどを読み込んで問題ナシ｡\n",
    "path_list=glob.glob(\"../data/categorized/**/*.jsonl\",recursive=True)\n"
   ]
  },
  {
   "cell_type": "code",
   "execution_count": 7,
   "metadata": {},
   "outputs": [
    {
     "data": {
      "text/plain": [
       "2124694"
      ]
     },
     "execution_count": 7,
     "metadata": {},
     "output_type": "execute_result"
    }
   ],
   "source": [
    "len(path_list)"
   ]
  },
  {
   "cell_type": "code",
   "execution_count": 8,
   "metadata": {},
   "outputs": [],
   "source": [
    "random.shuffle(path_list)"
   ]
  },
  {
   "cell_type": "code",
   "execution_count": 9,
   "metadata": {},
   "outputs": [
    {
     "name": "stdout",
     "output_type": "stream",
     "text": [
      "Instagramのビジネス利用におけるマル秘テクニックを伺いました!\n"
     ]
    }
   ],
   "source": [
    "line_list=[]\n",
    "path=random.choice(path_list)\n",
    "with open(path,\"r\") as f:\n",
    "    #1行ずつ読み込む\n",
    "    for line in f:\n",
    "        text=json.loads(line)[\"text\"]\n",
    "        cleaned=clean_text(text)\n",
    "        print(cleaned)\n",
    "        break"
   ]
  },
  {
   "cell_type": "code",
   "execution_count": 10,
   "metadata": {},
   "outputs": [
    {
     "data": {
      "text/plain": [
       "'Instagramのビジネス利用におけるマル秘テクニックを伺いました!'"
      ]
     },
     "execution_count": 10,
     "metadata": {},
     "output_type": "execute_result"
    }
   ],
   "source": [
    "text"
   ]
  },
  {
   "cell_type": "code",
   "execution_count": 11,
   "metadata": {},
   "outputs": [
    {
     "name": "stdout",
     "output_type": "stream",
     "text": [
      "Instagramのビジネス利用におけるマル秘テクニックを伺いました!\n"
     ]
    }
   ],
   "source": [
    "print(clean_text(text))"
   ]
  },
  {
   "cell_type": "code",
   "execution_count": 12,
   "metadata": {},
   "outputs": [
    {
     "name": "stdout",
     "output_type": "stream",
     "text": [
      "Instagramのビジネス利用におけるマル秘テクニックを伺いました!\n"
     ]
    }
   ],
   "source": [
    "print(text)"
   ]
  },
  {
   "cell_type": "code",
   "execution_count": 13,
   "metadata": {},
   "outputs": [
    {
     "name": "stdout",
     "output_type": "stream",
     "text": [
      "3732  files found\n"
     ]
    }
   ],
   "source": [
    "\n",
    "# %%\n",
    "with open (\"temp/gz_list.txt\",\"r\") as f:\n",
    "    gz_list = f.read().splitlines()\n",
    "\n",
    "gz_list=[i for i in gz_list if i.endswith('.gz')]\n",
    "print(len(gz_list), \" files found\")\n",
    "\n"
   ]
  },
  {
   "cell_type": "code",
   "execution_count": 14,
   "metadata": {},
   "outputs": [],
   "source": [
    "\n",
    "from src.load_gz import read_gzip_json_file\n",
    "database_path=gz_list[0]\n",
    "\n",
    "lines=[]\n",
    "for article in read_gzip_json_file(database_path):\n",
    "    text = article.get('text', '')  # 'text'キーからテキストデータを取得\n",
    "    lines.append(text)\n",
    "\n"
   ]
  },
  {
   "cell_type": "code",
   "execution_count": 15,
   "metadata": {},
   "outputs": [
    {
     "data": {
      "text/plain": [
       "'jap2010_0069_0l'"
      ]
     },
     "execution_count": 15,
     "metadata": {},
     "output_type": "execute_result"
    }
   ],
   "source": [
    "lines[1]\n",
    "\n",
    "database_name = database_path.split(\"/\")[-1]  # .split(\".\")[0]\n",
    "\n",
    "database_name = database_name.replace(\".json\", \"\").replace(\".gz\", \"\")\n",
    "database_name"
   ]
  },
  {
   "cell_type": "code",
   "execution_count": 16,
   "metadata": {},
   "outputs": [],
   "source": [
    "import argparse\n",
    "import json\n",
    "import os\n",
    "from src.classify.Text2Vec import Text2Vec, texts2classes\n",
    "from src.cleaner.auto_cleaner import clean_text, ml_clean_text\n",
    "from gensim.models.fasttext import load_facebook_model\n",
    "import joblib\n",
    "from src.load_gz import read_gzip_json_file\n",
    "\n",
    "streaming = True\n",
    "base_dir = \"../data/categorized\"\n",
    "length_threshold = 30  # 短い記事は捨てる\n",
    "check_length = 200  # はじめのlengthだけで分類する\n",
    "\n",
    "# 機械学習で記事を選別する\n",
    "do_ml_clean = True\n",
    "\n",
    "# load models\n",
    "t2v = Text2Vec(load_facebook_model('../data/model/cc.ja.300.bin'))\n",
    "kmeans = joblib.load(\"../data/model/kmeans.pkl\")\n",
    "\n",
    "\n",
    "def make_dir(path):\n",
    "    if not os.path.exists(path):\n",
    "        os.mkdir(path)\n",
    "\n",
    "\n",
    "make_dir(base_dir)"
   ]
  },
  {
   "cell_type": "code",
   "execution_count": 21,
   "metadata": {},
   "outputs": [],
   "source": [
    "\n",
    "\n",
    "# %%\n",
    "\n",
    "# %%\n",
    "batch_size = 100\n",
    "\n",
    "\n",
    "def proc(docs):\n",
    "    # docsを処理する関数\n",
    "    # ここに処理のロジックを実装します\n",
    "    print(f\"Processing {len(docs)} documents...\")\n",
    "    categories = texts2classes(docs, t2v, kmeans, length=check_length)\n",
    "\n",
    "    for text, category in zip(docs, categories):\n",
    "        save_dir = f\"{base_dir}/{category}\"\n",
    "        make_dir(save_dir)\n",
    "        database_name = database_path.split(\"/\")[-1]  # .split(\".\")[0]\n",
    "\n",
    "        data = json.dumps(\n",
    "            {\n",
    "                # \"db\": database_name, #特に必要ない｡storage 節約\n",
    "                \"text\": text},\n",
    "            ensure_ascii=False\n",
    "        )\n",
    "        database_name = database_name.replace(\".jsonl\", \"\").replace(\".gz\", \"\")\n",
    "        print(f\"Saving {save_dir}/{database_name}.jsonl\")\n",
    "        with open(f\"{save_dir}/{database_name}.jsonl\", \"a\") as f:\n",
    "            f.write(data+\"\\n\")\n",
    "\n",
    "    return len(docs)\n",
    "\n",
    "\n",
    "def main():\n",
    "\n",
    "    docs = []\n",
    "\n",
    "    lines = []\n",
    "    for article in read_gzip_json_file(database_path):\n",
    "        text = article.get('text', '')  # 'text'キーからテキストデータを取得\n",
    "        lines.append(text)\n",
    "\n",
    "    for text in lines:\n",
    "        if do_ml_clean:\n",
    "            text = ml_clean_text(text)\n",
    "        else:\n",
    "            text = clean_text(text)\n",
    "        if len(text) < length_threshold:\n",
    "            continue\n",
    "\n",
    "        docs.append(text)\n",
    "        if len(docs) == batch_size:\n",
    "            # docsのコピーを作成してprocに渡す\n",
    "            proc(docs[:])\n",
    "            # docsをリセット\n",
    "            docs = []\n",
    "\n",
    "\n",
    "#if __name__ == \"__main__\":\n",
    "#    main()"
   ]
  },
  {
   "cell_type": "code",
   "execution_count": 22,
   "metadata": {},
   "outputs": [
    {
     "name": "stdout",
     "output_type": "stream",
     "text": [
      "Processing 100 documents...\n",
      "Saving ../data/categorized/2497/jap2010_0069_0.jsonl\n",
      "Saving ../data/categorized/3102/jap2010_0069_0.jsonl\n",
      "Saving ../data/categorized/7228/jap2010_0069_0.jsonl\n",
      "Saving ../data/categorized/7026/jap2010_0069_0.jsonl\n",
      "Saving ../data/categorized/3596/jap2010_0069_0.jsonl\n",
      "Saving ../data/categorized/5920/jap2010_0069_0.jsonl\n",
      "Saving ../data/categorized/5593/jap2010_0069_0.jsonl\n",
      "Saving ../data/categorized/3803/jap2010_0069_0.jsonl\n",
      "Saving ../data/categorized/1353/jap2010_0069_0.jsonl\n",
      "Saving ../data/categorized/8375/jap2010_0069_0.jsonl\n",
      "Saving ../data/categorized/2560/jap2010_0069_0.jsonl\n",
      "Saving ../data/categorized/2645/jap2010_0069_0.jsonl\n",
      "Saving ../data/categorized/6534/jap2010_0069_0.jsonl\n",
      "Saving ../data/categorized/9661/jap2010_0069_0.jsonl\n",
      "Saving ../data/categorized/1017/jap2010_0069_0.jsonl\n",
      "Saving ../data/categorized/6059/jap2010_0069_0.jsonl\n",
      "Saving ../data/categorized/4893/jap2010_0069_0.jsonl\n",
      "Saving ../data/categorized/2980/jap2010_0069_0.jsonl\n",
      "Saving ../data/categorized/902/jap2010_0069_0.jsonl\n",
      "Saving ../data/categorized/4138/jap2010_0069_0.jsonl\n",
      "Saving ../data/categorized/368/jap2010_0069_0.jsonl\n",
      "Saving ../data/categorized/6991/jap2010_0069_0.jsonl\n",
      "Saving ../data/categorized/5282/jap2010_0069_0.jsonl\n",
      "Saving ../data/categorized/4566/jap2010_0069_0.jsonl\n",
      "Saving ../data/categorized/2452/jap2010_0069_0.jsonl\n",
      "Saving ../data/categorized/985/jap2010_0069_0.jsonl\n",
      "Saving ../data/categorized/4461/jap2010_0069_0.jsonl\n",
      "Saving ../data/categorized/7678/jap2010_0069_0.jsonl\n",
      "Saving ../data/categorized/229/jap2010_0069_0.jsonl\n",
      "Saving ../data/categorized/7518/jap2010_0069_0.jsonl\n",
      "Saving ../data/categorized/3610/jap2010_0069_0.jsonl\n",
      "Saving ../data/categorized/3497/jap2010_0069_0.jsonl\n",
      "Saving ../data/categorized/4626/jap2010_0069_0.jsonl\n",
      "Saving ../data/categorized/6254/jap2010_0069_0.jsonl\n",
      "Saving ../data/categorized/6534/jap2010_0069_0.jsonl\n",
      "Saving ../data/categorized/17/jap2010_0069_0.jsonl\n",
      "Saving ../data/categorized/6029/jap2010_0069_0.jsonl\n",
      "Saving ../data/categorized/8547/jap2010_0069_0.jsonl\n",
      "Saving ../data/categorized/3841/jap2010_0069_0.jsonl\n",
      "Saving ../data/categorized/6474/jap2010_0069_0.jsonl\n",
      "Saving ../data/categorized/72/jap2010_0069_0.jsonl\n",
      "Saving ../data/categorized/2151/jap2010_0069_0.jsonl\n",
      "Saving ../data/categorized/2010/jap2010_0069_0.jsonl\n",
      "Saving ../data/categorized/2151/jap2010_0069_0.jsonl\n",
      "Saving ../data/categorized/6393/jap2010_0069_0.jsonl\n",
      "Saving ../data/categorized/7000/jap2010_0069_0.jsonl\n",
      "Saving ../data/categorized/6253/jap2010_0069_0.jsonl\n",
      "Saving ../data/categorized/2354/jap2010_0069_0.jsonl\n",
      "Saving ../data/categorized/3142/jap2010_0069_0.jsonl\n",
      "Saving ../data/categorized/1614/jap2010_0069_0.jsonl\n",
      "Saving ../data/categorized/6061/jap2010_0069_0.jsonl\n",
      "Saving ../data/categorized/2961/jap2010_0069_0.jsonl\n",
      "Saving ../data/categorized/4109/jap2010_0069_0.jsonl\n",
      "Saving ../data/categorized/3669/jap2010_0069_0.jsonl\n",
      "Saving ../data/categorized/7382/jap2010_0069_0.jsonl\n",
      "Saving ../data/categorized/1347/jap2010_0069_0.jsonl\n",
      "Saving ../data/categorized/2179/jap2010_0069_0.jsonl\n",
      "Saving ../data/categorized/4095/jap2010_0069_0.jsonl\n",
      "Saving ../data/categorized/6059/jap2010_0069_0.jsonl\n",
      "Saving ../data/categorized/3669/jap2010_0069_0.jsonl\n",
      "Saving ../data/categorized/7628/jap2010_0069_0.jsonl\n",
      "Saving ../data/categorized/8820/jap2010_0069_0.jsonl\n",
      "Saving ../data/categorized/6487/jap2010_0069_0.jsonl\n",
      "Saving ../data/categorized/624/jap2010_0069_0.jsonl\n",
      "Saving ../data/categorized/6639/jap2010_0069_0.jsonl\n",
      "Saving ../data/categorized/1181/jap2010_0069_0.jsonl\n",
      "Saving ../data/categorized/2344/jap2010_0069_0.jsonl\n",
      "Saving ../data/categorized/6639/jap2010_0069_0.jsonl\n",
      "Saving ../data/categorized/5443/jap2010_0069_0.jsonl\n",
      "Saving ../data/categorized/7949/jap2010_0069_0.jsonl\n",
      "Saving ../data/categorized/3549/jap2010_0069_0.jsonl\n",
      "Saving ../data/categorized/7053/jap2010_0069_0.jsonl\n",
      "Saving ../data/categorized/624/jap2010_0069_0.jsonl\n",
      "Saving ../data/categorized/3527/jap2010_0069_0.jsonl\n",
      "Saving ../data/categorized/2661/jap2010_0069_0.jsonl\n",
      "Saving ../data/categorized/5524/jap2010_0069_0.jsonl\n",
      "Saving ../data/categorized/6313/jap2010_0069_0.jsonl\n",
      "Saving ../data/categorized/5904/jap2010_0069_0.jsonl\n",
      "Saving ../data/categorized/5362/jap2010_0069_0.jsonl\n",
      "Saving ../data/categorized/2538/jap2010_0069_0.jsonl\n",
      "Saving ../data/categorized/4461/jap2010_0069_0.jsonl\n",
      "Saving ../data/categorized/6085/jap2010_0069_0.jsonl\n",
      "Saving ../data/categorized/384/jap2010_0069_0.jsonl\n",
      "Saving ../data/categorized/2944/jap2010_0069_0.jsonl\n",
      "Saving ../data/categorized/6786/jap2010_0069_0.jsonl\n",
      "Saving ../data/categorized/6786/jap2010_0069_0.jsonl\n",
      "Saving ../data/categorized/8061/jap2010_0069_0.jsonl\n",
      "Saving ../data/categorized/6786/jap2010_0069_0.jsonl\n",
      "Saving ../data/categorized/6786/jap2010_0069_0.jsonl\n",
      "Saving ../data/categorized/8243/jap2010_0069_0.jsonl\n",
      "Saving ../data/categorized/2141/jap2010_0069_0.jsonl\n",
      "Saving ../data/categorized/8332/jap2010_0069_0.jsonl\n",
      "Saving ../data/categorized/2312/jap2010_0069_0.jsonl\n",
      "Saving ../data/categorized/3833/jap2010_0069_0.jsonl\n",
      "Saving ../data/categorized/548/jap2010_0069_0.jsonl\n",
      "Saving ../data/categorized/6749/jap2010_0069_0.jsonl\n",
      "Saving ../data/categorized/6713/jap2010_0069_0.jsonl\n",
      "Saving ../data/categorized/6407/jap2010_0069_0.jsonl\n",
      "Saving ../data/categorized/6235/jap2010_0069_0.jsonl\n",
      "Saving ../data/categorized/6553/jap2010_0069_0.jsonl\n"
     ]
    }
   ],
   "source": [
    "docs=[]\n",
    "batch_size=100\n",
    "for text in lines:\n",
    "    if do_ml_clean:\n",
    "        text = ml_clean_text(text)\n",
    "    else:\n",
    "        text = clean_text(text)\n",
    "    if len(text) < length_threshold:\n",
    "        continue\n",
    "\n",
    "    docs.append(text)\n",
    "    if len(docs) == batch_size:\n",
    "        # docsのコピーを作成してprocに渡す\n",
    "        proc(docs[:])\n",
    "        break\n",
    "        # docsをリセット\n",
    "        docs = []"
   ]
  },
  {
   "cell_type": "code",
   "execution_count": null,
   "metadata": {},
   "outputs": [],
   "source": []
  }
 ],
 "metadata": {
  "kernelspec": {
   "display_name": "ft",
   "language": "python",
   "name": "python3"
  },
  "language_info": {
   "codemirror_mode": {
    "name": "ipython",
    "version": 3
   },
   "file_extension": ".py",
   "mimetype": "text/x-python",
   "name": "python",
   "nbconvert_exporter": "python",
   "pygments_lexer": "ipython3",
   "version": "3.12.2"
  }
 },
 "nbformat": 4,
 "nbformat_minor": 2
}
