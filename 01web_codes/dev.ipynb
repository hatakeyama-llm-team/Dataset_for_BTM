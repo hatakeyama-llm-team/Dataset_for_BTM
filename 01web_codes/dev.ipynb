{
 "cells": [
  {
   "cell_type": "code",
   "execution_count": null,
   "metadata": {},
   "outputs": [],
   "source": [
    "%load_ext autoreload\n",
    "%autoreload 2\n",
    "\n",
    "from src.cleaner.auto_cleaner import clean_text\n",
    "import glob\n",
    "import json\n",
    "import random"
   ]
  },
  {
   "cell_type": "code",
   "execution_count": null,
   "metadata": {},
   "outputs": [],
   "source": [
    "path_list=glob.glob(\"../data/categorized/**/*.jsonl\",recursive=True)\n"
   ]
  },
  {
   "cell_type": "code",
   "execution_count": null,
   "metadata": {},
   "outputs": [],
   "source": [
    "len(path_list)"
   ]
  },
  {
   "cell_type": "code",
   "execution_count": null,
   "metadata": {},
   "outputs": [],
   "source": [
    "random.shuffle(path_list)"
   ]
  },
  {
   "cell_type": "code",
   "execution_count": 385,
   "metadata": {},
   "outputs": [
    {
     "name": "stdout",
     "output_type": "stream",
     "text": [
      "新型コロナ猛威の陰で、中国躍進の可能性|アナリスト夜話|マネクリ-今日の投資に効くメディア|マネックス証券\n",
      "先週、世界一早く1-3月期のGDPを発表した中国は、統計始まって以来のマイナス成長に見舞われました。しかし、足元では、逆に、急回復の兆しも見えつつあります。\n",
      "先週末、贅沢品のLVMHは、「ルイ・ヴィトン」ブランドの中国の4月の売上が前年同期比50%増の勢いだと発表しました。化粧品のロレアルも中国部門が持ち直しているとしています。コロナ後の節約志向を懸念する声も多い中で、贅沢品のリバウンドがこれだけ強いとは意外です。\n",
      "同じく先週、複数の中国メディアが、「デジタル人民元」が来月にもローンチされそうだと報じました。デジタル人民元の使用方法を書いたモバイル画面のスクリーンショットもネットにアップされました。新型コロナで動きが鈍る先進諸国を横目に、中国がまたも先行しそうです。\n",
      "最後に、新興国への影響拡大の動きも注目です。新型コロナで新興諸国の財政は窮地に追い込まれつつあり、一帯一路構想下で中国から融資を受けた国の約2割が財政難に陥っているとする見方もあります。かつて中国は、融資の担保としてスリランカの港湾を取得しました。今後も新興国の資産を中国が獲得したり政治的な影響を受けるようなケースが増えるかもしれません。更に、新規の支援資金についても、厳しい財政規律を強いるIMFよりも中国に頼る国も出るかもしれません。\n",
      "今回のコロナは、中国にとっては、災い転じて他国を出し抜く好機になるかもしれません。日本企業は、政治的な不透明感が強い中国市場への投資は難しいと口を揃えます。しかし、早晩中国のGDPは米国を抜いて世界一となるでしょう。コロナ禍はそのタイミングを早めるかもしれません。中国の成長をいかにして取り込むかは、これまで以上に大きな課題となりそうです。\n"
     ]
    }
   ],
   "source": [
    "line_list=[]\n",
    "path=random.choice(path_list)\n",
    "with open(path,\"r\") as f:\n",
    "    #1行ずつ読み込む\n",
    "    for line in f:\n",
    "        text=json.loads(line)[\"text\"]\n",
    "        cleaned=clean_text(text)\n",
    "        print(cleaned)\n",
    "        break"
   ]
  },
  {
   "cell_type": "code",
   "execution_count": 335,
   "metadata": {},
   "outputs": [
    {
     "name": "stdout",
     "output_type": "stream",
     "text": [
      "送信ありがとうございました|バーチャルオフィス・シェアオフィス@東京都千代田区|ナレッジソサエティ|起業家におすすめ・法人登記・銀行口座\n",
      "コロナウィルス感染拡大に伴う弊社の対応について(入会希望の方もご一読ください。)\n",
      "東京都千代田区のバーチャルオフィス・シェアオフィス\n",
      "バーチャルオフィス\n",
      "シェアオフィス\n",
      "その他のプラン\n",
      "レンタルオフィス\n",
      "貸し会議室\n",
      "オフィス案内\n",
      "利用について\n",
      "利用料金\n",
      "審査契約\n",
      "お役立ち情報\n",
      "起業ノウハウ\n",
      "社長ブログ\n",
      "シェアオフィス・バーチャルオフィス@東京都千代田区|ナレッジソサエティ>送信ありがとうございました\n",
      "このページには直接アクセスできません。\n",
      "東京都千代田区九段下のシェアオフィス・バーチャルオフィス・レンタルオフィスならナレッジソサエティ。フリーランスや起業家の方にオススメの作業が捗る格安のコワーキングスペースです。\n",
      "独立起業に役立つベントや交流会、セミナーも随時開催。法人登記は追加料金なく可能。銀行口座開設の実績も豊富です。\n",
      "ミーティングや打ち合わせなど様々なビジネスシーンに対応できるミーティングスペース・会議室を多数用意。セミナールームや動画スタジオもございます。\n",
      "レンタルスペースや貸し会議室としてもご利用いただけます。まずはお気軽に内覧していただき比較検討してみてください。\n",
      "会員制シェアオフィス\n",
      "お気軽にお問い合わせください\n",
      "施設の予約や郵便物利用料金の確認が、\n",
      "サービスについて\n",
      "利用プラン\n",
      "オフィス案内\n",
      "セミナー・イベント\n",
      "施設の内覧\n",
      "利用料金\n",
      "審査・契約について\n",
      "バーチャルオフィス\n",
      "シェアオフィス\n",
      "レンタルオフィス\n",
      "貸し会議室・レンタルスペース\n",
      "コワーキングスペース\n",
      "ブログ\n",
      "社長ブログ\n",
      "起業ノウハウ\n",
      "シェアオフィスセミナールームが100円/時で利用可能\n",
      "お問い合わせ最短即日に回答\n"
     ]
    }
   ],
   "source": [
    "print(clean_text(text))"
   ]
  },
  {
   "cell_type": "code",
   "execution_count": 384,
   "metadata": {},
   "outputs": [
    {
     "name": "stdout",
     "output_type": "stream",
     "text": [
      "スペースがなくなってしまうので、と、TRMCのオフィスに寄贈してくれました。\n"
     ]
    }
   ],
   "source": [
    "print(text)"
   ]
  },
  {
   "cell_type": "code",
   "execution_count": null,
   "metadata": {},
   "outputs": [],
   "source": [
    "a=\"川崎市高津区でブラックでも即日融\"\n",
    "b=\"川崎市高津区でブラックでは即日融\"\n",
    "\n",
    "set(a)-set(b)"
   ]
  },
  {
   "cell_type": "code",
   "execution_count": null,
   "metadata": {},
   "outputs": [],
   "source": [
    "line"
   ]
  },
  {
   "cell_type": "code",
   "execution_count": null,
   "metadata": {},
   "outputs": [],
   "source": []
  }
 ],
 "metadata": {
  "kernelspec": {
   "display_name": "ft",
   "language": "python",
   "name": "python3"
  },
  "language_info": {
   "codemirror_mode": {
    "name": "ipython",
    "version": 3
   },
   "file_extension": ".py",
   "mimetype": "text/x-python",
   "name": "python",
   "nbconvert_exporter": "python",
   "pygments_lexer": "ipython3",
   "version": "3.12.2"
  }
 },
 "nbformat": 4,
 "nbformat_minor": 2
}
