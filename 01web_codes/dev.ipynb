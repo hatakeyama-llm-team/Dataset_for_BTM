{
 "cells": [
  {
   "cell_type": "code",
   "execution_count": 1,
   "metadata": {},
   "outputs": [],
   "source": [
    "%load_ext autoreload\n",
    "%autoreload 2\n",
    "\n",
    "from src.cleaner.auto_cleaner import clean_text,ml_clean_text\n",
    "import glob\n",
    "import json\n",
    "import random"
   ]
  },
  {
   "cell_type": "code",
   "execution_count": 2,
   "metadata": {},
   "outputs": [
    {
     "name": "stdout",
     "output_type": "stream",
     "text": [
      "中山トンネルは、上越新幹線高崎駅-上毛高原駅間にある総延長14,857 mの複線鉄道トンネルであり高崎方面から進行すると榛名トンネルの次、二番目に通過するトンネルである。建設中に2回の大出水事故を起こして難工事を極め、2回の経路変更によりようやく完成したが、経路変更のためにトンネル内に半径1,500 mの曲線ができてしまい、営業速度240 km/hの新幹線がトンネル内の曲線部分を通過するときには160 km/hに減速せざるをえなくなった。\n"
     ]
    }
   ],
   "source": [
    "#クリーニングする処理\n",
    "text=\"衝撃!!|中山トンネルは、上越新幹線高崎駅 - 上毛高原駅間にある総延長14,857 mの複線鉄道トンネルであり高崎方面から進行すると榛名トンネルの次、二番目に通過するトンネルである。建設中に2回の大出水事故を起こして難工事を極め、2回の経路変更によりようやく完成したが、経路変更のためにトンネル内に半径1,500 mの曲線ができてしまい、営業速度240 km/hの新幹線がトンネル内の曲線部分を通過するときには160 km/hに減速せざるをえなくなった。\"\n",
    "#text=\"中山トンネルは、上越新幹線高崎駅 - 上毛高原駅間にある総延長14,857 mの複線鉄道トンネルであり高崎方面から進行すると榛名トンネルの次、二番目に通過するトンネルである。建設中に2回の大出水事故を起こして難工事を極め、2回の経路変更によりようやく完成したが、経路変更のためにトンネル内に半径1,500 mの曲線ができてしまい、営業速度240 km/hの新幹線がトンネル内の曲線部分を通過するときには160 km/hに減速せざるをえなくなった。\"\n",
    "print(clean_text(text))"
   ]
  },
  {
   "cell_type": "code",
   "execution_count": 3,
   "metadata": {},
   "outputs": [],
   "source": [
    "#以下､クラスタリング後のjsonlファイルを読み込む例｡\n",
    "#datasetsライブラリから､適当にmc4-jaなどを読み込んで問題ナシ｡\n",
    "path_list=glob.glob(\"../data/categorized/**/*.jsonl\",recursive=True)\n"
   ]
  },
  {
   "cell_type": "code",
   "execution_count": 4,
   "metadata": {},
   "outputs": [
    {
     "data": {
      "text/plain": [
       "10989"
      ]
     },
     "execution_count": 4,
     "metadata": {},
     "output_type": "execute_result"
    }
   ],
   "source": [
    "len(path_list)"
   ]
  },
  {
   "cell_type": "code",
   "execution_count": 5,
   "metadata": {},
   "outputs": [],
   "source": [
    "random.shuffle(path_list)"
   ]
  },
  {
   "cell_type": "code",
   "execution_count": 121,
   "metadata": {},
   "outputs": [
    {
     "name": "stdout",
     "output_type": "stream",
     "text": [
      "バイト探しをもっと簡単にニフティアルバイト\n",
      "加美郡加美町の履歴書不要からバイト・アルバイトを探すならニフティアルバイト。あなたにピッタリのバイトを検索しよう!\n",
      "【加美郡加美町/外壁板の切断補助と梱包】急募!正社員になれるチャンス!日勤、土日休みお仕事★\n",
      "外壁板の切断補助と梱包【急募!正社員になれるチャンス】家の外壁に用いられる外壁材を製造している工場でのお仕事!ほとんど機械が加工するのでセットするだけでOK!重量物などもないので負担なく勤務することができます!とびこみOK!即面談OK!\n",
      "正社員になれるチャンス!\n",
      "機械メーカー!評価!初心!\n",
      "パック詰め作業希望の時間でOKです!短時間で働けます!50代も活躍中。oo。お仕事相談会開催!oo。履歴書不要!私服OK!身分証明書の持参のみ!事前予約も受付中!oo。\n",
      "食品スーパーでのお仕事☆ 食品の陳列作業など:加美郡加美町\n",
      "食品の陳列作業などパックに入って入荷した生鮮食品にラベルを貼り陳列する作業、PCへ翌日の発注を入力する作業をお願いします。(派遣)PC入力スキルを活かして活躍できるチャンスです長期勤務ご希望の方へオススメです40代の方々など活躍中!お財布に優しい交通費一部支給あり!\n",
      "☆高時給で稼げますよ☆フォークリフト作業など:加美郡加美町\n",
      "フォークリフト作業等入荷した原料をリーチフォークリフトを使用して運搬する作業、纏められた製品の運搬作業などをお願いします。(派遣)あなたの資格・経験を必要としているお仕事ですレトルト製品の社内販売ありますよ長期案件で安定就業残業ほとんどなし!\n",
      "原材料投入作業野菜や蒟蒻や調味料などを充填機に入れる作業をお願いします。(派遣)夜勤専属で稼げる!社内販売有!大型連休あり!長期勤務可能なお仕事50代の方も活躍中!ウレシイ高時給のお仕事残業ほとんどなし!\n",
      "短時間☆未経験OK!\n",
      "原材料投入作業野菜や蒟蒻や調味料などを充填機に入れる作業をお願いします。(派遣)レトルト製品の社内販売有り!高時給!大型連休あり!長期勤務可能なお仕事50代の方も活躍中!残業ほとんどなし!早朝の勤務をご希望の方にオススメ!\n",
      "☆野菜などの充填機への投入:加美郡加美町\n",
      "充填機への投入作業野菜や調味料などを充填機へ投入する作業をお願いします。(派遣)未経験OK!3交替制のお仕事!長期稼動のチャンスもありますよ!残業がほとんどない魅力的なお仕事です!\n",
      "★キャリアUPもできる職場★フォークリフト作業など:加美郡加美町\n",
      "フォークリフト作業等袋詰めされた米を袋に詰め直す作業、パレットに載せていく作業をお願いします。(派遣)資格が活かせます大型連休あり残業月20時間程度で収入UPに繋がりますよ!ウレシイ小休憩ありとっても嬉しい高時給のお仕事ご応募お待ちしています!\n",
      "基板に細かな部品を打ち込む機械の操作です。実装機操作・機械オペレータの経験がある方大歓迎!22～翌5時の間は深夜割増で時給25%増しなのでガッチリ稼ぎたい方にもピッタリです!寮の相談もOKです!これまでの経験を活かすチャンス!ブランクがあっても問題ありません♪リア充より今は稼ぎたいが希望の方に!\n",
      "材料投入&ボタン押し/週払いOK!\n",
      "人気フードの材料を指示どおりに準備して、キカイに投入!機械のボタン押しなど。身近な商品づくりでヤリガイもあり!平日がお休みになるので用事を済ませたりもできますね♪適度に残業あってしっかり稼ぐこともできます!もちろんその分お給料として返ってくるので頑張れる♪ロッカー付き職場♪最初は誰でも未経験スタート!イチからスキルUP・ステップUPしていきましょう♪一息つける休憩スペースもあります!\n",
      "包装材の補充/週払いOK!\n",
      "「(株)テクノ・サービス宮城営業所広告No/K20274」と似たバイトから検索!\n"
     ]
    }
   ],
   "source": [
    "line_list=[]\n",
    "path=random.choice(path_list)\n",
    "with open(path,\"r\") as f:\n",
    "    #1行ずつ読み込む\n",
    "    for line in f:\n",
    "        text=json.loads(line)[\"text\"]\n",
    "        cleaned=clean_text(text)\n",
    "        print(cleaned)\n",
    "        break"
   ]
  },
  {
   "cell_type": "code",
   "execution_count": 7,
   "metadata": {},
   "outputs": [
    {
     "name": "stdout",
     "output_type": "stream",
     "text": [
      "カードローンおすすめにまつわる知識サイト。\n",
      "あなたが知りたいカードローンおすすめの最新情報を詳しくご案内している専門サイトです。加えて、あなたにとってプラスになるカードローンおすすめの重要な情報もいろいろ公開しました。今すぐクリックしてください。\n",
      "キャッシングおよびカードローンにあるはっきりした特徴は何か\n",
      "カードローンとキャッシングを比較すると、カードローンの利子が少し低めに設定されているといった相違点があります。\n",
      "時間をかけて負債を減らす手法をとるため利子が低い値になるのですが、そこだけを見ず総体的に見た時の支払いの額の事も熟知しておけるのが良いでしょう。キャッシングそしてカードローンが大きく違う所を言いますとそれは支払いの手続と言えます。\n",
      "ローンは借りていたお金の全てを分割払いまたは分割し支払う事でお金を返しますが、もう一方は基本的な物には貸してもらった金銭をまとめ払いすることになります。\n",
      "この2つのうちどちらが得であるかは状況によります。\n",
      "低利率だからとはいってもキャッシングよりカードローンの方が良いとも決まっていません。長期間で返する場合では、その分余計に金利を払い渡す事になるでしょう。なのでそれぞれの違う部分を知り、納得のいく支払いの計画を細かく練っておきましょう。キャッシングと比べますと利子の低く定められたローンではありますが、用途無制限の融資ですと用途がある貸付より高金利にもなっているのです。\n",
      "困惑する事が無い様に先に確かめておきたい借り入れするの時発生してしまった揉めごと体験とは\n",
      "キャッシングを利用する事はとても安易に出来るサービスになりました。そのため未経験者であるからと言って、言う程時間をかけずに現金を手に入れると言ったことが出来てしまうのです。\n",
      "安易に使えるからこそその為に起こってしまうと言う事件も存在しますので、借入する事に関しての注意点などを確かめる事が必須になってきます。\n",
      "借入金を解決する為ににヤミ金融などに一本化する事を頼んでしまうと言うような事例が目立って多く見受けられるのですが、そう言った行為は前貸しの縺れの上になお一層リスクの可能性を重ねる様な行為なのです。\n",
      "整理屋と言う様な悪徳な業者などには絶対に関わると言ったことが無い様、正しいと思える解決の道筋を進んで行きましょう。前貸しして貰った時の借金を返すのがたった1日であったとしても遅延してしまうという事と言うのは、滞納したと言う事実になってしまいます。\n",
      "そして其のあと直ぐに個人信用情報機関に記録が行われてしまうといったことも十分にあり得ることなのです。\n",
      "わずか1日だとは考えず誠実である弁済を心がける事にして行きましょう。仮に闇金を利用したからと言ったとしていても、相手は違法業者ですから返済が必ず要ると言う事はまるでいりません。それでも、定住地や働いている所などという利用の時の個人の情報と言ったようなものを知られてしまうため、何らかのもつれが発してしまう可能性が有ります。\n",
      "キャッシングでの紛糾の解消につきましては、普通では専門家などの手助けが必要だと考えられますです。\n",
      "現在はコンピュータなどを使うことで直ぐにリサーチするといった事ができるので、困ったことが起きてしまった時には、自分だけでは悩まず可能であればすぐにプロの人にトラブルの相談をしましょう。\n",
      "手こずる事が無い為にも事前に確認しておきたい前貸しの際発生してしまった揉め事体験とは\n",
      "闇金融と言うような用語は映画ですとか漫画などでたびたび聞く用語ですが、現実世界でも多方面な厄介物となっています。我知らずヤミ金融に首を突っ込んでしまい騒ぎが生まれてしまった、などと言うことがない為にも、貸金企業の選択の仕方に関しては十分警戒が必要と言えます。国の施設や弁護者の団体など、多種多様なかたちの相談ごとが話せる受け付けが存在していますから、言った団体であれば自分が楽に話せるかなどというような自分が合っていると思う相談相手を選考するという事も可能ですので、前貸しのいざこざが発生した際はためらわず相談事を聞いて貰いましょう。私達が仮にヤミ金に首を突っ込んでしまっていても、相手サイドは違法である業者のため返済が必ず要ると言うことはほんの僅かも有りません。それでも、定住地や務めている所などと言う借入時の個人に関する情報と言った物をあちら側に知られてしまう為に、何らかの事件が生じてしまう可能性は否めません。信用金庫にするはずの弁済が繰り延べてしまう事があった時には遅延損害金と言う物がかかってしてしまいます。尚且つ、現金前貸しの弁済が滞ってしまったことによって自分の信頼を失くしてしまいますし、しつこく滞る事をし続けたままでいると利用不可になるなどと言った処罰を受けることになってしまうのです。ヤミ金融には絶対に近付くことなく、関わることの無いようにするが良い紛糾回避の仕様になると言えるのです。重大なもつれが発生してからでは遅すぎますから、不用意な考えで前借りすることがありません様心掛けていきましょう。断じて非公式の業者とは取引きをしてはしてはなりません。\n",
      "わずらわしい部屋のおそうじも快適な時間にするスゴ技を試しましょう!\n",
      "窓などの板ガラスのお掃除でも多彩なコツが編み出されています。水あか或いは砂埃といった窓ガラスの汚れは気になる部分でしょう。一般の洗浄剤以外にも効き目のあるものは色々存在しますので、効き目も楽しんであれこれと使ったら良いでしょう。新聞用紙の類はガラス拭きの為のアイテムに出来ます。他にも窓でも室外側となると相当汚いものですから、使い古しの衣類を使ってガラスを掃除すれば即座に捨てる事が出来ますし使い勝手が良いです。枠の隅にたまった埃ですが、食塩でごっそり拭き取ることが可能です。ガラス窓清掃の方は嫌だ、と思っている人でしたら汚れが付きにくくできる裏技がピッタリでしょう。真水で希釈した酢酸もしくは柔軟仕上げ剤でガラス窓を拭くとコーティングスプレーと同じ様な作用を得る事が出来ますから、ガラスに水垢などもつきにくくなるでしょう。\n",
      "人気を集めている無利息でOKの無利息キャッシングを利用していただく場合は...。\n",
      "融資金額でも銀行からの借り入れ分は、いわゆる総量規制除外金額なので、カードローンで融資を受けるなら、できるだけ銀行にするほうが賢明だということを忘れないでください。借金については、本人の年収の3分の1以上は、例外を除き融資することをしてはいけないという規制なんです。CMなどで見かけるキャッシングやカードローンを使って、貸し付けが認められて借金を背負うことになっても、少しも悪いことしたなんて思われません今時は女性の方だけに使ってほしいというキャッシングサービスだっていくつもあるんです。テレビ広告を始めいろんな広告で有名になった新生銀行が提供するレイクは、パソコンを使っての申込以外に、スマホからのキャッシング申込でも来店の必要はなく、審査がうまくいけば当日のうちにお金が手に入る即日キャッシングもできるので注目です。人気を集めている無利息でOKの無利息キャッシングを利用していただく場合は、30日以内に、返してしまえなかったとしても、一般の方法で利息がある状態で借りるよりも、30日間利息が発生しないので低額で抑えられます。ということで、全ての利用者に優しい制度だと言えるのです。まれにあるのですが即日キャッシングだったら、本当は審査といいながら書類審査だけで、申込んだ人が過去にどうだったか、今はどうなのかを正しく審査されて厳しく判定しているはずがないとか、現実離れした考えなのではありませんか。何十年も昔なら、キャッシングの可否を決める審査が、最近とは比較にならないほど生易しかった時代があったみたいですけれど、最近の申込に関しては当時とは比較にならないほど、審査の結果を出す際には、会社ごとに定められた信用調査が完璧に実行されているのです。見回してみると、利息が0円でいい無利息キャッシングをやっているところは、数種類の会社のうち消費者金融のキャッシングしかない状況になっているので選択肢には限りがあるのです。付け加えれば、本当に無利息でOKというキャッシングを受けることが可能な期間には定めがあるのです。\n"
     ]
    }
   ],
   "source": [
    "print(clean_text(text))"
   ]
  },
  {
   "cell_type": "code",
   "execution_count": 12,
   "metadata": {},
   "outputs": [
    {
     "name": "stdout",
     "output_type": "stream",
     "text": [
      "Instagramのビジネス利用におけるマル秘テクニックを伺いました!\n"
     ]
    }
   ],
   "source": [
    "print(text)"
   ]
  },
  {
   "cell_type": "code",
   "execution_count": 13,
   "metadata": {},
   "outputs": [
    {
     "name": "stdout",
     "output_type": "stream",
     "text": [
      "3732  files found\n"
     ]
    }
   ],
   "source": [
    "\n",
    "# %%\n",
    "with open (\"temp/gz_list.txt\",\"r\") as f:\n",
    "    gz_list = f.read().splitlines()\n",
    "\n",
    "gz_list=[i for i in gz_list if i.endswith('.gz')]\n",
    "print(len(gz_list), \" files found\")\n",
    "\n"
   ]
  },
  {
   "cell_type": "code",
   "execution_count": 14,
   "metadata": {},
   "outputs": [],
   "source": [
    "\n",
    "from src.load_gz import read_gzip_json_file\n",
    "database_path=gz_list[0]\n",
    "\n",
    "lines=[]\n",
    "for article in read_gzip_json_file(database_path):\n",
    "    text = article.get('text', '')  # 'text'キーからテキストデータを取得\n",
    "    lines.append(text)\n",
    "\n"
   ]
  },
  {
   "cell_type": "code",
   "execution_count": 15,
   "metadata": {},
   "outputs": [
    {
     "data": {
      "text/plain": [
       "'jap2010_0069_0l'"
      ]
     },
     "execution_count": 15,
     "metadata": {},
     "output_type": "execute_result"
    }
   ],
   "source": [
    "lines[1]\n",
    "\n",
    "database_name = database_path.split(\"/\")[-1]  # .split(\".\")[0]\n",
    "\n",
    "database_name = database_name.replace(\".json\", \"\").replace(\".gz\", \"\")\n",
    "database_name"
   ]
  },
  {
   "cell_type": "code",
   "execution_count": 16,
   "metadata": {},
   "outputs": [],
   "source": [
    "import argparse\n",
    "import json\n",
    "import os\n",
    "from src.classify.Text2Vec import Text2Vec, texts2classes\n",
    "from src.cleaner.auto_cleaner import clean_text, ml_clean_text\n",
    "from gensim.models.fasttext import load_facebook_model\n",
    "import joblib\n",
    "from src.load_gz import read_gzip_json_file\n",
    "\n",
    "streaming = True\n",
    "base_dir = \"../data/categorized\"\n",
    "length_threshold = 30  # 短い記事は捨てる\n",
    "check_length = 200  # はじめのlengthだけで分類する\n",
    "\n",
    "# 機械学習で記事を選別する\n",
    "do_ml_clean = True\n",
    "\n",
    "# load models\n",
    "t2v = Text2Vec(load_facebook_model('../data/model/cc.ja.300.bin'))\n",
    "kmeans = joblib.load(\"../data/model/kmeans.pkl\")\n",
    "\n",
    "\n",
    "def make_dir(path):\n",
    "    if not os.path.exists(path):\n",
    "        os.mkdir(path)\n",
    "\n",
    "\n",
    "make_dir(base_dir)"
   ]
  },
  {
   "cell_type": "code",
   "execution_count": 21,
   "metadata": {},
   "outputs": [],
   "source": [
    "\n",
    "\n",
    "# %%\n",
    "\n",
    "# %%\n",
    "batch_size = 100\n",
    "\n",
    "\n",
    "def proc(docs):\n",
    "    # docsを処理する関数\n",
    "    # ここに処理のロジックを実装します\n",
    "    print(f\"Processing {len(docs)} documents...\")\n",
    "    categories = texts2classes(docs, t2v, kmeans, length=check_length)\n",
    "\n",
    "    for text, category in zip(docs, categories):\n",
    "        save_dir = f\"{base_dir}/{category}\"\n",
    "        make_dir(save_dir)\n",
    "        database_name = database_path.split(\"/\")[-1]  # .split(\".\")[0]\n",
    "\n",
    "        data = json.dumps(\n",
    "            {\n",
    "                # \"db\": database_name, #特に必要ない｡storage 節約\n",
    "                \"text\": text},\n",
    "            ensure_ascii=False\n",
    "        )\n",
    "        database_name = database_name.replace(\".jsonl\", \"\").replace(\".gz\", \"\")\n",
    "        print(f\"Saving {save_dir}/{database_name}.jsonl\")\n",
    "        with open(f\"{save_dir}/{database_name}.jsonl\", \"a\") as f:\n",
    "            f.write(data+\"\\n\")\n",
    "\n",
    "    return len(docs)\n",
    "\n",
    "\n",
    "def main():\n",
    "\n",
    "    docs = []\n",
    "\n",
    "    lines = []\n",
    "    for article in read_gzip_json_file(database_path):\n",
    "        text = article.get('text', '')  # 'text'キーからテキストデータを取得\n",
    "        lines.append(text)\n",
    "\n",
    "    for text in lines:\n",
    "        if do_ml_clean:\n",
    "            text = ml_clean_text(text)\n",
    "        else:\n",
    "            text = clean_text(text)\n",
    "        if len(text) < length_threshold:\n",
    "            continue\n",
    "\n",
    "        docs.append(text)\n",
    "        if len(docs) == batch_size:\n",
    "            # docsのコピーを作成してprocに渡す\n",
    "            proc(docs[:])\n",
    "            # docsをリセット\n",
    "            docs = []\n",
    "\n",
    "\n",
    "#if __name__ == \"__main__\":\n",
    "#    main()"
   ]
  },
  {
   "cell_type": "code",
   "execution_count": 22,
   "metadata": {},
   "outputs": [
    {
     "name": "stdout",
     "output_type": "stream",
     "text": [
      "Processing 100 documents...\n",
      "Saving ../data/categorized/2497/jap2010_0069_0.jsonl\n",
      "Saving ../data/categorized/3102/jap2010_0069_0.jsonl\n",
      "Saving ../data/categorized/7228/jap2010_0069_0.jsonl\n",
      "Saving ../data/categorized/7026/jap2010_0069_0.jsonl\n",
      "Saving ../data/categorized/3596/jap2010_0069_0.jsonl\n",
      "Saving ../data/categorized/5920/jap2010_0069_0.jsonl\n",
      "Saving ../data/categorized/5593/jap2010_0069_0.jsonl\n",
      "Saving ../data/categorized/3803/jap2010_0069_0.jsonl\n",
      "Saving ../data/categorized/1353/jap2010_0069_0.jsonl\n",
      "Saving ../data/categorized/8375/jap2010_0069_0.jsonl\n",
      "Saving ../data/categorized/2560/jap2010_0069_0.jsonl\n",
      "Saving ../data/categorized/2645/jap2010_0069_0.jsonl\n",
      "Saving ../data/categorized/6534/jap2010_0069_0.jsonl\n",
      "Saving ../data/categorized/9661/jap2010_0069_0.jsonl\n",
      "Saving ../data/categorized/1017/jap2010_0069_0.jsonl\n",
      "Saving ../data/categorized/6059/jap2010_0069_0.jsonl\n",
      "Saving ../data/categorized/4893/jap2010_0069_0.jsonl\n",
      "Saving ../data/categorized/2980/jap2010_0069_0.jsonl\n",
      "Saving ../data/categorized/902/jap2010_0069_0.jsonl\n",
      "Saving ../data/categorized/4138/jap2010_0069_0.jsonl\n",
      "Saving ../data/categorized/368/jap2010_0069_0.jsonl\n",
      "Saving ../data/categorized/6991/jap2010_0069_0.jsonl\n",
      "Saving ../data/categorized/5282/jap2010_0069_0.jsonl\n",
      "Saving ../data/categorized/4566/jap2010_0069_0.jsonl\n",
      "Saving ../data/categorized/2452/jap2010_0069_0.jsonl\n",
      "Saving ../data/categorized/985/jap2010_0069_0.jsonl\n",
      "Saving ../data/categorized/4461/jap2010_0069_0.jsonl\n",
      "Saving ../data/categorized/7678/jap2010_0069_0.jsonl\n",
      "Saving ../data/categorized/229/jap2010_0069_0.jsonl\n",
      "Saving ../data/categorized/7518/jap2010_0069_0.jsonl\n",
      "Saving ../data/categorized/3610/jap2010_0069_0.jsonl\n",
      "Saving ../data/categorized/3497/jap2010_0069_0.jsonl\n",
      "Saving ../data/categorized/4626/jap2010_0069_0.jsonl\n",
      "Saving ../data/categorized/6254/jap2010_0069_0.jsonl\n",
      "Saving ../data/categorized/6534/jap2010_0069_0.jsonl\n",
      "Saving ../data/categorized/17/jap2010_0069_0.jsonl\n",
      "Saving ../data/categorized/6029/jap2010_0069_0.jsonl\n",
      "Saving ../data/categorized/8547/jap2010_0069_0.jsonl\n",
      "Saving ../data/categorized/3841/jap2010_0069_0.jsonl\n",
      "Saving ../data/categorized/6474/jap2010_0069_0.jsonl\n",
      "Saving ../data/categorized/72/jap2010_0069_0.jsonl\n",
      "Saving ../data/categorized/2151/jap2010_0069_0.jsonl\n",
      "Saving ../data/categorized/2010/jap2010_0069_0.jsonl\n",
      "Saving ../data/categorized/2151/jap2010_0069_0.jsonl\n",
      "Saving ../data/categorized/6393/jap2010_0069_0.jsonl\n",
      "Saving ../data/categorized/7000/jap2010_0069_0.jsonl\n",
      "Saving ../data/categorized/6253/jap2010_0069_0.jsonl\n",
      "Saving ../data/categorized/2354/jap2010_0069_0.jsonl\n",
      "Saving ../data/categorized/3142/jap2010_0069_0.jsonl\n",
      "Saving ../data/categorized/1614/jap2010_0069_0.jsonl\n",
      "Saving ../data/categorized/6061/jap2010_0069_0.jsonl\n",
      "Saving ../data/categorized/2961/jap2010_0069_0.jsonl\n",
      "Saving ../data/categorized/4109/jap2010_0069_0.jsonl\n",
      "Saving ../data/categorized/3669/jap2010_0069_0.jsonl\n",
      "Saving ../data/categorized/7382/jap2010_0069_0.jsonl\n",
      "Saving ../data/categorized/1347/jap2010_0069_0.jsonl\n",
      "Saving ../data/categorized/2179/jap2010_0069_0.jsonl\n",
      "Saving ../data/categorized/4095/jap2010_0069_0.jsonl\n",
      "Saving ../data/categorized/6059/jap2010_0069_0.jsonl\n",
      "Saving ../data/categorized/3669/jap2010_0069_0.jsonl\n",
      "Saving ../data/categorized/7628/jap2010_0069_0.jsonl\n",
      "Saving ../data/categorized/8820/jap2010_0069_0.jsonl\n",
      "Saving ../data/categorized/6487/jap2010_0069_0.jsonl\n",
      "Saving ../data/categorized/624/jap2010_0069_0.jsonl\n",
      "Saving ../data/categorized/6639/jap2010_0069_0.jsonl\n",
      "Saving ../data/categorized/1181/jap2010_0069_0.jsonl\n",
      "Saving ../data/categorized/2344/jap2010_0069_0.jsonl\n",
      "Saving ../data/categorized/6639/jap2010_0069_0.jsonl\n",
      "Saving ../data/categorized/5443/jap2010_0069_0.jsonl\n",
      "Saving ../data/categorized/7949/jap2010_0069_0.jsonl\n",
      "Saving ../data/categorized/3549/jap2010_0069_0.jsonl\n",
      "Saving ../data/categorized/7053/jap2010_0069_0.jsonl\n",
      "Saving ../data/categorized/624/jap2010_0069_0.jsonl\n",
      "Saving ../data/categorized/3527/jap2010_0069_0.jsonl\n",
      "Saving ../data/categorized/2661/jap2010_0069_0.jsonl\n",
      "Saving ../data/categorized/5524/jap2010_0069_0.jsonl\n",
      "Saving ../data/categorized/6313/jap2010_0069_0.jsonl\n",
      "Saving ../data/categorized/5904/jap2010_0069_0.jsonl\n",
      "Saving ../data/categorized/5362/jap2010_0069_0.jsonl\n",
      "Saving ../data/categorized/2538/jap2010_0069_0.jsonl\n",
      "Saving ../data/categorized/4461/jap2010_0069_0.jsonl\n",
      "Saving ../data/categorized/6085/jap2010_0069_0.jsonl\n",
      "Saving ../data/categorized/384/jap2010_0069_0.jsonl\n",
      "Saving ../data/categorized/2944/jap2010_0069_0.jsonl\n",
      "Saving ../data/categorized/6786/jap2010_0069_0.jsonl\n",
      "Saving ../data/categorized/6786/jap2010_0069_0.jsonl\n",
      "Saving ../data/categorized/8061/jap2010_0069_0.jsonl\n",
      "Saving ../data/categorized/6786/jap2010_0069_0.jsonl\n",
      "Saving ../data/categorized/6786/jap2010_0069_0.jsonl\n",
      "Saving ../data/categorized/8243/jap2010_0069_0.jsonl\n",
      "Saving ../data/categorized/2141/jap2010_0069_0.jsonl\n",
      "Saving ../data/categorized/8332/jap2010_0069_0.jsonl\n",
      "Saving ../data/categorized/2312/jap2010_0069_0.jsonl\n",
      "Saving ../data/categorized/3833/jap2010_0069_0.jsonl\n",
      "Saving ../data/categorized/548/jap2010_0069_0.jsonl\n",
      "Saving ../data/categorized/6749/jap2010_0069_0.jsonl\n",
      "Saving ../data/categorized/6713/jap2010_0069_0.jsonl\n",
      "Saving ../data/categorized/6407/jap2010_0069_0.jsonl\n",
      "Saving ../data/categorized/6235/jap2010_0069_0.jsonl\n",
      "Saving ../data/categorized/6553/jap2010_0069_0.jsonl\n"
     ]
    }
   ],
   "source": [
    "docs=[]\n",
    "batch_size=100\n",
    "for text in lines:\n",
    "    if do_ml_clean:\n",
    "        text = ml_clean_text(text)\n",
    "    else:\n",
    "        text = clean_text(text)\n",
    "    if len(text) < length_threshold:\n",
    "        continue\n",
    "\n",
    "    docs.append(text)\n",
    "    if len(docs) == batch_size:\n",
    "        # docsのコピーを作成してprocに渡す\n",
    "        proc(docs[:])\n",
    "        break\n",
    "        # docsをリセット\n",
    "        docs = []"
   ]
  },
  {
   "cell_type": "code",
   "execution_count": null,
   "metadata": {},
   "outputs": [],
   "source": []
  }
 ],
 "metadata": {
  "kernelspec": {
   "display_name": "ft",
   "language": "python",
   "name": "python3"
  },
  "language_info": {
   "codemirror_mode": {
    "name": "ipython",
    "version": 3
   },
   "file_extension": ".py",
   "mimetype": "text/x-python",
   "name": "python",
   "nbconvert_exporter": "python",
   "pygments_lexer": "ipython3",
   "version": "3.12.2"
  }
 },
 "nbformat": 4,
 "nbformat_minor": 2
}
