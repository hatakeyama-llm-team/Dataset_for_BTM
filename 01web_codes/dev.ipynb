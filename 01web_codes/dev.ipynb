{
 "cells": [
  {
   "cell_type": "code",
   "execution_count": 1,
   "metadata": {},
   "outputs": [],
   "source": [
    "%load_ext autoreload\n",
    "%autoreload 2\n",
    "\n",
    "from src.cleaner.auto_cleaner import clean_text\n",
    "import glob\n",
    "import json\n",
    "import random"
   ]
  },
  {
   "cell_type": "code",
   "execution_count": 2,
   "metadata": {},
   "outputs": [],
   "source": [
    "path_list=glob.glob(\"../data/categorized/**/*.jsonl\",recursive=True)\n"
   ]
  },
  {
   "cell_type": "code",
   "execution_count": 3,
   "metadata": {},
   "outputs": [
    {
     "data": {
      "text/plain": [
       "10384169"
      ]
     },
     "execution_count": 3,
     "metadata": {},
     "output_type": "execute_result"
    }
   ],
   "source": [
    "len(path_list)"
   ]
  },
  {
   "cell_type": "code",
   "execution_count": 4,
   "metadata": {},
   "outputs": [],
   "source": [
    "random.shuffle(path_list)"
   ]
  },
  {
   "cell_type": "code",
   "execution_count": 110,
   "metadata": {},
   "outputs": [
    {
     "name": "stdout",
     "output_type": "stream",
     "text": [
      "タイプ男性用利き手右利き商品コード210022558XXXXクラブ種別ドライバーメーカー名テーラーメイド商品名GLOIRE F 11°発売年2014シャフトGLOIRE GL3300(ドライバー)シャフト材質カーボンメーカーフレックスSフレックスSクラブセット組合せ内容クラブセット本数0クラブセット不足本数0クラブセット実本数0総合ランクランクについて傷状態:ヘッド上部C傷状態:フェースC傷状態:ヘッド下部C傷状態:シャフトB傷状態:グリップオリジナル傷あり傷状態:ヘッドカバー純正品(汚い)査定特記・商品状態メーカーカタログ情報となりますので、実商品と異なる場合がございます。\n",
      "アボダームキャット!.!\n",
      "三菱マテリアル三菱\n",
      "こんにちわ。最近、梅干しを1日1個食べることを日課にしているkudoxです。今回は、先日公開した500個▼293-8936カレイナット/M6、板厚1.6ミリ以上、S6-15の使い方を簡単なサンプルと共に紹介したいと思います。BitmapData for EaselJSは、基本的にActionScript3.0に合わせて作っているので、Flashをやられている方は違和感なく使うことができると思います。\n",
      "PreloadJSは、画像・音声・XML・JS・CSSなどの外部ファイルの読み込みをサポートしてくれるJavaScriptライブラリです。規格(10.2X200)LSD DIY・工具入数(1)からダウンロードできます。以前の投稿「PreloadJSで外部ファイルを読み込む」では、PreloadJS 0.1.0時点の使い方を紹介しましたが、先日公開された新バージョンPreloadJS 0.3.xでは仕様が大幅に変更になりました。そこで新しくなったPreloadJSの変更点や基本的な使い方をレポートしたいと思います。\n",
      "ひめじやHIMEJIYA\n"
     ]
    }
   ],
   "source": [
    "line_list=[]\n",
    "path=random.choice(path_list)\n",
    "with open(path,\"r\") as f:\n",
    "    #1行ずつ読み込む\n",
    "    for line in f:\n",
    "        text=json.loads(line)[\"text\"]\n",
    "        cleaned=clean_text(text)\n",
    "        print(cleaned)\n",
    "        break"
   ]
  },
  {
   "cell_type": "code",
   "execution_count": 19,
   "metadata": {},
   "outputs": [
    {
     "name": "stdout",
     "output_type": "stream",
     "text": [
      "さあ、働き方をえらぼう\n",
      "その他のキーワード\n",
      "以下の派遣のお仕事情報や検索ボックスを選択することで、\n",
      "その他の派遣のお仕事情報を検索いただくことができます。こちらもご覧ください\n",
      "▼こちらの条件で求人をお探し下さい\n",
      "マークの説明\n",
      "【マイカーOK!\n",
      "活かせる経験・スキル>Excel\n",
      "1450円\n",
      "交通費別途支給\n",
      "【憧れの大手企業】大手メーカーでの技術者の事務アシスタント\n",
      "大手メーカー開発部門での技術者アシスタント。技術者の事務作業補助をお願いします。\n",
      "活かせる経験・スキル>Word、Excel\n",
      "1250円\n",
      "交通費別途支給\n",
      "業界未経験OK!職種未経験OK!\n",
      "アデコ株式会社\n",
      "【一部在宅勤務】大手企業での営業事務!\n",
      "大手メーカーでの営業事務のお仕事です。\n",
      "活かせる経験・スキル>Excel、英語力を活かす\n",
      "1320円\n",
      "交通費別途支給\n",
      "営業事務経験のある方業界未経験OK!\n",
      "アデコ株式会社\n",
      "【一部在宅勤務】大手企業での事務!\n",
      "大手メーカーでの経理兼営業事務のお仕事です。\n",
      "活かせる経験・スキル>Excel、英語力を活かす\n",
      "1320円\n",
      "交通費別途支給\n",
      "事務経験のある方業界未経験OK!職種未経験OK!\n",
      "アデコ株式会社\n",
      "活かせる経験・スキル>Word、Excel\n",
      "1300円\n",
      "交通費別途支給\n",
      "年金システムの保守業務《COBOL・SQL》\n",
      "システム、ソフトウェア開発企業にて改修のお仕事。/COBOLとSQLのスキル活かせます!\n",
      "活かせる経験・スキル>\n",
      "中京区\n",
      "1500円\n",
      "交通費別途支給\n",
      "【以下のご経験のある方は歓迎いたします!\n",
      "ハウスメーカでのCAD業務です\n",
      "駅近!通勤も楽々/CADのご経験を活かしませんか?\n",
      "活かせる経験・スキル>CAD関連\n",
      "1300円\n",
      "交通費別途支給\n",
      "【以下のご経験のある方は歓迎いたします!】建築知識。CAD経験。\n",
      "資格なくても大丈夫!\n",
      "活かせる経験・スキル>Excel、CAD関連\n",
      "1500円\n",
      "交通費別途支給\n",
      "【以下のご経験のある方は歓迎いたします!】建築関連の一般知識。建築士資格(尚可)。\n",
      "1500円\n",
      "交通費別途支給\n",
      "京都三条の駅チカ企業で給与計算など事務業務(パートタイム)\n",
      "活かせる経験・スキル>Excel、資格を活かす\n",
      "1100円\n",
      "【キャリアが浅い、ブランク復帰も大歓迎!\n",
      "1450円*名駅!大手商社でSAPを使用したデータ入力など\n",
      "活かせる経験・スキル>\n",
      "1450円\n",
      "交通費別途支給\n",
      "検索条件を選びなおす\n",
      "エリア\n",
      "指定しない-----------------------------北海道東北北信越関東東海関西中国・四国九州・沖縄\n",
      "職種\n",
      "勤務地\n",
      "指定しない-----------------------------指定しない-----------------------------\n",
      "条件の変更・追加\n",
      "勤務先公開\n",
      "未経験歓迎\n",
      "経験必須\n",
      "紹介予定派遣\n",
      "大量募集\n",
      "その他のキーワード\n",
      "貿易事務韓国語\n",
      "福岡市中国語求人単発\n",
      "派遣サッカー事務\n",
      "金融募集夜勤\n",
      "アムウェイプラザ\n",
      "清水建設子会社\n",
      "住友商事社員食堂\n",
      "品川医療機器メーカー\n",
      "配送ドライバー派遣\n",
      "結婚式友人役派遣\n",
      "着物着付け講師仕事\n",
      "名古屋市\n",
      "中京区\n",
      "名古屋駅\n",
      "名古屋大学駅\n",
      "中京競馬場前駅\n",
      "名古屋競馬場前駅\n",
      "その他のキーワード\n",
      "中京大学求人\n",
      "中国語中京区\n",
      "中京競馬場前\n",
      "デスク中京区\n",
      "京都市中京区\n",
      "中京テレビ派遣\n",
      "中京競馬場勤務\n",
      "中京大学派遣仕事\n",
      "中京テレビバイト\n",
      "関東\n",
      "神奈川\n",
      "埼玉\n",
      "千葉\n",
      "茨城\n",
      "栃木\n",
      "群馬\n",
      "山梨\n",
      "東海\n",
      "愛知\n",
      "静岡\n",
      "岐阜\n",
      "三重\n",
      "関西\n",
      "大阪\n",
      "兵庫\n",
      "京都\n",
      "滋賀\n",
      "奈良\n",
      "和歌山\n",
      "北海道\n",
      "宮城\n",
      "青森\n",
      "岩手\n",
      "秋田\n",
      "山形\n",
      "福島\n",
      "北信越\n",
      "新潟\n",
      "富山\n",
      "石川\n",
      "福井\n",
      "長野\n",
      "中国・四国\n",
      "広島\n",
      "岡山\n",
      "鳥取\n",
      "島根\n",
      "山口\n",
      "徳島\n",
      "香川\n",
      "愛媛\n",
      "高知\n",
      "九州・沖縄\n",
      "福岡\n",
      "佐賀\n",
      "長崎\n",
      "熊本\n",
      "大分\n",
      "宮城\n",
      "鹿児島\n",
      "沖縄\n",
      "オフィスワーク・事務\n",
      "クリエイティブ\n",
      "製造・物流・軽作業\n",
      "「リクナビ派遣」に掲載中の人材派遣の求人情報・仕事情報を注目のキーワードから紹介。短期や長期、また未経験歓迎や紹介予定派遣の仕事などが満載です。\n",
      "アルバイト情報タウンワーク|バイト探しフロム・エーナビ|求人転職サイトはたらいく|女性の転職情報とらばーゆ|派遣求人ならリクナビ派遣\n"
     ]
    }
   ],
   "source": [
    "print(clean_text(text))"
   ]
  },
  {
   "cell_type": "code",
   "execution_count": 384,
   "metadata": {},
   "outputs": [
    {
     "name": "stdout",
     "output_type": "stream",
     "text": [
      "スペースがなくなってしまうので、と、TRMCのオフィスに寄贈してくれました。\n"
     ]
    }
   ],
   "source": [
    "print(text)"
   ]
  },
  {
   "cell_type": "code",
   "execution_count": null,
   "metadata": {},
   "outputs": [],
   "source": [
    "a=\"川崎市高津区でブラックでも即日融\"\n",
    "b=\"川崎市高津区でブラックでは即日融\"\n",
    "\n",
    "set(a)-set(b)"
   ]
  },
  {
   "cell_type": "code",
   "execution_count": null,
   "metadata": {},
   "outputs": [],
   "source": [
    "line"
   ]
  },
  {
   "cell_type": "code",
   "execution_count": null,
   "metadata": {},
   "outputs": [],
   "source": []
  }
 ],
 "metadata": {
  "kernelspec": {
   "display_name": "ft",
   "language": "python",
   "name": "python3"
  },
  "language_info": {
   "codemirror_mode": {
    "name": "ipython",
    "version": 3
   },
   "file_extension": ".py",
   "mimetype": "text/x-python",
   "name": "python",
   "nbconvert_exporter": "python",
   "pygments_lexer": "ipython3",
   "version": "3.1.undefined"
  }
 },
 "nbformat": 4,
 "nbformat_minor": 2
}
