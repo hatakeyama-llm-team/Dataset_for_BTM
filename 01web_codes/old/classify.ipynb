{
 "cells": [
  {
   "cell_type": "code",
   "execution_count": 6,
   "metadata": {},
   "outputs": [],
   "source": [
    "import glob\n",
    "import sys\n",
    "import os"
   ]
  },
  {
   "cell_type": "code",
   "execution_count": 4,
   "metadata": {},
   "outputs": [
    {
     "name": "stdout",
     "output_type": "stream",
     "text": [
      "1697  files found\n"
     ]
    }
   ],
   "source": [
    "with open (\"temp/gz_list.txt\",\"r\") as f:\n",
    "    gz_list = f.read().splitlines()\n",
    "\n",
    "gz_list=[i for i in gz_list if i.endswith('.gz')]\n",
    "print(len(gz_list), \" files found\")"
   ]
  },
  {
   "cell_type": "code",
   "execution_count": 8,
   "metadata": {},
   "outputs": [],
   "source": [
    "if not os.path.exists(\"temp/fin\"):\n",
    "    os.makedirs(\"temp/fin\")\n"
   ]
  },
  {
   "cell_type": "code",
   "execution_count": null,
   "metadata": {},
   "outputs": [],
   "source": [
    "import os\n",
    "from concurrent.futures import ThreadPoolExecutor\n",
    "max_workers=10\n",
    "def process_file(gz_path):\n",
    "    gz_name = gz_path.split(\"/\")[-1].split(\".\")[0]\n",
    "\n",
    "    if os.path.exists(\"temp/fin/\" + gz_name):\n",
    "        print(\"File already processed\")\n",
    "    else:\n",
    "        print(\"Processing \", gz_name)\n",
    "        os.system(f\"python document_distributor.py {gz_path}\")\n",
    "        print(\"File processed\")\n",
    "        with open(\"temp/fin/\" + gz_name, \"w\") as f:\n",
    "            f.write(\"\")\n",
    "# ThreadPoolExecutorを使って並列化\n",
    "with ThreadPoolExecutor(max_workers=5) as executor:\n",
    "    executor.map(process_file, gz_list)"
   ]
  }
 ],
 "metadata": {
  "kernelspec": {
   "display_name": "textprocess",
   "language": "python",
   "name": "python3"
  },
  "language_info": {
   "codemirror_mode": {
    "name": "ipython",
    "version": 3
   },
   "file_extension": ".py",
   "mimetype": "text/x-python",
   "name": "python",
   "nbconvert_exporter": "python",
   "pygments_lexer": "ipython3",
   "version": "3.12.2"
  }
 },
 "nbformat": 4,
 "nbformat_minor": 2
}
