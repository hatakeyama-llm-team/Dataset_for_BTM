{
 "cells": [
  {
   "cell_type": "code",
   "execution_count": 1,
   "metadata": {},
   "outputs": [],
   "source": [
    "#クリーニングスクリプトに入れ忘れた、日付系を消す処理\n",
    "import glob\n",
    "import json\n"
   ]
  },
  {
   "cell_type": "code",
   "execution_count": 7,
   "metadata": {},
   "outputs": [
    {
     "data": {
      "text/plain": [
       "442"
      ]
     },
     "execution_count": 7,
     "metadata": {},
     "output_type": "execute_result"
    }
   ],
   "source": [
    "cat_id=39\n",
    "jsonl_list=glob.glob(f\"../data/categorized/{cat_id}/*.jsonl\", recursive=True)\n",
    "len(jsonl_list)"
   ]
  },
  {
   "cell_type": "code",
   "execution_count": 8,
   "metadata": {},
   "outputs": [
    {
     "data": {
      "text/plain": [
       "True"
      ]
     },
     "execution_count": 8,
     "metadata": {},
     "output_type": "execute_result"
    }
   ],
   "source": [
    "\"../data/categorized/39/00A2Zpve0kEr.jsonl\" in jsonl_list"
   ]
  },
  {
   "cell_type": "code",
   "execution_count": 12,
   "metadata": {},
   "outputs": [
    {
     "name": "stderr",
     "output_type": "stream",
     "text": [
      "  0%|          | 5/10000 [00:06<3:44:06,  1.35s/it]"
     ]
    }
   ],
   "source": [
    "path=jsonl_list[0]\n",
    "\n",
    "from datetime import datetime, timedelta\n",
    "import os\n",
    "from tqdm import tqdm\n",
    "#冒頭の数字だけの行を削除\n",
    "def remove_num_lines(record):\n",
    "    lines=record[\"text\"].split(\"\\n\")\n",
    "    new_lines=[]\n",
    "    for line in lines:\n",
    "        if len(line)==0:\n",
    "            continue\n",
    "        check_line=line[:20]\n",
    "        count = sum(c.isdigit() for c in check_line)\n",
    "        #num_ratio=count/len(check_line)\n",
    "        num_ratio=count\n",
    "        #print(num_ratio)\n",
    "        ratio=5\n",
    "        if num_ratio>ratio and check_line.find(\":\")>0:\n",
    "            continue\n",
    "        if num_ratio>ratio and check_line.find(\"日\")>0:\n",
    "            continue\n",
    "        if num_ratio>ratio and check_line.find(\"年\")>0:\n",
    "            continue\n",
    "        if num_ratio>ratio and check_line.find(\"-\")>0:\n",
    "            continue\n",
    "        if num_ratio>ratio and check_line.find(\"/\")>0:\n",
    "            continue\n",
    "        if num_ratio>ratio and check_line.find(\"／\")>0:\n",
    "            continue\n",
    "        if num_ratio>ratio and check_line.find(\"月\")>0:\n",
    "            continue\n",
    " \n",
    "        new_lines.append(line)\n",
    "    record[\"text\"]=\"\\n\".join(new_lines)\n",
    "    return record\n",
    "\n",
    "for cat_id in tqdm(range(10000)):\n",
    "    jsonl_list=glob.glob(f\"../data/categorized/{cat_id}/*.jsonl\", recursive=True)\n",
    "    for path in (jsonl_list):\n",
    "        # ファイルの最終更新時間とサイズをチェック\n",
    "        stats = os.stat(path)\n",
    "        last_modified = datetime.fromtimestamp(stats.st_mtime)\n",
    "        if (datetime.now() - last_modified) > timedelta(minutes=5):\n",
    "        #if True:\n",
    "    \n",
    "            record_list=[]\n",
    "            with open(path, \"r\") as f:\n",
    "                for record in f:\n",
    "                    data=json.loads(record)\n",
    "                    record_list.append(data)\n",
    "\n",
    "\n",
    "            cleaned_record_list=[]\n",
    "            for record in record_list:\n",
    "                cleaned=remove_num_lines(record)\n",
    "                if len(cleaned[\"text\"])>0:\n",
    "                    cleaned_record_list.append(cleaned)\n",
    "\n",
    "            with open(path, \"w\") as f:\n",
    "                for record in cleaned_record_list:\n",
    "                    f.write(json.dumps(record, ensure_ascii=False)+\"\\n\")\n",
    "            #break\n",
    "            #if path==\"../data/categorized/39/00A2Zpve0kEr.jsonl\":\n",
    "            #    break"
   ]
  },
  {
   "cell_type": "code",
   "execution_count": null,
   "metadata": {},
   "outputs": [],
   "source": []
  }
 ],
 "metadata": {
  "kernelspec": {
   "display_name": "base",
   "language": "python",
   "name": "python3"
  },
  "language_info": {
   "codemirror_mode": {
    "name": "ipython",
    "version": 3
   },
   "file_extension": ".py",
   "mimetype": "text/x-python",
   "name": "python",
   "nbconvert_exporter": "python",
   "pygments_lexer": "ipython3",
   "version": "3.12.2"
  }
 },
 "nbformat": 4,
 "nbformat_minor": 2
}
