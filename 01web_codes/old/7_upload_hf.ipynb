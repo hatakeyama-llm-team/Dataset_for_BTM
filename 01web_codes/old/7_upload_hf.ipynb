{
 "cells": [
  {
   "cell_type": "code",
   "execution_count": 2,
   "metadata": {},
   "outputs": [
    {
     "name": "stderr",
     "output_type": "stream",
     "text": [
      "/home/hatakeyama/miniconda3/envs/textprocess/lib/python3.12/site-packages/tqdm/auto.py:21: TqdmWarning: IProgress not found. Please update jupyter and ipywidgets. See https://ipywidgets.readthedocs.io/en/stable/user_install.html\n",
      "  from .autonotebook import tqdm as notebook_tqdm\n"
     ]
    }
   ],
   "source": [
    "import os\n",
    "import glob\n",
    "import json\n",
    "import pandas as pd\n",
    "\n",
    "# os.environ[\"HF_ENDPOINT\"] = \"http://localhost:5564\"\n",
    "os.environ[\"HF_HUB_ENABLE_HF_TRANSFER\"] = \"1\"\n",
    "from huggingface_hub import HfApi, logging\n",
    "logging.set_verbosity_debug()\n",
    "hf = HfApi()"
   ]
  },
  {
   "cell_type": "code",
   "execution_count": 1,
   "metadata": {},
   "outputs": [],
   "source": [
    "cluster_id=65\n",
    "n_clusters=10000\n",
    "for i in range(n_clusters):\n",
    "    files=glob.glob(f\"../data/dedup_categorized/{cluster_id}/*.jsonl\")\n",
    "    if len(files)==0:\n",
    "        continue\n",
    "    text_list=[]\n",
    "    for file in files:\n",
    "        with open(file, \"r\") as f:\n",
    "            for line in f:\n",
    "                text_list.append(json.loads(line)[\"text\"])\n",
    "    df=pd.DataFrame(text_list, columns=[\"text\"])\n",
    "    df.to_parquet(f\"../data/temp/temp.parquet\")\n",
    "\n",
    "\n",
    "    hf.upload_file(path_or_fileobj=\"../data/temp/temp.parquet\",\n",
    "    path_in_repo=f\"parquet_files/{cluster_id}.parquet\",\n",
    "    repo_id=\"kanhatakeyama/TanukiCorpus\", repo_type=\"dataset\")"
   ]
  },
  {
   "cell_type": "code",
   "execution_count": 6,
   "metadata": {},
   "outputs": [
    {
     "data": {
      "text/html": [
       "<div>\n",
       "<style scoped>\n",
       "    .dataframe tbody tr th:only-of-type {\n",
       "        vertical-align: middle;\n",
       "    }\n",
       "\n",
       "    .dataframe tbody tr th {\n",
       "        vertical-align: top;\n",
       "    }\n",
       "\n",
       "    .dataframe thead th {\n",
       "        text-align: right;\n",
       "    }\n",
       "</style>\n",
       "<table border=\"1\" class=\"dataframe\">\n",
       "  <thead>\n",
       "    <tr style=\"text-align: right;\">\n",
       "      <th></th>\n",
       "      <th>text</th>\n",
       "    </tr>\n",
       "  </thead>\n",
       "  <tbody>\n",
       "    <tr>\n",
       "      <th>0</th>\n",
       "      <td>ラッカセイくん群馬県2017.03.27\\n副業の認知度も余程のものになってきた現代世界で時...</td>\n",
       "    </tr>\n",
       "    <tr>\n",
       "      <th>1</th>\n",
       "      <td>夏バテ対策は人間でなくても必要ですよね。そういった目的でフォードの毛をカットしたのをよく見か...</td>\n",
       "    </tr>\n",
       "    <tr>\n",
       "      <th>2</th>\n",
       "      <td>全部見ればもう完璧!下地コンシーラー初心者が上達のために見ておくべき資料まとめ【秀逸】\\nお...</td>\n",
       "    </tr>\n",
       "    <tr>\n",
       "      <th>3</th>\n",
       "      <td>ブッカーかけビデオ6分13秒\\n風邪をひいてしまい、暖かくした部屋でだらだらとyoutube...</td>\n",
       "    </tr>\n",
       "    <tr>\n",
       "      <th>4</th>\n",
       "      <td>夏に向けて痩せたいと思ってもエステに通うボニックもお金もないし、アップの効果なし口アナタとは...</td>\n",
       "    </tr>\n",
       "    <tr>\n",
       "      <th>...</th>\n",
       "      <td>...</td>\n",
       "    </tr>\n",
       "    <tr>\n",
       "      <th>2306</th>\n",
       "      <td>川添禎浩,古賀信幸\\n栄養学に必要な薬の知識を、基本的なことから学べると好評テキストのフルカ...</td>\n",
       "    </tr>\n",
       "    <tr>\n",
       "      <th>2307</th>\n",
       "      <td>日本のレディース服って本当に系統がたくさんあって、種類も豊富だと思います。\\nまず最初にあく...</td>\n",
       "    </tr>\n",
       "    <tr>\n",
       "      <th>2308</th>\n",
       "      <td>最近は気象情報はポンプを見るほうが圧倒的に早いと思うのですが、安心にポチッとテレビをつけて聞...</td>\n",
       "    </tr>\n",
       "    <tr>\n",
       "      <th>2309</th>\n",
       "      <td>スーパーカブと思しき人がやってきて、価格に何事もなかったみたいに合流していました。ヒヤヒヤし...</td>\n",
       "    </tr>\n",
       "    <tr>\n",
       "      <th>2310</th>\n",
       "      <td>銘柄などに興味を持たないほうが、ある意味ストレートに銘柄を愉しめるのだと考えたほうが良いので...</td>\n",
       "    </tr>\n",
       "  </tbody>\n",
       "</table>\n",
       "<p>2311 rows × 1 columns</p>\n",
       "</div>"
      ],
      "text/plain": [
       "                                                   text\n",
       "0     ラッカセイくん群馬県2017.03.27\\n副業の認知度も余程のものになってきた現代世界で時...\n",
       "1     夏バテ対策は人間でなくても必要ですよね。そういった目的でフォードの毛をカットしたのをよく見か...\n",
       "2     全部見ればもう完璧!下地コンシーラー初心者が上達のために見ておくべき資料まとめ【秀逸】\\nお...\n",
       "3     ブッカーかけビデオ6分13秒\\n風邪をひいてしまい、暖かくした部屋でだらだらとyoutube...\n",
       "4     夏に向けて痩せたいと思ってもエステに通うボニックもお金もないし、アップの効果なし口アナタとは...\n",
       "...                                                 ...\n",
       "2306  川添禎浩,古賀信幸\\n栄養学に必要な薬の知識を、基本的なことから学べると好評テキストのフルカ...\n",
       "2307  日本のレディース服って本当に系統がたくさんあって、種類も豊富だと思います。\\nまず最初にあく...\n",
       "2308  最近は気象情報はポンプを見るほうが圧倒的に早いと思うのですが、安心にポチッとテレビをつけて聞...\n",
       "2309  スーパーカブと思しき人がやってきて、価格に何事もなかったみたいに合流していました。ヒヤヒヤし...\n",
       "2310  銘柄などに興味を持たないほうが、ある意味ストレートに銘柄を愉しめるのだと考えたほうが良いので...\n",
       "\n",
       "[2311 rows x 1 columns]"
      ]
     },
     "execution_count": 6,
     "metadata": {},
     "output_type": "execute_result"
    }
   ],
   "source": [
    "df"
   ]
  },
  {
   "cell_type": "code",
   "execution_count": null,
   "metadata": {},
   "outputs": [],
   "source": []
  }
 ],
 "metadata": {
  "kernelspec": {
   "display_name": "llmeval",
   "language": "python",
   "name": "python3"
  },
  "language_info": {
   "codemirror_mode": {
    "name": "ipython",
    "version": 3
   },
   "file_extension": ".py",
   "mimetype": "text/x-python",
   "name": "python",
   "nbconvert_exporter": "python",
   "pygments_lexer": "ipython3",
   "version": "3.12.2"
  }
 },
 "nbformat": 4,
 "nbformat_minor": 2
}
