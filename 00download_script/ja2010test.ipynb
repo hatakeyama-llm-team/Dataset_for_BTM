{
 "cells": [
  {
   "cell_type": "code",
   "execution_count": 54,
   "metadata": {},
   "outputs": [],
   "source": [
    "\n",
    "from datasets import load_dataset\n",
    "import json\n",
    "import os\n",
    "import gzip\n",
    "\n",
    "# 設定\n",
    "save_dir = \"../data/original_dump/jap2010/\"\n",
    "batch_size = 10000\n",
    "\n",
    "\n",
    "def load(parquet_id):\n",
    "    # streamingだと､なぜか15k行目くらいでerrorが出てくる\n",
    "    return load_dataset('hatakeyama-llm-team/japanese2010',\n",
    "                        split='train',\n",
    "                        data_files=f\"https://huggingface.co/datasets/hatakeyama-llm-team/japanese2010/resolve/refs%2Fconvert%2Fparquet/default/train/{parquet_id}.parquet\"\n",
    "                        #streaming=True\n",
    "                        )\n",
    "\n",
    "\n",
    "def save_jsonl_gz(data, filename):\n",
    "    \"\"\"指定されたファイル名でgzip圧縮されたJSON Lines形式でデータを保存する\"\"\"\n",
    "    with gzip.open(filename, 'wt', encoding='utf-8') as f:\n",
    "        for item in data:\n",
    "            f.write(json.dumps(item, ensure_ascii=False) + '\\n')\n",
    "\n",
    "\n",
    "def batch_and_save(parquet_id):\n",
    "    try:\n",
    "        dataset = load(parquet_id)\n",
    "    except:\n",
    "        print(f\"Failed to load {parquet_id}\")\n",
    "        return False\n",
    "    \"\"\"データセットをバッチ処理し、各バッチをgzip圧縮されたファイルに保存する\"\"\"\n",
    "    batch = []\n",
    "    file_count = 0\n",
    "    #for item in dataset:\n",
    "    for i in range(len(dataset)):\n",
    "        try:\n",
    "            text=dataset[i]['text']\n",
    "            batch.append({\"text\": text})\n",
    "        except Exception as e:\n",
    "            print(e)\n",
    "        continue\n",
    "\n",
    "        if len(batch) == batch_size:\n",
    "            save_path = os.path.join(\n",
    "                save_dir, f'jap2010_{parquet_id}_{file_count}.jsonl.gz')\n",
    "            save_jsonl_gz(batch, save_path)\n",
    "            print(f'Saved {save_path}')\n",
    "            batch = []\n",
    "            file_count += 1\n",
    "    # 最後のバッチを保存\n",
    "    if batch:\n",
    "        save_path = os.path.join(save_dir, f'jap2010_{parquet_id}_{file_count}.jsonl.gz')\n",
    "        save_jsonl_gz(batch, save_path)\n",
    "        print(f'Saved {save_path}')\n",
    "\n",
    "\n",
    "    return True"
   ]
  },
  {
   "cell_type": "code",
   "execution_count": 56,
   "metadata": {},
   "outputs": [
    {
     "name": "stdout",
     "output_type": "stream",
     "text": [
      "0001\n",
      "Saved ../data/original_dump/jap2010/jap2010_0001_0.jsonl.gz\n",
      "0002\n"
     ]
    },
    {
     "name": "stderr",
     "output_type": "stream",
     "text": [
      "Downloading data: 100%|██████████| 140M/140M [00:21<00:00, 6.61MB/s]\n",
      "Generating train split: 2516 examples [00:01, 2321.74 examples/s]\n"
     ]
    },
    {
     "name": "stdout",
     "output_type": "stream",
     "text": [
      "Saved ../data/original_dump/jap2010/jap2010_0002_0.jsonl.gz\n",
      "0003\n"
     ]
    },
    {
     "name": "stderr",
     "output_type": "stream",
     "text": [
      "Downloading data: 100%|██████████| 132M/132M [00:17<00:00, 7.37MB/s]\n",
      "Generating train split: 1911 examples [00:01, 1833.51 examples/s]\n"
     ]
    },
    {
     "name": "stdout",
     "output_type": "stream",
     "text": [
      "Saved ../data/original_dump/jap2010/jap2010_0003_0.jsonl.gz\n",
      "0004\n"
     ]
    },
    {
     "name": "stderr",
     "output_type": "stream",
     "text": [
      "Downloading data: 100%|██████████| 113M/113M [00:15<00:00, 7.30MB/s]\n",
      "Generating train split: 1583 examples [00:00, 1594.17 examples/s]\n"
     ]
    },
    {
     "name": "stdout",
     "output_type": "stream",
     "text": [
      "Saved ../data/original_dump/jap2010/jap2010_0004_0.jsonl.gz\n",
      "0005\n"
     ]
    },
    {
     "name": "stderr",
     "output_type": "stream",
     "text": [
      "Downloading data: 100%|██████████| 137M/137M [00:18<00:00, 7.51MB/s]\n",
      "Generating train split: 2250 examples [00:01, 2088.07 examples/s]\n"
     ]
    },
    {
     "name": "stdout",
     "output_type": "stream",
     "text": [
      "Saved ../data/original_dump/jap2010/jap2010_0005_0.jsonl.gz\n",
      "0006\n"
     ]
    },
    {
     "name": "stderr",
     "output_type": "stream",
     "text": [
      "Downloading data: 100%|██████████| 147M/147M [00:19<00:00, 7.51MB/s]\n",
      "Generating train split: 1992 examples [00:01, 1659.77 examples/s]\n"
     ]
    },
    {
     "name": "stdout",
     "output_type": "stream",
     "text": [
      "Saved ../data/original_dump/jap2010/jap2010_0006_0.jsonl.gz\n",
      "0007\n"
     ]
    },
    {
     "name": "stderr",
     "output_type": "stream",
     "text": [
      "Downloading data: 100%|██████████| 88.5M/88.5M [00:12<00:00, 7.06MB/s]\n",
      "Generating train split: 1191 examples [00:00, 1615.95 examples/s]\n"
     ]
    },
    {
     "name": "stdout",
     "output_type": "stream",
     "text": [
      "Saved ../data/original_dump/jap2010/jap2010_0007_0.jsonl.gz\n",
      "0008\n"
     ]
    },
    {
     "name": "stderr",
     "output_type": "stream",
     "text": [
      "Downloading data: 100%|██████████| 143M/143M [00:18<00:00, 7.71MB/s]\n",
      "Generating train split: 2064 examples [00:01, 1731.50 examples/s]\n"
     ]
    },
    {
     "name": "stdout",
     "output_type": "stream",
     "text": [
      "Saved ../data/original_dump/jap2010/jap2010_0008_0.jsonl.gz\n",
      "0009\n"
     ]
    },
    {
     "name": "stderr",
     "output_type": "stream",
     "text": [
      "Downloading data: 100%|██████████| 143M/143M [00:20<00:00, 7.06MB/s]\n",
      "Generating train split: 1987 examples [00:01, 1629.51 examples/s]\n"
     ]
    },
    {
     "name": "stdout",
     "output_type": "stream",
     "text": [
      "Saved ../data/original_dump/jap2010/jap2010_0009_0.jsonl.gz\n",
      "0010\n"
     ]
    },
    {
     "name": "stderr",
     "output_type": "stream",
     "text": [
      "Downloading data: 100%|██████████| 144M/144M [00:18<00:00, 7.93MB/s]\n",
      "Generating train split: 1913 examples [00:01, 1548.82 examples/s]\n"
     ]
    },
    {
     "name": "stdout",
     "output_type": "stream",
     "text": [
      "Saved ../data/original_dump/jap2010/jap2010_0010_0.jsonl.gz\n",
      "0011\n"
     ]
    },
    {
     "name": "stderr",
     "output_type": "stream",
     "text": [
      "Downloading data: 100%|██████████| 143M/143M [00:23<00:00, 6.16MB/s]\n",
      "Generating train split: 1736 examples [00:01, 1495.27 examples/s]\n"
     ]
    },
    {
     "name": "stdout",
     "output_type": "stream",
     "text": [
      "Saved ../data/original_dump/jap2010/jap2010_0011_0.jsonl.gz\n",
      "0012\n"
     ]
    },
    {
     "name": "stderr",
     "output_type": "stream",
     "text": [
      "Downloading data: 100%|██████████| 138M/138M [00:17<00:00, 8.06MB/s]\n",
      "Generating train split: 2410 examples [00:01, 2271.02 examples/s]\n"
     ]
    },
    {
     "name": "stdout",
     "output_type": "stream",
     "text": [
      "Saved ../data/original_dump/jap2010/jap2010_0012_0.jsonl.gz\n",
      "0013\n"
     ]
    },
    {
     "name": "stderr",
     "output_type": "stream",
     "text": [
      "Downloading data: 100%|██████████| 137M/137M [00:17<00:00, 7.75MB/s]\n",
      "Generating train split: 3417 examples [00:01, 2973.30 examples/s]\n"
     ]
    },
    {
     "ename": "KeyboardInterrupt",
     "evalue": "",
     "output_type": "error",
     "traceback": [
      "\u001b[0;31m---------------------------------------------------------------------------\u001b[0m",
      "\u001b[0;31mKeyboardInterrupt\u001b[0m                         Traceback (most recent call last)",
      "Cell \u001b[0;32mIn[56], line 12\u001b[0m\n\u001b[1;32m     10\u001b[0m \u001b[38;5;28;01mfor\u001b[39;00m parquet_id \u001b[38;5;129;01min\u001b[39;00m ids:\n\u001b[1;32m     11\u001b[0m     \u001b[38;5;28mprint\u001b[39m(parquet_id)\n\u001b[0;32m---> 12\u001b[0m     \u001b[38;5;28;01mif\u001b[39;00m \u001b[38;5;129;01mnot\u001b[39;00m \u001b[43mbatch_and_save\u001b[49m\u001b[43m(\u001b[49m\u001b[43mparquet_id\u001b[49m\u001b[43m)\u001b[49m:\n\u001b[1;32m     13\u001b[0m         \u001b[38;5;28;01mbreak\u001b[39;00m\n",
      "Cell \u001b[0;32mIn[54], line 55\u001b[0m, in \u001b[0;36mbatch_and_save\u001b[0;34m(parquet_id)\u001b[0m\n\u001b[1;32m     53\u001b[0m \u001b[38;5;28;01mif\u001b[39;00m batch:\n\u001b[1;32m     54\u001b[0m     save_path \u001b[38;5;241m=\u001b[39m os\u001b[38;5;241m.\u001b[39mpath\u001b[38;5;241m.\u001b[39mjoin(save_dir, \u001b[38;5;124mf\u001b[39m\u001b[38;5;124m'\u001b[39m\u001b[38;5;124mjap2010_\u001b[39m\u001b[38;5;132;01m{\u001b[39;00mparquet_id\u001b[38;5;132;01m}\u001b[39;00m\u001b[38;5;124m_\u001b[39m\u001b[38;5;132;01m{\u001b[39;00mfile_count\u001b[38;5;132;01m}\u001b[39;00m\u001b[38;5;124m.jsonl.gz\u001b[39m\u001b[38;5;124m'\u001b[39m)\n\u001b[0;32m---> 55\u001b[0m     \u001b[43msave_jsonl_gz\u001b[49m\u001b[43m(\u001b[49m\u001b[43mbatch\u001b[49m\u001b[43m,\u001b[49m\u001b[43m \u001b[49m\u001b[43msave_path\u001b[49m\u001b[43m)\u001b[49m\n\u001b[1;32m     56\u001b[0m     \u001b[38;5;28mprint\u001b[39m(\u001b[38;5;124mf\u001b[39m\u001b[38;5;124m'\u001b[39m\u001b[38;5;124mSaved \u001b[39m\u001b[38;5;132;01m{\u001b[39;00msave_path\u001b[38;5;132;01m}\u001b[39;00m\u001b[38;5;124m'\u001b[39m)\n\u001b[1;32m     59\u001b[0m \u001b[38;5;28;01mreturn\u001b[39;00m \u001b[38;5;28;01mTrue\u001b[39;00m\n",
      "Cell \u001b[0;32mIn[54], line 24\u001b[0m, in \u001b[0;36msave_jsonl_gz\u001b[0;34m(data, filename)\u001b[0m\n\u001b[1;32m     22\u001b[0m \u001b[38;5;28;01mwith\u001b[39;00m gzip\u001b[38;5;241m.\u001b[39mopen(filename, \u001b[38;5;124m'\u001b[39m\u001b[38;5;124mwt\u001b[39m\u001b[38;5;124m'\u001b[39m, encoding\u001b[38;5;241m=\u001b[39m\u001b[38;5;124m'\u001b[39m\u001b[38;5;124mutf-8\u001b[39m\u001b[38;5;124m'\u001b[39m) \u001b[38;5;28;01mas\u001b[39;00m f:\n\u001b[1;32m     23\u001b[0m     \u001b[38;5;28;01mfor\u001b[39;00m item \u001b[38;5;129;01min\u001b[39;00m data:\n\u001b[0;32m---> 24\u001b[0m         \u001b[43mf\u001b[49m\u001b[38;5;241;43m.\u001b[39;49m\u001b[43mwrite\u001b[49m\u001b[43m(\u001b[49m\u001b[43mjson\u001b[49m\u001b[38;5;241;43m.\u001b[39;49m\u001b[43mdumps\u001b[49m\u001b[43m(\u001b[49m\u001b[43mitem\u001b[49m\u001b[43m,\u001b[49m\u001b[43m \u001b[49m\u001b[43mensure_ascii\u001b[49m\u001b[38;5;241;43m=\u001b[39;49m\u001b[38;5;28;43;01mFalse\u001b[39;49;00m\u001b[43m)\u001b[49m\u001b[43m \u001b[49m\u001b[38;5;241;43m+\u001b[39;49m\u001b[43m \u001b[49m\u001b[38;5;124;43m'\u001b[39;49m\u001b[38;5;130;43;01m\\n\u001b[39;49;00m\u001b[38;5;124;43m'\u001b[39;49m\u001b[43m)\u001b[49m\n",
      "File \u001b[0;32m~/miniconda3/envs/textprocess/lib/python3.12/gzip.py:300\u001b[0m, in \u001b[0;36mGzipFile.write\u001b[0;34m(self, data)\u001b[0m\n\u001b[1;32m    297\u001b[0m \u001b[38;5;28;01mif\u001b[39;00m \u001b[38;5;28mself\u001b[39m\u001b[38;5;241m.\u001b[39mfileobj \u001b[38;5;129;01mis\u001b[39;00m \u001b[38;5;28;01mNone\u001b[39;00m:\n\u001b[1;32m    298\u001b[0m     \u001b[38;5;28;01mraise\u001b[39;00m \u001b[38;5;167;01mValueError\u001b[39;00m(\u001b[38;5;124m\"\u001b[39m\u001b[38;5;124mwrite() on closed GzipFile object\u001b[39m\u001b[38;5;124m\"\u001b[39m)\n\u001b[0;32m--> 300\u001b[0m \u001b[38;5;28;01mreturn\u001b[39;00m \u001b[38;5;28;43mself\u001b[39;49m\u001b[38;5;241;43m.\u001b[39;49m\u001b[43m_buffer\u001b[49m\u001b[38;5;241;43m.\u001b[39;49m\u001b[43mwrite\u001b[49m\u001b[43m(\u001b[49m\u001b[43mdata\u001b[49m\u001b[43m)\u001b[49m\n",
      "File \u001b[0;32m~/miniconda3/envs/textprocess/lib/python3.12/gzip.py:130\u001b[0m, in \u001b[0;36m_WriteBufferStream.write\u001b[0;34m(self, data)\u001b[0m\n\u001b[1;32m    129\u001b[0m \u001b[38;5;28;01mdef\u001b[39;00m \u001b[38;5;21mwrite\u001b[39m(\u001b[38;5;28mself\u001b[39m, data):\n\u001b[0;32m--> 130\u001b[0m     \u001b[38;5;28;01mreturn\u001b[39;00m \u001b[38;5;28;43mself\u001b[39;49m\u001b[38;5;241;43m.\u001b[39;49m\u001b[43mgzip_file\u001b[49m\u001b[38;5;241;43m.\u001b[39;49m\u001b[43m_write_raw\u001b[49m\u001b[43m(\u001b[49m\u001b[43mdata\u001b[49m\u001b[43m)\u001b[49m\n",
      "File \u001b[0;32m~/miniconda3/envs/textprocess/lib/python3.12/gzip.py:312\u001b[0m, in \u001b[0;36mGzipFile._write_raw\u001b[0;34m(self, data)\u001b[0m\n\u001b[1;32m    309\u001b[0m     length \u001b[38;5;241m=\u001b[39m data\u001b[38;5;241m.\u001b[39mnbytes\n\u001b[1;32m    311\u001b[0m \u001b[38;5;28;01mif\u001b[39;00m length \u001b[38;5;241m>\u001b[39m \u001b[38;5;241m0\u001b[39m:\n\u001b[0;32m--> 312\u001b[0m     \u001b[38;5;28mself\u001b[39m\u001b[38;5;241m.\u001b[39mfileobj\u001b[38;5;241m.\u001b[39mwrite(\u001b[38;5;28;43mself\u001b[39;49m\u001b[38;5;241;43m.\u001b[39;49m\u001b[43mcompress\u001b[49m\u001b[38;5;241;43m.\u001b[39;49m\u001b[43mcompress\u001b[49m\u001b[43m(\u001b[49m\u001b[43mdata\u001b[49m\u001b[43m)\u001b[49m)\n\u001b[1;32m    313\u001b[0m     \u001b[38;5;28mself\u001b[39m\u001b[38;5;241m.\u001b[39msize \u001b[38;5;241m+\u001b[39m\u001b[38;5;241m=\u001b[39m length\n\u001b[1;32m    314\u001b[0m     \u001b[38;5;28mself\u001b[39m\u001b[38;5;241m.\u001b[39mcrc \u001b[38;5;241m=\u001b[39m zlib\u001b[38;5;241m.\u001b[39mcrc32(data, \u001b[38;5;28mself\u001b[39m\u001b[38;5;241m.\u001b[39mcrc)\n",
      "\u001b[0;31mKeyboardInterrupt\u001b[0m: "
     ]
    }
   ],
   "source": [
    "if not os.path.exists(save_dir):\n",
    "    os.makedirs(save_dir)\n",
    "\n",
    "#batch_and_save(dataset)\n",
    "\n",
    "# 生成する文字列の数\n",
    "num_strings = 9999\n",
    "ids= [f\"{i:04}\" for i in range(1, num_strings + 1)]\n",
    "\n",
    "for parquet_id in ids:\n",
    "    print(parquet_id)\n",
    "    if not batch_and_save(parquet_id):\n",
    "        break\n"
   ]
  },
  {
   "cell_type": "code",
   "execution_count": null,
   "metadata": {},
   "outputs": [],
   "source": []
  }
 ],
 "metadata": {
  "kernelspec": {
   "display_name": "textprocess",
   "language": "python",
   "name": "python3"
  },
  "language_info": {
   "codemirror_mode": {
    "name": "ipython",
    "version": 3
   },
   "file_extension": ".py",
   "mimetype": "text/x-python",
   "name": "python",
   "nbconvert_exporter": "python",
   "pygments_lexer": "ipython3",
   "version": "3.12.2"
  }
 },
 "nbformat": 4,
 "nbformat_minor": 2
}
