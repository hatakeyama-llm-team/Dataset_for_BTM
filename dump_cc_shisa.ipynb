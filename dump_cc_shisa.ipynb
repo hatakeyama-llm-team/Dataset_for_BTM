{
 "cells": [
  {
   "cell_type": "code",
   "execution_count": 13,
   "metadata": {},
   "outputs": [],
   "source": [
    "import pandas as pd"
   ]
  },
  {
   "cell_type": "code",
   "execution_count": 14,
   "metadata": {},
   "outputs": [],
   "source": [
    "import gzip\n",
    "import json\n",
    "def save_jsonl_gz(data, filename):\n",
    "    \"\"\"指定されたファイル名でgzip圧縮されたJSON Lines形式でデータを保存する\"\"\"\n",
    "    with gzip.open(filename, 'wt', encoding='utf-8') as f:\n",
    "        for item in data:\n",
    "            f.write(json.dumps(item, ensure_ascii=False) + '\\n')\n",
    "\n"
   ]
  },
  {
   "cell_type": "code",
   "execution_count": 15,
   "metadata": {},
   "outputs": [
    {
     "name": "stderr",
     "output_type": "stream",
     "text": [
      "2030488it [00:54, 2550.11it/s]  "
     ]
    },
    {
     "name": "stdout",
     "output_type": "stream",
     "text": [
      "Saved data/original_dump/cc100/cc100_ja_0.jsonl.gz\n"
     ]
    },
    {
     "name": "stderr",
     "output_type": "stream",
     "text": [
      "3993893it [01:01, 299396.82it/s]"
     ]
    }
   ],
   "source": [
    "from tqdm import tqdm\n",
    "path=\"data/original_dump/ja.txt.xz\"\n",
    "save_dir=\"data/original_dump/cc100\"\n",
    "import lzma\n",
    "import os\n",
    "if not os.path.exists(save_dir):\n",
    "    os.makedirs(save_dir)\n",
    " \n",
    "batch_size=2000000\n",
    "batch = []\n",
    "file_count = 0\n",
    "\n",
    "with lzma.open(path) as f:\n",
    "    #lines = f.readlines()\n",
    "#for line in tqdm(lines):\n",
    "    for line in tqdm(f):\n",
    "        line=line.decode()\n",
    "\n",
    "        batch.append({\"text\": line})\n",
    "        if len(batch) == batch_size:\n",
    "            save_path = os.path.join(\n",
    "                save_dir, f'cc100_ja_{file_count}.jsonl.gz')\n",
    "            save_jsonl_gz(batch, save_path)\n",
    "            print(f'Saved {save_path}')\n",
    "            batch = []\n",
    "            file_count += 1\n",
    "    # 最後のバッチを保存\n",
    "    if batch:\n",
    "        save_path = os.path.join(save_dir, f'cc100_ja_{file_count}.jsonl.gz')\n",
    "        save_jsonl_gz(batch, save_path)\n",
    "        print(f'Saved {save_path}')\n",
    "\n"
   ]
  },
  {
   "cell_type": "code",
   "execution_count": null,
   "metadata": {},
   "outputs": [],
   "source": [
    "len(line)"
   ]
  },
  {
   "cell_type": "code",
   "execution_count": null,
   "metadata": {},
   "outputs": [],
   "source": [
    "with open"
   ]
  },
  {
   "cell_type": "code",
   "execution_count": null,
   "metadata": {},
   "outputs": [],
   "source": []
  }
 ],
 "metadata": {
  "kernelspec": {
   "display_name": "textprocess",
   "language": "python",
   "name": "python3"
  },
  "language_info": {
   "codemirror_mode": {
    "name": "ipython",
    "version": 3
   },
   "file_extension": ".py",
   "mimetype": "text/x-python",
   "name": "python",
   "nbconvert_exporter": "python",
   "pygments_lexer": "ipython3",
   "version": "3.12.2"
  }
 },
 "nbformat": 4,
 "nbformat_minor": 2
}
