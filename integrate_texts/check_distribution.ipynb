{
 "cells": [
  {
   "cell_type": "code",
   "execution_count": 6,
   "metadata": {},
   "outputs": [
    {
     "name": "stdout",
     "output_type": "stream",
     "text": [
      "The autoreload extension is already loaded. To reload it, use:\n",
      "  %reload_ext autoreload\n"
     ]
    }
   ],
   "source": [
    "# 種々のdatasetをintagrateします\n",
    "# こちらはデータ配分の確認用です｡\n",
    "# 本番ではintegrate_dataset.pyを実行します｡\n",
    "\n",
    "%load_ext autoreload\n",
    "%autoreload 2"
   ]
  },
  {
   "cell_type": "code",
   "execution_count": 7,
   "metadata": {},
   "outputs": [
    {
     "name": "stdout",
     "output_type": "stream",
     "text": [
      "The autoreload extension is already loaded. To reload it, use:\n",
      "  %reload_ext autoreload\n"
     ]
    }
   ],
   "source": [
    "%load_ext autoreload\n",
    "%autoreload 2\n",
    "from src.loaders import *\n",
    "from src.RecordDistributor import RecordDistributor"
   ]
  },
  {
   "cell_type": "code",
   "execution_count": 25,
   "metadata": {},
   "outputs": [
    {
     "data": {
      "text/html": [
       "<div>\n",
       "<style scoped>\n",
       "    .dataframe tbody tr th:only-of-type {\n",
       "        vertical-align: middle;\n",
       "    }\n",
       "\n",
       "    .dataframe tbody tr th {\n",
       "        vertical-align: top;\n",
       "    }\n",
       "\n",
       "    .dataframe thead th {\n",
       "        text-align: right;\n",
       "    }\n",
       "</style>\n",
       "<table border=\"1\" class=\"dataframe\">\n",
       "  <thead>\n",
       "    <tr style=\"text-align: right;\">\n",
       "      <th>Source</th>\n",
       "      <th>CC(ja)</th>\n",
       "      <th>wiki(en)</th>\n",
       "      <th>wiki(ja)</th>\n",
       "    </tr>\n",
       "    <tr>\n",
       "      <th>Stage</th>\n",
       "      <th></th>\n",
       "      <th></th>\n",
       "      <th></th>\n",
       "    </tr>\n",
       "  </thead>\n",
       "  <tbody>\n",
       "    <tr>\n",
       "      <th>Stage 1</th>\n",
       "      <td>36.680756</td>\n",
       "      <td>31.187170</td>\n",
       "      <td>32.132075</td>\n",
       "    </tr>\n",
       "    <tr>\n",
       "      <th>Stage 2</th>\n",
       "      <td>3.893691</td>\n",
       "      <td>92.695465</td>\n",
       "      <td>3.410845</td>\n",
       "    </tr>\n",
       "    <tr>\n",
       "      <th>Stage 3</th>\n",
       "      <td>99.468227</td>\n",
       "      <td>0.422857</td>\n",
       "      <td>0.108917</td>\n",
       "    </tr>\n",
       "    <tr>\n",
       "      <th>Stage 4</th>\n",
       "      <td>11.288937</td>\n",
       "      <td>9.598220</td>\n",
       "      <td>79.112843</td>\n",
       "    </tr>\n",
       "  </tbody>\n",
       "</table>\n",
       "</div>"
      ],
      "text/plain": [
       "Source      CC(ja)   wiki(en)   wiki(ja)\n",
       "Stage                                   \n",
       "Stage 1  36.680756  31.187170  32.132075\n",
       "Stage 2   3.893691  92.695465   3.410845\n",
       "Stage 3  99.468227   0.422857   0.108917\n",
       "Stage 4  11.288937   9.598220  79.112843"
      ]
     },
     "execution_count": 25,
     "metadata": {},
     "output_type": "execute_result"
    }
   ],
   "source": [
    "from dataset_dict import dataset_dict\n",
    "distributor=RecordDistributor(dataset_dict)\n",
    "distributor.percent_df"
   ]
  },
  {
   "cell_type": "code",
   "execution_count": 27,
   "metadata": {},
   "outputs": [
    {
     "data": {
      "text/html": [
       "<div>\n",
       "<style scoped>\n",
       "    .dataframe tbody tr th:only-of-type {\n",
       "        vertical-align: middle;\n",
       "    }\n",
       "\n",
       "    .dataframe tbody tr th {\n",
       "        vertical-align: top;\n",
       "    }\n",
       "\n",
       "    .dataframe thead th {\n",
       "        text-align: right;\n",
       "    }\n",
       "</style>\n",
       "<table border=\"1\" class=\"dataframe\">\n",
       "  <thead>\n",
       "    <tr style=\"text-align: right;\">\n",
       "      <th>Source</th>\n",
       "      <th>CC(ja)</th>\n",
       "      <th>wiki(en)</th>\n",
       "      <th>wiki(ja)</th>\n",
       "      <th>Sum</th>\n",
       "    </tr>\n",
       "    <tr>\n",
       "      <th>Stage</th>\n",
       "      <th></th>\n",
       "      <th></th>\n",
       "      <th></th>\n",
       "      <th></th>\n",
       "    </tr>\n",
       "  </thead>\n",
       "  <tbody>\n",
       "    <tr>\n",
       "      <th>Stage 1</th>\n",
       "      <td>124533</td>\n",
       "      <td>105882</td>\n",
       "      <td>109090</td>\n",
       "      <td>339505</td>\n",
       "    </tr>\n",
       "    <tr>\n",
       "      <th>Stage 2</th>\n",
       "      <td>124533</td>\n",
       "      <td>2964705</td>\n",
       "      <td>109090</td>\n",
       "      <td>3198328</td>\n",
       "    </tr>\n",
       "    <tr>\n",
       "      <th>Stage 3</th>\n",
       "      <td>99626400</td>\n",
       "      <td>423529</td>\n",
       "      <td>109090</td>\n",
       "      <td>100159019</td>\n",
       "    </tr>\n",
       "    <tr>\n",
       "      <th>Stage 4</th>\n",
       "      <td>124533</td>\n",
       "      <td>105882</td>\n",
       "      <td>872727</td>\n",
       "      <td>1103142</td>\n",
       "    </tr>\n",
       "  </tbody>\n",
       "</table>\n",
       "</div>"
      ],
      "text/plain": [
       "Source     CC(ja)  wiki(en)  wiki(ja)        Sum\n",
       "Stage                                           \n",
       "Stage 1    124533    105882    109090     339505\n",
       "Stage 2    124533   2964705    109090    3198328\n",
       "Stage 3  99626400    423529    109090  100159019\n",
       "Stage 4    124533    105882    872727    1103142"
      ]
     },
     "execution_count": 27,
     "metadata": {},
     "output_type": "execute_result"
    }
   ],
   "source": [
    "\n",
    "distributor.record_df"
   ]
  },
  {
   "cell_type": "code",
   "execution_count": 11,
   "metadata": {},
   "outputs": [],
   "source": [
    "#distributor.load_datasets()"
   ]
  },
  {
   "cell_type": "code",
   "execution_count": 12,
   "metadata": {},
   "outputs": [],
   "source": [
    "import random\n",
    "from tqdm import tqdm\n",
    "#distributor.write_jsonl(output_path,overwrite=conf[\"overwrite\"])"
   ]
  },
  {
   "cell_type": "code",
   "execution_count": null,
   "metadata": {},
   "outputs": [],
   "source": []
  }
 ],
 "metadata": {
  "kernelspec": {
   "display_name": "scr",
   "language": "python",
   "name": "python3"
  },
  "language_info": {
   "codemirror_mode": {
    "name": "ipython",
    "version": 3
   },
   "file_extension": ".py",
   "mimetype": "text/x-python",
   "name": "python",
   "nbconvert_exporter": "python",
   "pygments_lexer": "ipython3",
   "version": "3.12.2"
  }
 },
 "nbformat": 4,
 "nbformat_minor": 2
}
