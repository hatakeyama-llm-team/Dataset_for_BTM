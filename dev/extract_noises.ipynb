{
 "cells": [
  {
   "cell_type": "code",
   "execution_count": 1,
   "metadata": {},
   "outputs": [],
   "source": [
    "import json\n",
    "import glob"
   ]
  },
  {
   "cell_type": "code",
   "execution_count": 11,
   "metadata": {},
   "outputs": [],
   "source": [
    "# load noise jsonl\n",
    "noise_lines=[]\n",
    "with open(\"../data/noise.jsonl\", \"r\") as f:\n",
    "    for line in f:\n",
    "        try:\n",
    "            noise = json.loads(line)[\"text\"]\n",
    "        except:\n",
    "            continue\n",
    "        noise_lines.append(noise)\n",
    "\n",
    "noise_lines=list(set(noise_lines))"
   ]
  },
  {
   "cell_type": "code",
   "execution_count": 14,
   "metadata": {},
   "outputs": [
    {
     "data": {
      "text/plain": [
       "4364"
      ]
     },
     "execution_count": 14,
     "metadata": {},
     "output_type": "execute_result"
    }
   ],
   "source": [
    "len(noise_lines)"
   ]
  },
  {
   "cell_type": "code",
   "execution_count": 15,
   "metadata": {},
   "outputs": [],
   "source": [
    "# load all jsonl\n",
    "all_lines=[]\n",
    "for file in glob.glob(\"../data/**/*.jsonl\",recursive=True):\n",
    "    with open(file,\"r\") as f:\n",
    "        for line in f:\n",
    "            try:\n",
    "                text = json.loads(line)[\"text\"]\n",
    "            except:\n",
    "                continue\n",
    "            all_lines.append(text)"
   ]
  },
  {
   "cell_type": "code",
   "execution_count": 17,
   "metadata": {},
   "outputs": [
    {
     "data": {
      "text/plain": [
       "62578"
      ]
     },
     "execution_count": 17,
     "metadata": {},
     "output_type": "execute_result"
    }
   ],
   "source": [
    "all_lines=list(set(all_lines))\n",
    "len(all_lines)"
   ]
  },
  {
   "cell_type": "code",
   "execution_count": 18,
   "metadata": {},
   "outputs": [],
   "source": [
    "good_lines=set(all_lines)-set(noise_lines)"
   ]
  },
  {
   "cell_type": "code",
   "execution_count": 24,
   "metadata": {},
   "outputs": [],
   "source": [
    "with open(\"../data/noise_lines.txt\",\"w\") as f:\n",
    "    for line in noise_lines:\n",
    "        line=line.replace(\"\\n\",\"\")[:400]\n",
    "        f.write(line+\"\\n\")"
   ]
  },
  {
   "cell_type": "code",
   "execution_count": 26,
   "metadata": {},
   "outputs": [],
   "source": [
    "\n",
    "\n",
    "with open(\"../data/good_lines.txt\",\"w\") as f:\n",
    "    for line in list(good_lines)[:1000]:\n",
    "        line=line.replace(\"\\n\",\"\")[:400]\n",
    "        f.write(line+\"\\n\")"
   ]
  },
  {
   "cell_type": "code",
   "execution_count": null,
   "metadata": {},
   "outputs": [],
   "source": []
  }
 ],
 "metadata": {
  "kernelspec": {
   "display_name": "textprocess",
   "language": "python",
   "name": "python3"
  },
  "language_info": {
   "codemirror_mode": {
    "name": "ipython",
    "version": 3
   },
   "file_extension": ".py",
   "mimetype": "text/x-python",
   "name": "python",
   "nbconvert_exporter": "python",
   "pygments_lexer": "ipython3",
   "version": "3.12.2"
  }
 },
 "nbformat": 4,
 "nbformat_minor": 2
}
