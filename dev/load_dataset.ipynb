{
 "cells": [
  {
   "cell_type": "code",
   "execution_count": 1,
   "metadata": {},
   "outputs": [
    {
     "name": "stderr",
     "output_type": "stream",
     "text": [
      "/home/hatakeyama/miniconda3/envs/textprocess/lib/python3.12/site-packages/tqdm/auto.py:21: TqdmWarning: IProgress not found. Please update jupyter and ipywidgets. See https://ipywidgets.readthedocs.io/en/stable/user_install.html\n",
      "  from .autonotebook import tqdm as notebook_tqdm\n"
     ]
    }
   ],
   "source": [
    "%load_ext autoreload\n",
    "%autoreload 2\n",
    "import os\n",
    "import sys\n",
    "sys.path.append(\"../20integrate_texts\")\n",
    "from loaders.OtherDatasets import *\n",
    "from datasets import load_dataset\n",
    "with open(\".env\",\"r\") as f:\n",
    "    for line in f:\n",
    "        var = line.split(\"=\")\n",
    "        os.environ[var[0]] = var[1].strip()"
   ]
  },
  {
   "cell_type": "code",
   "execution_count": 2,
   "metadata": {},
   "outputs": [
    {
     "name": "stderr",
     "output_type": "stream",
     "text": [
      "/home/hatakeyama/miniconda3/envs/textprocess/lib/python3.12/site-packages/datasets/load.py:2516: FutureWarning: 'use_auth_token' was deprecated in favor of 'token' in version 2.14.0 and will be removed in 3.0.0.\n",
      "You can remove this warning by passing 'token=<use_auth_token>' instead.\n",
      "  warnings.warn(\n",
      "Downloading readme: 100%|██████████| 1.02k/1.02k [00:00<00:00, 4.44MB/s]\n"
     ]
    }
   ],
   "source": [
    "ds = load_dataset(\"sudy-super/JetCopper-10B\",\n",
    "split=\"train\",\n",
    "use_auth_token=os.environ[\"hf_key\"],\n",
    "streaming=True,\n",
    "                  )\n"
   ]
  },
  {
   "cell_type": "code",
   "execution_count": 2,
   "metadata": {},
   "outputs": [
    {
     "name": "stderr",
     "output_type": "stream",
     "text": [
      "Generating train split: 348561 examples [00:06, 52494.14 examples/s]\n"
     ]
    }
   ],
   "source": [
    "ds= load_dataset(\"atsushi3110/news-ja\",\n",
    "split=\"train\",\n",
    " data_files=\"https://huggingface.co/datasets/atsushi3110/news-ja/resolve/main/news.ff.jsonl\",\n",
    "        streaming=False)"
   ]
  },
  {
   "cell_type": "code",
   "execution_count": 27,
   "metadata": {},
   "outputs": [
    {
     "name": "stderr",
     "output_type": "stream",
     "text": [
      "/home/hatakeyama/miniconda3/envs/textprocess/lib/python3.12/site-packages/datasets/load.py:2516: FutureWarning: 'use_auth_token' was deprecated in favor of 'token' in version 2.14.0 and will be removed in 3.0.0.\n",
      "You can remove this warning by passing 'token=<use_auth_token>' instead.\n",
      "  warnings.warn(\n"
     ]
    }
   ],
   "source": [
    "ds=LightNovelFourM(auth_token=os.environ[\"hf_key\"],streaming=True)"
   ]
  },
  {
   "cell_type": "code",
   "execution_count": 3,
   "metadata": {},
   "outputs": [],
   "source": [
    "loader=iter(ds)"
   ]
  },
  {
   "cell_type": "code",
   "execution_count": 18,
   "metadata": {},
   "outputs": [
    {
     "data": {
      "text/plain": [
       "{'text': '旅行中、現地の人に勧誘されてもついていかないようにしましょう。\\n海外で逮捕拘留されたら、まずは大使館・領事館に連絡しましょう。\\n海外での夜の外出は、大通りや観光客の多いところを選びましょう。\\n海外旅行中は、現金やクレジットカードを分散して持ち歩くと安心です。\\n海外でクレジットカードを利用するときは、スキミングに注意しましょう。\\n財布やクレジットカードの提示を求められたら、偽警官である可能性が高いといえます。\\n違法薬物の被害に遭わないために、軽い気持ちでドラッグに手を出すのはやめましょう。\\n犯罪のターゲットにならないために、高価に見える服装は避けましょう。\\n闇両替の被害に遭わないためには、日本で両替を済ませておくと安心です。\\n性犯罪を防ぐために、人気のないところや繁華街を歩くのは避けましょう。\\nタクシー利用前に料金を確認することでぼったくりを防ぐことができます。'}"
      ]
     },
     "execution_count": 18,
     "metadata": {},
     "output_type": "execute_result"
    }
   ],
   "source": [
    "next(loader)"
   ]
  },
  {
   "cell_type": "code",
   "execution_count": 15,
   "metadata": {},
   "outputs": [
    {
     "ename": "KeyError",
     "evalue": "'text'",
     "output_type": "error",
     "traceback": [
      "\u001b[0;31m---------------------------------------------------------------------------\u001b[0m",
      "\u001b[0;31mKeyError\u001b[0m                                  Traceback (most recent call last)",
      "Cell \u001b[0;32mIn[15], line 1\u001b[0m\n\u001b[0;32m----> 1\u001b[0m d\u001b[38;5;241m=\u001b[39m\u001b[38;5;28;43mnext\u001b[39;49m\u001b[43m(\u001b[49m\u001b[43mloader\u001b[49m\u001b[43m)\u001b[49m\n",
      "File \u001b[0;32m/media/hatakeyama/python/Dataset_for_BTM/dev/../20integrate_texts/loaders/OtherDatasets.py:136\u001b[0m, in \u001b[0;36mJaNewsDataset.__next__\u001b[0;34m(self)\u001b[0m\n\u001b[1;32m    134\u001b[0m \u001b[38;5;28;01mdef\u001b[39;00m \u001b[38;5;21m__next__\u001b[39m(\u001b[38;5;28mself\u001b[39m):\n\u001b[1;32m    135\u001b[0m     d \u001b[38;5;241m=\u001b[39m \u001b[38;5;28mnext\u001b[39m(\u001b[38;5;28mself\u001b[39m\u001b[38;5;241m.\u001b[39mloader)\n\u001b[0;32m--> 136\u001b[0m     t \u001b[38;5;241m=\u001b[39m \u001b[43md\u001b[49m\u001b[43m[\u001b[49m\u001b[38;5;124;43m\"\u001b[39;49m\u001b[38;5;124;43mtext\u001b[39;49m\u001b[38;5;124;43m\"\u001b[39;49m\u001b[43m]\u001b[49m\n\u001b[1;32m    137\u001b[0m     noise_words \u001b[38;5;241m=\u001b[39m [\n\u001b[1;32m    138\u001b[0m         \u001b[38;5;124m\"\u001b[39m\u001b[38;5;124m(c)\u001b[39m\u001b[38;5;124m\"\u001b[39m, \u001b[38;5;124m\"\u001b[39m\u001b[38;5;124m（抜粋）\u001b[39m\u001b[38;5;124m\"\u001b[39m, \u001b[38;5;124m\"\u001b[39m\u001b[38;5;124m(この記\u001b[39m\u001b[38;5;124m\"\u001b[39m, \u001b[38;5;124m\"\u001b[39m\u001b[38;5;124m関連\u001b[39m\u001b[38;5;124m\"\u001b[39m\n\u001b[1;32m    139\u001b[0m     ]\n\u001b[1;32m    140\u001b[0m     \u001b[38;5;28;01mfor\u001b[39;00m noise \u001b[38;5;129;01min\u001b[39;00m noise_words:\n",
      "\u001b[0;31mKeyError\u001b[0m: 'text'"
     ]
    }
   ],
   "source": [
    "\n",
    "d=next(loader)"
   ]
  },
  {
   "cell_type": "code",
   "execution_count": 16,
   "metadata": {},
   "outputs": [
    {
     "name": "stdout",
     "output_type": "stream",
     "text": [
      "【人事・採用・マネージャー必読】「採れる・辞めない・成果出る」理想のチーム作りを実例とともに徹底解説。社員の幸せと高い成果を同時に手に入れる秘訣とは？新刊『性格のいい会社』発売！\n",
      "\n",
      "\n",
      "\n",
      "Amazon　https://www.amazon.co.jp/dp/4295408425/楽天ブックス　https://books.rakuten.co.jp/rb/17500331/\n",
      "\n",
      "\n",
      "\n",
      "\n",
      "▼本書の読みどころ\n",
      "ポイント①：理想論ではない「社員の幸せ」と「事業成長」をバランスよく回す仕組みを紹介ポイント②：リアルな失敗・成功事例による実践ベースでわかりやすいポイント③：カルチャー形成のための社内制度＆ワークシートを大公開！\n",
      "\n",
      "新しい時代に求められる成長企業の在り方とは\n",
      "\n",
      "\n",
      "ここ数年で働き方改革やコロナによる在宅勤務が急激に推進されたことで、「事業内容や会社の規模」といった外見で選ぶのではなく「会社の性格の良さ」で会社を選びたいというニーズが確実に増えています。「性格のいい会社」は現代の価値観にフィットし、かつ成長する企業の在り方だといえます。本書でお話しする「性格のいい会社」とは、「社員を幸せにする会社」のことであり、仕事だけでなく、社員のプライベートや家族の時間も大事にする会社です。 著者の佐藤氏は、「性格のいい会社」は目的でなく、手段であり、ゴールではなく、スタートだといいます。\n",
      "\n",
      "\n",
      "「性格のいい会社」は理想論ではない?\n",
      "\n",
      "\n",
      "性格のいい会社と言うと、のんびりした「ぬるま湯組織」をイメージされるかもしれませんが、全くそんなことはありません。むしろ、事業を成長させることや顧客に対する提供価値を生み出すことを大切にしています。採用困難時代に「採れる・辞めない・成果出る」組織をつくるには、社員の幸せをベースとしたカルチャーづくりと経営の両輪をバランス良く回すことが重要です。そしてそれが、事業成長につながっていくのです。\n",
      "\n",
      "本書では、その仕組みについて、著者が自らの会社で実践した体験を交えながら、わかりやすく解説しています。\n",
      "\n",
      "\n",
      "すぐに使える！数々のワークシートや社内の取り組みを特別公開\n",
      "\n",
      "\n",
      "\n",
      "本書では、社員やチームメンバーのキャリア自律に役立つワークショップの内容を紹介しています。下図のようなワークシートを使って、どのようなステップで進めていくのかも具体的に解説しており、すぐにチームや組織の中で活用することができます。\n",
      "\n",
      "また、組織の取り組みの全体像を上手く社内外に伝える方法として、「ビジョンアート」（絵で表現すること）を提案しています。著者の会社で実際に活用しているビジョンアートについてお話ししながら、組織のカルチャーや取り組みをビジュアルで表現することのメリットについてもお伝えします。\n",
      "\n",
      "\n",
      "こんな方におすすめ\n",
      "\n",
      "\n",
      "\n",
      "◆チームづくりに課題を感じているマネージャー◆企業のブランディング責任者◆人事・採用担当者◆ベンチャー・中小企業の経営者\n",
      "\n",
      "著者紹介\n",
      "\n",
      "\n",
      "\n",
      "佐藤雄佑（さとう・ゆうすけ）株式会社ミライフ代表取締役。\n",
      "新卒でベルシステム24入社、マーケティングの仕事に従事。そこで「やっぱり最後は人」だと思い、リクルートエイブリック（現在のリクルート）に転職。法人営業、支社長、人事GM、エグゼクティブコンサルタントなどを歴任。MVP、MVG（グループ表彰）などの表彰多数受賞。リクルートホールディングス体制構築時（2012）には人事ＧＭとして、リクルートの分社・統合のプロジェクトを推進。子どもが生まれたときには、「人生後悔するとしたらこれしかない」と、半年間の男性育休を取得し、主夫を経験。2016年、株式会社ミライフ設立。個人起点100％のキャリアデザインを大事にしているエージェント事業、スクール形式で自分の人生の理想未来を描くミライフキャリアデザインやイベントなどのキャリア教育事業、企業向けの研修やワークショップ、人事・組織のコンサルティングなどをしているカルチャーデザイン事業などを展開している。\n",
      "\n",
      "書籍情報\n",
      "\n",
      "\n",
      "『性格のいい会社』\n",
      "\n",
      "著者：佐藤雄佑定価：1,738円（本体1,580円＋税）体裁：四六判／256ページISBN：978-4-295-40842-0発行：株式会社クロスメディア・パブリッシング（クロスメディアグループ株式会社）発売日：2023年6月9日\n",
      "\n",
      "詳細URL\n",
      "Amazon　https://www.amazon.co.jp/dp/4295408425/楽天ブックス　https://books.rakuten.co.jp/rb/17500331/\n",
      "\n",
      "\n",
      "\n",
      "▼リンク一覧（クロスメディアグループ）\n",
      "株式会社クロスメディア・パブリッシング　https://www.cm-publishing.co.jp/\n",
      "株式会社クロスメディア・マーケティング　https://book.cm-marketing.jp/\n",
      "クロスメディアグループ株式会社　https://cm-group.jp/\n",
      "\n",
      "\n"
     ]
    }
   ],
   "source": [
    "import re\n",
    "\n",
    "print(d[\"text\"])"
   ]
  },
  {
   "cell_type": "code",
   "execution_count": 34,
   "metadata": {},
   "outputs": [],
   "source": [
    "for i in range(500):\n",
    "    d=next(loader)"
   ]
  },
  {
   "cell_type": "code",
   "execution_count": 35,
   "metadata": {},
   "outputs": [
    {
     "data": {
      "text/plain": [
       "{'en': \"The story of his wanderings at the time of death is told in the area where Kobe of Ise Jingu can be seen, and overlaps with the advance route of Emperor Tenmu's Jinshin War, which established the system of Isesaigu, so it is thought to be related to Ise, but Kenichi Yokota points out that there is no story of Yamato Takeru in the Imperial Shrine Ritual Book or the Wakihime Seiseki. Since the Kusanagi sword linked the characters Yamatohime in the Yamato-Oguna tale with the life of Saio Wakihime, it is possible that the story of the Ise region was tentatively entrusted to Yamato Takeru.\",\n",
       " 'ja': ' 死に際の彷徨の物語が、伊勢神宮の神戸の見られる地域で語られ、かつ伊勢斎宮の制度を確立した天武天皇の壬申の乱の際の進軍ルートに重なるため、伊勢との関連が考えられるが、横田健一は『皇太神宮儀式帳』や『倭姫命世記』にヤマトタケルの物語がないことを指摘する。草薙剣に関しヤマトヲグナ説話の登場人物のヤマトヒメと斎王倭姫命を結びつけたため、伊勢地方の説話がヤマトタケルに仮託された可能性も考えられる。',\n",
       " 'text': \"The story of his wanderings at the time of death is told in the area where Kobe of Ise Jingu can be seen, and overlaps with the advance route of Emperor Tenmu's Jinshin War, which established the system of Isesaigu, so it is thought to be related to Ise, but Kenichi Yokota points out that there is no story of Yamato Takeru in the Imperial Shrine Ritual Book or the Wakihime Seiseki. Since the Kusanagi sword linked the characters Yamatohime in the Yamato-Oguna tale with the life of Saio Wakihime, it is possible that the story of the Ise region was tentatively entrusted to Yamato Takeru.\\n 死に際の彷徨の物語が、伊勢神宮の神戸の見られる地域で語られ、かつ伊勢斎宮の制度を確立した天武天皇の壬申の乱の際の進軍ルートに重なるため、伊勢との関連が考えられるが、横田健一は『皇太神宮儀式帳』や『倭姫命世記』にヤマトタケルの物語がないことを指摘する。草薙剣に関しヤマトヲグナ説話の登場人物のヤマトヒメと斎王倭姫命を結びつけたため、伊勢地方の説話がヤマトタケルに仮託された可能性も考えられる。\"}"
      ]
     },
     "execution_count": 35,
     "metadata": {},
     "output_type": "execute_result"
    }
   ],
   "source": [
    "d"
   ]
  },
  {
   "cell_type": "code",
   "execution_count": 18,
   "metadata": {},
   "outputs": [
    {
     "data": {
      "text/plain": [
       "IterableDataset({\n",
       "    features: Unknown,\n",
       "    n_shards: 774\n",
       "})"
      ]
     },
     "execution_count": 18,
     "metadata": {},
     "output_type": "execute_result"
    }
   ],
   "source": [
    "ds"
   ]
  },
  {
   "cell_type": "code",
   "execution_count": null,
   "metadata": {},
   "outputs": [],
   "source": []
  }
 ],
 "metadata": {
  "kernelspec": {
   "display_name": "ft",
   "language": "python",
   "name": "python3"
  },
  "language_info": {
   "codemirror_mode": {
    "name": "ipython",
    "version": 3
   },
   "file_extension": ".py",
   "mimetype": "text/x-python",
   "name": "python",
   "nbconvert_exporter": "python",
   "pygments_lexer": "ipython3",
   "version": "3.12.2"
  }
 },
 "nbformat": 4,
 "nbformat_minor": 2
}
