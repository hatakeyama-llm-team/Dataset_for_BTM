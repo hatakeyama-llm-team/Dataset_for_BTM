{
 "cells": [
  {
   "cell_type": "code",
   "execution_count": 1,
   "metadata": {},
   "outputs": [
    {
     "name": "stderr",
     "output_type": "stream",
     "text": [
      "/home/hatakeyama/miniconda3/envs/textprocess/lib/python3.12/site-packages/tqdm/auto.py:21: TqdmWarning: IProgress not found. Please update jupyter and ipywidgets. See https://ipywidgets.readthedocs.io/en/stable/user_install.html\n",
      "  from .autonotebook import tqdm as notebook_tqdm\n"
     ]
    }
   ],
   "source": [
    "%load_ext autoreload\n",
    "%autoreload 2\n",
    "import os\n",
    "import sys\n",
    "sys.path.append(\"../20integrate_texts\")\n",
    "from loaders.OtherDatasets import *\n",
    "from datasets import load_dataset\n",
    "with open(\".env\",\"r\") as f:\n",
    "    for line in f:\n",
    "        var = line.split(\"=\")\n",
    "        os.environ[var[0]] = var[1].strip()"
   ]
  },
  {
   "cell_type": "code",
   "execution_count": 48,
   "metadata": {},
   "outputs": [
    {
     "name": "stderr",
     "output_type": "stream",
     "text": [
      "/home/hatakeyama/miniconda3/envs/textprocess/lib/python3.12/site-packages/datasets/load.py:2516: FutureWarning: 'use_auth_token' was deprecated in favor of 'token' in version 2.14.0 and will be removed in 3.0.0.\n",
      "You can remove this warning by passing 'token=<use_auth_token>' instead.\n",
      "  warnings.warn(\n",
      "Downloading readme: 100%|██████████| 7.88k/7.88k [00:00<00:00, 14.2MB/s]\n"
     ]
    }
   ],
   "source": [
    "ds = load_dataset(\"RyokoAI/Syosetu711K\",\n",
    "split=\"train\",\n",
    "use_auth_token=os.environ[\"hf_key\"],\n",
    "streaming=True,\n",
    "                  )\n"
   ]
  },
  {
   "cell_type": "code",
   "execution_count": 36,
   "metadata": {},
   "outputs": [
    {
     "name": "stderr",
     "output_type": "stream",
     "text": [
      "Downloading readme: 100%|██████████| 28.0/28.0 [00:00<00:00, 137kB/s]\n",
      "Downloading data: 100%|██████████| 574M/574M [01:20<00:00, 7.16MB/s] \n",
      "Generating train split: 364034 examples [00:01, 283899.42 examples/s]\n"
     ]
    }
   ],
   "source": [
    "ds= load_dataset(\"atsushi3110/news-ja\",\n",
    "split=\"train\",\n",
    " data_files=\"https://huggingface.co/datasets/atsushi3110/news-ja/resolve/main/news_cc.jsonl\",\n",
    "        streaming=False)"
   ]
  },
  {
   "cell_type": "code",
   "execution_count": 69,
   "metadata": {},
   "outputs": [],
   "source": [
    "class JaNewsDataset:\n",
    "    def __init__(self,\n",
    "                 data_files=\"https://huggingface.co/datasets/atsushi3110/news-ja/resolve/main/news_cc.jsonl\",\n",
    "                 ):\n",
    "        self.dataset = load_dataset(\n",
    "            \"hatakeyama-llm-team/PMC\",\n",
    "            data_files=data_files,\n",
    "            split=\"train\",)\n",
    "        self.loader = iter(self.dataset)\n",
    "\n",
    "    def __iter__(self):\n",
    "        # イテレータは自分自身を返す\n",
    "        return self\n",
    "\n",
    "    def __next__(self):\n",
    "        d = next(self.loader)\n",
    "        t=d[\"text\"]\n",
    "        noise_words=[\n",
    "        \"(c)\",\"（抜粋）\",\"(この記\",\"関連\"\n",
    "        ]\n",
    "        for noise in noise_words:\n",
    "            if t.find(noise)>=0:\n",
    "                t=t[:t.find(noise)]\n",
    "\n",
    "        if t.find(\"】\")>=0:\n",
    "            t=t.split(\"】\")[1:]\n",
    "            t=\"\".join(t)\n",
    "\n",
    "        d[\"text\"]=t\n",
    "        return d\n",
    "\n"
   ]
  },
  {
   "cell_type": "code",
   "execution_count": 80,
   "metadata": {},
   "outputs": [
    {
     "name": "stderr",
     "output_type": "stream",
     "text": [
      "Repo card metadata block was not found. Setting CardData to empty.\n",
      "Downloading data: 100%|██████████| 593M/593M [01:19<00:00, 7.48MB/s] \n",
      "Generating train split: 139389 examples [00:01, 87709.02 examples/s] \n"
     ]
    }
   ],
   "source": [
    "\n",
    "ds=JaNewsDataset(data_files=\"https://huggingface.co/datasets/atsushi3110/news-ja/resolve/main/news_aa.jsonl\")"
   ]
  },
  {
   "cell_type": "code",
   "execution_count": 81,
   "metadata": {},
   "outputs": [],
   "source": [
    "loader=iter(ds)"
   ]
  },
  {
   "cell_type": "code",
   "execution_count": 84,
   "metadata": {},
   "outputs": [],
   "source": [
    "\n",
    "d=next(loader)"
   ]
  },
  {
   "cell_type": "code",
   "execution_count": 85,
   "metadata": {},
   "outputs": [
    {
     "name": "stdout",
     "output_type": "stream",
     "text": [
      "自転車ヘルメットはどう選ぶ？ 人気ブランドから目的別まで、多様なスタイルに対応するおすすめ11選：WIRED SHOPPING GUIDE\n",
      "2023年4月から道路交通法が一部改正され、自転車のヘルメット着用が努力義務化された。努力義務に法的な強制力はないが、ヘルメットの着用を習慣化するいいきっかけになるだろう。そこで、最適なヘルメットの選び方や車種別・目的別のおすすめを紹介する。\n",
      "自転車通勤から通学、ポタリングまで。あると便利なおすすめのサイクリングギア7選\n",
      "コロナ禍の都市部の通勤手段やアクティビティとしても定着した自転車。2023年4月1日から道路交通法が改正され、自転車に乗る際のヘルメットの着用が努力義務化された。これまでは「児童または幼児を自転車に乗せる際ヘルメットの着用に努めなければならない」と対象が限定されていたが、今後は「自転車に乗る全国民」が対象になったのである。\n",
      "この努力義務化に法的な強制力はない。だが、ヘルメット非着用時の自転車事故による致死率は着用時の2倍以上にもなるので、今回の法改正を機に自分のサイクルスタイルに合ったヘルメットを取り入れてみてはいかがだろうか。\n",
      "以下にヘルメットの選び方をはじめ、おすすめのメーカーのほか、ロード、シティ、キッズ用などジャンル別のおすすめの製品を紹介する。\n",
      "INDEX\n",
      "1.自転車ヘルメットの選び方\n",
      "2.自転車ヘルメットおすすめメーカー\n",
      "3.ロードバイク向けおすすめヘルメット\n",
      "4.クロスバイク向けおすすめヘルメット\n",
      "5.ミニベロ・折りたたみ自転車向けおすすめヘルメット\n",
      "6.Eバイク向けおすすめヘルメット\n",
      "7.コストパフォーマンスでおすすめのヘルメット\n",
      "8.軽量タイプのおすすめヘルメット\n",
      "9.折りたたみタイプのおすすめヘルメット\n",
      "10.帽子型デザインのおすすめヘルメット\n",
      "11.キッズ向けおすすめヘルメット\n",
      "12.スマートテクノロジー搭載のおすすめヘルメット\n",
      "13.ヘルメット代わりになる頭部プロテクションデバイス\n",
      "14.WIRED SHOPPING GUIDEをチェック\n",
      "自転車ヘルメットを選ぶ際に最も重要になるのがサイズとフィット感だ。どれだけ高性能なヘルメットでも、サイズが合っていなければ性能を十分に発揮できない。必ず自分の頭に合ったサイズを選ぶよう気をつけてほしい。\n",
      "また、ロードバイクなどスポーツバイク向けのヘルメットの場合は、海外メーカーなら「アジアンフィット」のタイプ、あるいは日本市場向けに開発された国内メーカーのヘルメットがフィットしやすいだろう。もしサイズやフィット感に不安がある場合は、店舗で試着してから購入したい。\n",
      "サイズだけでなく通気性や携帯性などの特性別では、以下に紹介するおすすめリストのなかから、愛車の種類やライディングスタイルに合わせて選ぶといい。\n",
      "1985年にカリフォルニア州サンタクルーズで創業したGIRO（ジロ）は、サイクリングアクセサリーとウィンタースポーツアクセサリーを展開するブランド。独自の構造と高い安全性、先進性で自転車ヘルメットのあり方に多大な影響を与えたとされ、世界中のトップライダーたちに支持され続けている。\n",
      "「アスリートやアスリートを目指す人々の命を守り、事故の影響を軽減する」というミッションを掲げ05年にスウェーデンで誕生したPOC（ポック）。ストックホルム郊外にあるラボで素材の研究者、インダストリアルデザイナー、グラフィックデザイナー、脳神経外科医など各分野の専門家によるアドバイスに基づき、プロテクション性能の向上に努めている。機能性とデザイン性を高次元で両立したヘルメットが揃う。\n",
      "GIROのロードバイク向けの定番モデル「AETHER」のアジアンフィットモデルが、「AETHER SPHERICAL AF」。自転車ヘルメットの安全機構として広まっている多方向衝撃保護システム（MIPS：Multi-directional Impact Protecti on System）をさらに進化させた「スフェリカルテクノロジー」を搭載。衝撃吸収性だけでなく、優れた通気性と快適なフィットを併せもつフラッグシップモデルだ。\n",
      "米国の消費者製品安全法（CPSA：Consumer Product Safety Act）に適合し、欧州の安全基準認証であるCE（Conformité Européenne）マークや「TUV（Technischer Überwachungs-Verein）」認証を得るなど、最も厳しいとされる安全基準をクリアしたヘルメットをラインナップするNUTCASE HELMET（ナットケースヘルメット）。サイクリングだけでなくスケート、カヌー、スノースポーツなどに対応するヘルメットが揃う。\n",
      "「VIO KIT」は、フロントに明るさが200ルーメンの白色ライト、サイドとリアに65ルーメンの赤とオレンジのLEDライトを搭載している（LEDライトはUSB充電が可能）。本体には耐衝撃性が高いABS樹脂製のアウターシェルを採用し、3つのベンチレーションで頭の蒸れを防ぐという。\n",
      "マグネットで片手で簡単に着脱できるバックル「FIDLOCK」を装備するほか、フィット感を簡単に調整できるアジャスタブル・スピンダイヤルを搭載。最適なフィット感を得られるインナーパッドも付属する。\n",
      "「1,000人の命を救う」というテーマから命名されたロサンゼルス生まれの「Thousand（サウザンド）」。シティサイクリストのためのミニマルなデザインが人気のブランドだ。\n",
      "フラッグシップモデルの「CHAPTER（チャプター）」は、自転車ヘルメットの安全機構として広まっている多方向衝撃保護システム（MIPS）を採用。ライナーとパッドの間に低摩擦のレイヤーを入れることで、転倒時に脳内で起きる回転運動の衝撃を軽減させる。\n",
      "また、ヘルメット後部にあるダイヤルフィットシステムは、頭にフィットしやすいように調整できる。マグネット式のテールライトは明るさが最大30ルーメンの点滅が約4時間にわたって持続し、マルチユースアダプターを使えば自転車のシートポストやハンドルバーにも装着可能だ。自転車本体とヘルメットを連結して鍵をかけられるシークレットポップロック機構は、置き場に困るヘルメットの固定にひと役買ってくれる。\n",
      "レーシングスペックのモデルを多く発表してきたPOCのアーバンヘルメット「MYELIN（ミエリン）」。乗馬ヘルメットのような布製のアウターシェルに、軽量の発泡スチロールのヘルメットライナーなどの素材を接着剤を一切使わずに固定したことで、簡単に分解して個々の部品をリサイクルできる。サステナブルなマイクロモビリティとして注目されている電動アシスト自転車（Eバイク）で使うにはもってこいのコンセプトだ。\n",
      "後頭部にダイヤルアジャスターはなく、ストレッチ性のあるサイドストラップが伸縮してフィットする構造。布製のアウターシェルと通気孔のついたインナーシェルの組み合わせで熱がこもらず、気温が上がる季節もストレスなく着用できる。\n",
      "ツール・ド・フランスのチャンピオンが着用していたことでも知られる『MET（メット）』は、イタリアで1987年に創業したスポーツサイクル用のヘルメットメーカー。「STRALE」は、上位モデルのデザインや技術を踏襲したリーズナブルなエントリーモデルだ。\n",
      "独自のエアフロー構造により効率的な空気の抜け道をつくり、蒸れることなく長時間のライドも快適という。頭部を一周するベルトが特徴的なアジャスターシステム「Safe-T Duo」が締めつけ感のない快適なフィットを実現する。\n",
      "アジアンフィットタイプではないのでフィットには注意が必要だが、実売価格が10,000円程度なので、ロードバイク用ヘルメットの入門アイテムとしておすすめだ。\n",
      "サイクルヘルメットで最軽量クラスの200g以下で、装着していることを忘れるほどの軽い製品が「VENTRAL LITE WF（ベントラル ライト WF）」。POCのヘルメットの全ラインナップでオールラウンドモデルに位置づけられる「VENTRAL」ラインでは軽量モデルとなり、アジア人の頭の形に合うワイドフィットが特徴だ。\n",
      "安全性を保ちながらもアウターシェルの使用面積を減らし、アジャストシステムにもより軽量な素材を採用するなど徹底して軽量化を図っている。レース用に開発されたモデルではあるが、街乗りでもヘルメット本体の重さによる着用時のストレスを最小限にしてサイクリングを楽しみ人におすすめだ。\n",
      "2013年にスペインで誕生した「CLOSKA（クロスカ）」は、デザイン性に優れたイノベーティブなプロダクトを発表している注目のブランド。ブランド初のプロダクトとして知られるヘルメットと同様の構造をもつ「LOOP」は、建築からインスピレーションを得たというフォルムが特徴的な折り畳みタイプだ。同心円状になったプラスチックとフォームラバーは入れ子式に折り畳むと6cmほどの厚さになり、かさばらずにバッグに収納できる。\n",
      "欧州の自転車ヘルメットやスケートボード用ヘルメットの安全基準であるCE規格（EN1078）と、米国消費者製品安全委員会（CPSC）の自転車ヘルメットの安全基準の2つをクリアしているので、安全性の高さも申し分ない。\n",
      "商品開発から安全実験、製造販売まで一貫して日本国内で手掛けている「OGK KABUTO（オージーケーカブト）。モーターバイクやロードレース用のヘルメットだけでなく、通勤通学やタウンユース向けモデルも多数展開している。\n",
      "日本人の頭の形にフィットするヘルメットは、一見するとヘルメットには見えない帽子型のデザインも人気だ。カジュアルなスタイルになじむ帽子型は、「DAYS」のほかに3種類のデザインがラインナップする。\n",
      "2004年に米国のボストンで誕生したヘルメットブランド「BERN（バーン）」。自転車だけでなくスキーやスノーボード、スケートのヘルメットを展開し、日本人の頭の形に合うジャパンフィットもラインナップする。\n",
      "2歳から6歳までの子どもにおすすめのキッズ用ヘルメットは、ボーイズ用にNINO（ニーノ）、ガールズ用にNINA（ニーナ）というモデルが用意されており、耐衝撃性の高さと軽さで子どもにとって快適な使用感を実現したという。バイザー付きのインナーは取り外して洗濯が可能。ベルクロでインナーのサイズを簡単に調整できる「EZ-FIT」システムは、日々大きくなる子供の頭のサイズに合わせてフィッティングしやすい。色やデザインの豊富なバリエーションが用意されているので、子どもの好みのモデルが見つかるはずだ。\n",
      "総合サイクルブランドとして有名なSPECIALIZED（スペシャライズド）の「S-WORKS PREVAIL II VENT MIPS」は、自動で転倒を検出して緊急連絡先に通報してくれる別売りのANGiセンサーを搭載可能。スマートフォンのアプリと連動させると、転倒の衝撃をセンサーが検知して登録した緊急連絡先にテキストメッセージとを位置情報を送信する。スマートフォンアプリ「Ride」はGPSを用いたアクティビティトラッキングが可能だ。\n",
      "ヘルメット中央と側面のブリッジ7本を取り除いて通気口と通風路を改善し、空気の流れるスピードを速くすることで頭をより涼しい状態に保つという。部位ごとに発泡素材のタイプを最適化した「Energy Optimized Multi-Density EPS素材」による独自構造で衝撃を吸収。幅を10mmに狭めたストラップを採用した長さ調節が可能な機構「Tri-Fixウェブスプリッター」により、ストラップの調節のしやすさと快適な装着感も両立している。\n",
      "アナ・ハウトとテリーズ・アルスティンによって2013年に発表された『Hövding』は、エアバッグタイプの画期的な頭部プロテクションデバイス。改良を重ねて現在は第3世代モデルが欧州で販売されている。現時点では日本での正式販売はないものの、従来のハードシェル型ヘルメットの代替製品として今後の展開が期待されるプロダクトだ。\n",
      "『WIRED』では最新のガジェットからキッチングッズ、アウトドア用品まで、自信をもっておすすめできるアイテムを幅広く紹介している。おすすめサイクリングギアや、おすすめサイクリングウェアなど自転車\n"
     ]
    }
   ],
   "source": [
    "import re\n",
    "\n",
    "print(d[\"text\"])"
   ]
  },
  {
   "cell_type": "code",
   "execution_count": 34,
   "metadata": {},
   "outputs": [],
   "source": [
    "for i in range(500):\n",
    "    d=next(loader)"
   ]
  },
  {
   "cell_type": "code",
   "execution_count": 35,
   "metadata": {},
   "outputs": [
    {
     "data": {
      "text/plain": [
       "{'en': \"The story of his wanderings at the time of death is told in the area where Kobe of Ise Jingu can be seen, and overlaps with the advance route of Emperor Tenmu's Jinshin War, which established the system of Isesaigu, so it is thought to be related to Ise, but Kenichi Yokota points out that there is no story of Yamato Takeru in the Imperial Shrine Ritual Book or the Wakihime Seiseki. Since the Kusanagi sword linked the characters Yamatohime in the Yamato-Oguna tale with the life of Saio Wakihime, it is possible that the story of the Ise region was tentatively entrusted to Yamato Takeru.\",\n",
       " 'ja': ' 死に際の彷徨の物語が、伊勢神宮の神戸の見られる地域で語られ、かつ伊勢斎宮の制度を確立した天武天皇の壬申の乱の際の進軍ルートに重なるため、伊勢との関連が考えられるが、横田健一は『皇太神宮儀式帳』や『倭姫命世記』にヤマトタケルの物語がないことを指摘する。草薙剣に関しヤマトヲグナ説話の登場人物のヤマトヒメと斎王倭姫命を結びつけたため、伊勢地方の説話がヤマトタケルに仮託された可能性も考えられる。',\n",
       " 'text': \"The story of his wanderings at the time of death is told in the area where Kobe of Ise Jingu can be seen, and overlaps with the advance route of Emperor Tenmu's Jinshin War, which established the system of Isesaigu, so it is thought to be related to Ise, but Kenichi Yokota points out that there is no story of Yamato Takeru in the Imperial Shrine Ritual Book or the Wakihime Seiseki. Since the Kusanagi sword linked the characters Yamatohime in the Yamato-Oguna tale with the life of Saio Wakihime, it is possible that the story of the Ise region was tentatively entrusted to Yamato Takeru.\\n 死に際の彷徨の物語が、伊勢神宮の神戸の見られる地域で語られ、かつ伊勢斎宮の制度を確立した天武天皇の壬申の乱の際の進軍ルートに重なるため、伊勢との関連が考えられるが、横田健一は『皇太神宮儀式帳』や『倭姫命世記』にヤマトタケルの物語がないことを指摘する。草薙剣に関しヤマトヲグナ説話の登場人物のヤマトヒメと斎王倭姫命を結びつけたため、伊勢地方の説話がヤマトタケルに仮託された可能性も考えられる。\"}"
      ]
     },
     "execution_count": 35,
     "metadata": {},
     "output_type": "execute_result"
    }
   ],
   "source": [
    "d"
   ]
  },
  {
   "cell_type": "code",
   "execution_count": 18,
   "metadata": {},
   "outputs": [
    {
     "data": {
      "text/plain": [
       "IterableDataset({\n",
       "    features: Unknown,\n",
       "    n_shards: 774\n",
       "})"
      ]
     },
     "execution_count": 18,
     "metadata": {},
     "output_type": "execute_result"
    }
   ],
   "source": [
    "ds"
   ]
  },
  {
   "cell_type": "code",
   "execution_count": null,
   "metadata": {},
   "outputs": [],
   "source": []
  }
 ],
 "metadata": {
  "kernelspec": {
   "display_name": "ft",
   "language": "python",
   "name": "python3"
  },
  "language_info": {
   "codemirror_mode": {
    "name": "ipython",
    "version": 3
   },
   "file_extension": ".py",
   "mimetype": "text/x-python",
   "name": "python",
   "nbconvert_exporter": "python",
   "pygments_lexer": "ipython3",
   "version": "3.12.2"
  }
 },
 "nbformat": 4,
 "nbformat_minor": 2
}
