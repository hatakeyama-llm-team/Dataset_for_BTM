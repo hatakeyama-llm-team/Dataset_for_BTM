{
 "cells": [
  {
   "cell_type": "code",
   "execution_count": 11,
   "metadata": {},
   "outputs": [],
   "source": [
    "%load_ext autoreload\n",
    "%autoreload 2\n",
    "import os\n",
    "\n",
    "from datasets import load_dataset\n",
    "with open(\".env\",\"r\") as f:\n",
    "    for line in f:\n",
    "        var = line.split(\"=\")\n",
    "        os.environ[var[0]] = var[1].strip()"
   ]
  },
  {
   "cell_type": "code",
   "execution_count": 2,
   "metadata": {},
   "outputs": [],
   "source": [
    "\"\"\"\n",
    "ds = load_dataset(\"hatakeyama-llm-team/nhk_for_school_outline\",\n",
    "split=\"train\",\n",
    "use_auth_token=os.environ[\"hf_key\"],\n",
    "                  )\n",
    "\"\"\"\n",
    "ds=load_dataset(\"kunishou/OpenMathInstruct-1-1.8m-ja\",\n",
    "split=\"train\",\n",
    ")"
   ]
  },
  {
   "cell_type": "code",
   "execution_count": 3,
   "metadata": {},
   "outputs": [
    {
     "data": {
      "text/plain": [
       "1825008"
      ]
     },
     "execution_count": 3,
     "metadata": {},
     "output_type": "execute_result"
    }
   ],
   "source": [
    "len(ds)"
   ]
  },
  {
   "cell_type": "code",
   "execution_count": 4,
   "metadata": {},
   "outputs": [
    {
     "data": {
      "text/plain": [
       "{'index': 0,\n",
       " 'dataset': 'gsm8k',\n",
       " 'question': 'Martha has 18 crayons. She lost half of them, so she bought a new set of 20 crayons. How many crayons in total does Martha have after the purchase?',\n",
       " 'generated_solution': \"Let's solve this problem using Python code.\\n<llm-code>\\namount_of_lost_crayons = 18 / 2\\namount_of_new_crayons = 20\\ntotal_amount = amount_of_lost_crayons + amount_of_new_crayons\\ntotal_amount\\n</llm-code>\\n<llm-code-output>\\n29.0\\n</llm-code-output>\\nThus Martha has \\\\\\\\boxed{29} crayons in total.\",\n",
       " 'question_ja': 'マーサは18本のクレヨンを持っている。その半分をなくしてしまったので、新しいクレヨンを20本買いました。購入後、マーサは全部で何本のクレヨンを持っていますか。',\n",
       " 'generated_solution_ja': 'Pythonコードを使用してこの問題を解決しましょう。<llm-code>\\namount_of_lost_crayons = 18 / 2\\namount_of_new_crayons = 20\\ntotal_amount = amount_of_lost_crayons + amount_of_new_crayons\\ntotal_amount\\n</llm-code><llm-code-output>\\n29.0\\n</llm-code-output>\\nしたがって、マーサは合計で\\\\\\\\ boxed {29}本のクレヨンを持っています。'}"
      ]
     },
     "execution_count": 4,
     "metadata": {},
     "output_type": "execute_result"
    }
   ],
   "source": [
    "ds[0]"
   ]
  },
  {
   "cell_type": "code",
   "execution_count": 9,
   "metadata": {},
   "outputs": [
    {
     "name": "stdout",
     "output_type": "stream",
     "text": [
      "ジェーンはカーニバルの賞品としてミノーを分けている。彼女は600匹のミノウを買い、各賞品は3匹のミノウが入ったボウルです。800人がゲームに参加し、15%が賞品を獲得するとすると、残りは何匹のミノーになるでしょうか？\n",
      "\n",
      "Pythonコードを使用してこの問題を解決しましょう。<llm-code>\n",
      "number_of_minnows = 600\n",
      "number_of_people = 800\n",
      "probability_of_winning = 15 / 100\n",
      "number_of_winners = number_of_people * probability_of_winning\n",
      "number_of_winners_minnows = number_of_winners * 3\n",
      "number_of_minnows_left = number_of_minnows - number_of_winners_minnows\n",
      "number_of_minnows_left\n",
      "</llm-code><llm-code-output>\n",
      "240.0\n",
      "</llm-code-output>\n",
      "したがって、カーニバルの後、\\\\ Boxed {240}ミノーが残っています。\n"
     ]
    }
   ],
   "source": [
    "record_id = 0\n",
    "cnt=0\n",
    "for record in ds:\n",
    "    \n",
    "    cnt+=1\n",
    "    if cnt>11:\n",
    "        break\n",
    "\n",
    "j_q=record[\"question_ja\"]\n",
    "j_a=record[\"generated_solution_ja\"]\n",
    "\n",
    "#txt=e_q+\"\\n\"+j_q+\"\\n\"+e_a+\"\\n\"+j_a\n",
    "txt=j_q+\"\\n\\n\"+j_a\n",
    "print(txt)"
   ]
  },
  {
   "cell_type": "code",
   "execution_count": null,
   "metadata": {},
   "outputs": [],
   "source": [
    "\n"
   ]
  },
  {
   "cell_type": "code",
   "execution_count": 46,
   "metadata": {},
   "outputs": [],
   "source": [
    "import sys\n",
    "sys.path.append(\"../20integrate_texts\")\n",
    "from loaders.OtherDatasets import PythonCodeDataset,OpenMathInstructJa\n",
    "\n",
    "#python_ds=PythonCodeDataset()\n",
    "python_ds=OpenMathInstructJa()"
   ]
  },
  {
   "cell_type": "code",
   "execution_count": 42,
   "metadata": {},
   "outputs": [
    {
     "data": {
      "text/plain": [
       "{'index': 1133683,\n",
       " 'dataset': 'gsm8k',\n",
       " 'question': 'James takes 5 oranges and breaks each orange into 8 pieces.  He splits the pieces between 4 people.  If an orange has 80 calories how many calories does each person get?',\n",
       " 'generated_solution': \"Let's solve this problem using Python code.\\n<llm-code>\\norange_pieces = 8\\noranges = 5\\npeople = 4\\npieces_per_person = orange_pieces * oranges / people\\nnumber_of_oranges_eaten = pieces_per_person / orange_pieces\\ncalories_per_person = 80 * number_of_oranges_eaten\\ncalories_per_person\\n</llm-code>\\n<llm-code-output>\\n100.0\\n</llm-code-output>\\nThus each person gets \\\\\\\\boxed{100} calories of oranges.\",\n",
       " 'question_ja': 'ジェームズは5つのオレンジを取り、各オレンジを8個に分けます。彼は4人の間で破片を分割します。オレンジに80カロリーがある場合、各人は何カロリーを得ますか？',\n",
       " 'generated_solution_ja': 'Pythonコードを使用してこの問題を解決しましょう。<llm-code>\\norange_pieces = 8\\noranges = 5\\npeople = 4\\npieces_per_person = orange_pieces * oranges / people\\nnumber_of_oranges_eaten = pieces_per_person / orange_pieces\\ncalories_per_person = 80 * number_of_oranges_eaten\\ncalories_per_person\\n</llm-code><llm-code-output>\\n100.0\\n</llm-code-output>\\nしたがって、各人はオレンジのカロリー{100}カロリーを取得します。',\n",
       " 'text': 'ジェームズは5つのオレンジを取り、各オレンジを8個に分けます。彼は4人の間で破片を分割します。オレンジに80カロリーがある場合、各人は何カロリーを得ますか？\\n\\nPythonコードを使用してこの問題を解決しましょう。<llm-code>\\norange_pieces = 8\\noranges = 5\\npeople = 4\\npieces_per_person = orange_pieces * oranges / people\\nnumber_of_oranges_eaten = pieces_per_person / orange_pieces\\ncalories_per_person = 80 * number_of_oranges_eaten\\ncalories_per_person\\n</llm-code><llm-code-output>\\n100.0\\n</llm-code-output>\\nしたがって、各人はオレンジのカロリー{100}カロリーを取得します。'}"
      ]
     },
     "execution_count": 42,
     "metadata": {},
     "output_type": "execute_result"
    }
   ],
   "source": [
    "loader=iter(python_ds)\n",
    "next(loader)"
   ]
  },
  {
   "cell_type": "code",
   "execution_count": 36,
   "metadata": {},
   "outputs": [
    {
     "data": {
      "text/plain": [
       "{'instruction': 'Create a Python program to generate a bar chart of open and close prices of a stock over the past N days N=7\\nopen_prices=[112.22, 113.45, 114.98, 111.76, 112.35, 108.91, 111.65]\\nclose_prices=[114.72, 114.22, 115.46, 111.75, 112.31, 109.30, 111.33]',\n",
       " 'output': '```python\\nimport matplotlib.pyplot as plt\\n\\nopen_prices = [112.22, 113.45, 114.98, 111.76, 112.35, 108.91, 111.65]\\nclose_prices = [114.72, 114.22, 115.46, 111.75, 112.31, 109.30, 111.33]\\n\\nN = 7\\n\\nx = range(1, N+1)\\n\\nplt.bar(x, open_prices, color=\"lightblue\", width=0.8)\\nplt.bar(x, close_prices, color=\"red\", width=0.4, bottom=open_prices)\\n\\nplt.title(\\'Open and Close Prices of a stock\\')\\nplt.xlabel(\\'Day\\')\\nplt.ylabel(\\'Price\\')\\n\\nplt.xticks(x)\\n\\nplt.show()\\n```',\n",
       " 'input': '',\n",
       " 'text': '\\npython\\nimport matplotlib.pyplot as plt\\n\\nopen_prices = [112.22, 113.45, 114.98, 111.76, 112.35, 108.91, 111.65]\\nclose_prices = [114.72, 114.22, 115.46, 111.75, 112.31, 109.30, 111.33]\\n\\nN = 7\\n\\nx = range(1, N+1)\\n\\nplt.bar(x, open_prices, color=\"lightblue\", width=0.8)\\nplt.bar(x, close_prices, color=\"red\", width=0.4, bottom=open_prices)\\n\\nplt.title(\\'Open and Close Prices of a stock\\')\\nplt.xlabel(\\'Day\\')\\nplt.ylabel(\\'Price\\')\\n\\nplt.xticks(x)\\n\\nplt.show()\\n'}"
      ]
     },
     "execution_count": 36,
     "metadata": {},
     "output_type": "execute_result"
    }
   ],
   "source": [
    "\n",
    "next(loader)"
   ]
  },
  {
   "cell_type": "code",
   "execution_count": 48,
   "metadata": {},
   "outputs": [
    {
     "data": {
      "text/plain": [
       "1825008"
      ]
     },
     "execution_count": 48,
     "metadata": {},
     "output_type": "execute_result"
    }
   ],
   "source": [
    "len(python_ds)"
   ]
  },
  {
   "cell_type": "code",
   "execution_count": null,
   "metadata": {},
   "outputs": [],
   "source": []
  }
 ],
 "metadata": {
  "kernelspec": {
   "display_name": "ft",
   "language": "python",
   "name": "python3"
  },
  "language_info": {
   "codemirror_mode": {
    "name": "ipython",
    "version": 3
   },
   "file_extension": ".py",
   "mimetype": "text/x-python",
   "name": "python",
   "nbconvert_exporter": "python",
   "pygments_lexer": "ipython3",
   "version": "3.12.2"
  }
 },
 "nbformat": 4,
 "nbformat_minor": 2
}
