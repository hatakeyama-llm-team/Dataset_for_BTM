{
 "cells": [
  {
   "cell_type": "code",
   "execution_count": 2,
   "metadata": {},
   "outputs": [
    {
     "name": "stderr",
     "output_type": "stream",
     "text": [
      "/home/hatakeyama/miniconda3/envs/textprocess/lib/python3.12/site-packages/tqdm/auto.py:21: TqdmWarning: IProgress not found. Please update jupyter and ipywidgets. See https://ipywidgets.readthedocs.io/en/stable/user_install.html\n",
      "  from .autonotebook import tqdm as notebook_tqdm\n"
     ]
    }
   ],
   "source": [
    "import os\n",
    "\n",
    "from datasets import load_dataset\n",
    "with open(\".env\",\"r\") as f:\n",
    "    for line in f:\n",
    "        var = line.split(\"=\")\n",
    "        os.environ[var[0]] = var[1].strip()"
   ]
  },
  {
   "cell_type": "code",
   "execution_count": 3,
   "metadata": {},
   "outputs": [
    {
     "name": "stderr",
     "output_type": "stream",
     "text": [
      "/home/hatakeyama/miniconda3/envs/textprocess/lib/python3.12/site-packages/datasets/load.py:2516: FutureWarning: 'use_auth_token' was deprecated in favor of 'token' in version 2.14.0 and will be removed in 3.0.0.\n",
      "You can remove this warning by passing 'token=<use_auth_token>' instead.\n",
      "  warnings.warn(\n",
      "Repo card metadata block was not found. Setting CardData to empty.\n",
      "Generating train split: 6288 examples [00:00, 17022.26 examples/s]\n"
     ]
    }
   ],
   "source": [
    "ds = load_dataset(\"hatakeyama-llm-team/nhk_for_school_outline\",\n",
    "split=\"train\",\n",
    "use_auth_token=os.environ[\"hf_key\"],\n",
    "                  )"
   ]
  },
  {
   "cell_type": "code",
   "execution_count": 43,
   "metadata": {},
   "outputs": [
    {
     "data": {
      "text/plain": [
       "6288"
      ]
     },
     "execution_count": 43,
     "metadata": {},
     "output_type": "execute_result"
    }
   ],
   "source": [
    "len(ds)"
   ]
  },
  {
   "cell_type": "code",
   "execution_count": 44,
   "metadata": {},
   "outputs": [
    {
     "name": "stderr",
     "output_type": "stream",
     "text": [
      "Filter: 100%|██████████| 6288/6288 [00:00<00:00, 54789.35 examples/s]\n"
     ]
    }
   ],
   "source": [
    "ds=ds.filter(lambda x: (x[\"outline\"]) is not None)"
   ]
  },
  {
   "cell_type": "code",
   "execution_count": 52,
   "metadata": {},
   "outputs": [
    {
     "data": {
      "text/plain": [
       "{'title': 'えいごでがんこちゃん',\n",
       " 'program_url': 'https://www.nhk.or.jp/school/tokkatsu/ganko/',\n",
       " 'subtitle': 'あの子はだあれ？',\n",
       " 'episode_url': 'https://www2.nhk.or.jp/school/watch/bangumi/?das_id=D0005170441_00000',\n",
       " 'caption': 'ざわざわ森に不思議な言葉を話すペンギンの男の子がやって来た。この子はだれ？なんて言ってるの？',\n",
       " 'outline_url': 'https://www2.nhk.or.jp/school/watch/outline/?das_id=D0005170441_00000',\n",
       " 'outline': '【】\\nオープニング\\nオープニングタイトル\\n\\n【scene 01】\\n見たことのないペンギンの子\\n学校がえりのがんこちゃんたちが、森の中をやってきました。「今日（きょう）のきゅうしょくもおいしかったよねぇ」とはなしていると、「あら？\\u3000なにかしら…？」とツムちゃん。「ビョン、ビョン、ビョン」と、なにかがはねるような音がします。すると！ 「ザワザワモリ～！\\u3000ザワザワモリ～！」といいながら、だれかがピョンピョンととんで、とおりすぎていきました。「いっちゃった…」。ところがまた、「ザワザワモリ～！」ともどってきて、がんこちゃんたちのそばにきました。ペンギンの男の子のようです。「おい、あいつ、だれだ？」。「見たことない子ね…」。「う、うん…」。\\n\\n【scene 02】\\n「ザワザワモリ？」\\nそのペンギンの子は、ふしぎなことばではなしかけてきました。「あわわわ…」とあわてる三人に、「ザワザワモリ？」ときいているようです。「え？\\u3000いま、『ざわざわ森』っていった？」とがんこちゃん。「い、いった、いった」とバンバン。そこでがんこちゃんは、「ここ、ざわざわ森」といってみました。「ザワザワモリ？\\u3000イェーイ！」と、その子は大よろこびしています。「ね、この子、だれ？\\u3000なにいってんの？」。がんこちゃんがききますが、「さあ、さっぱりわかんねえ」とバンバン。その子はまたなにかいうと、もってきたバッグをひきよせました。\\n\\n【scene 03】\\nアイスクリーム、おいしいね！\\nバッグのレバーをおすと、アイスクリームが２本とびだしてきました。その子はアイスクリームをおいしそうにたべています。「あぁ、おいしそう…」とがんこちゃんがみていると、その子は、がんこちゃんにアイスクリームを１本くれました。さっそくアイスをたべて、「わあ、おいしいね！」とがんこちゃん。\\n\\n【scene 04】\\nリアン？\\nその子は、がんこちゃんに「ハーイ！\\u3000……ミーチュー」といって、あくしゅしました。「あ、ははは。ミーチュー、ミーチュー」と、まねをするがんこちゃん。その子は「アイムリア…」といいます。「あいむりあ？」とがんこちゃんがくりかえすと、「ノー、ノー、ノー。リアン」。「あぁっ！\\u3000リアン？」。がんこちゃんは、その子の名前（なまえ）が「リアン」だと気がつきました。\\n\\n【scene 05】\\n「ハーイ、ガンコ！」「はーい、リアン！」\\n「そっかあ。リアンっていうんだ」。するとリアンが、がんこちゃんに「ワッチャネ？」とたずねてきます。「え？\\u3000ワッチャネ…？」。がんこちゃんは、いみがわかりません。リアンはじぶんをさして「リアン」。そして、がんこちゃんをさして「…ネーム？」とたずねます。そこで、がんこちゃんは、リアンが名前（なまえ）をきいているのだと気づきました。「ネーム？\\u3000ああ！\\u3000あたし？\\u3000あたしは、がんこ！」。「ガンコ？\\u3000ハーイ、ガンコ！」、「はーい、リアン！\\u3000あはははは」。それをみていたツムちゃんが、「がんこちゃん。リアンって、この子の名前なの？」とききました。「そうそう、リアン」とがんこちゃん。「がんこ。こいつがなにいってるのか、わかんのか？」とバンバン。すると、「ううん、ぜんぜん」。\\n\\n【scene 06】\\nバンバンとツムちゃんにもあいさつ\\nこんどは、リアンがバンバンに「ハーイ！\\u3000……ネーム？」とたずねます。「お、おいらの名前（なまえ）か？\\u3000おいら、バンバン！」。きんちょうしてこたえるバンバン。リアンはつづいて、「……ネーム？」とツムちゃんにたずねます。「わ、わたし…、ツム」と小さな声（こえ）でこたえるツムちゃん。「スー・ムー？」とリアンがいったので、「ちがう！\\u3000ツ・ム！」と大きな声でいって、きゅうにはずかしくなるツムちゃんです。「はーい、リアン！」。「ハーイ、ガンコ！」。「ははは～！」。リアンとあいさつができて、みんなはたのしくなりました。すると、「なあ、リアン。おれにもくれよ、アイス」とバンバン。「オー、アイスクリーム？\\u3000オーケー」。\\n\\n【scene 07】\\nリアンはなにをいっているの？！\\nバッグからアイスクリームを出そうとしたリアンは、きゅうに、「オー、ラッパー！\\u3000ガンコ！……？」といいだしました。リアンがなにかをいいますが、「あ…、ぜんぜんわかんないよ」とがんこちゃん。バンバンが「なにいってんだ、リアン？」とたずねますが、とうとう、なきだしてしまうリアン。「いま、『ラッパー』っていわなかった？」とツムちゃん。「がんこ、なんとかしろ！」とバンバンにいわれ、「えぇ？！\\u3000もう、どうしたらいいの～？」とこまってしまうがんこちゃん。そして、「ワァァァ～ン！」。ますます大声（おおごえ）でなきだすリアン…。\\n\\n'}"
      ]
     },
     "execution_count": 52,
     "metadata": {},
     "output_type": "execute_result"
    }
   ],
   "source": [
    "record=ds[2003]\n",
    "#record=ds[-1]\n",
    "record"
   ]
  },
  {
   "cell_type": "code",
   "execution_count": 53,
   "metadata": {},
   "outputs": [
    {
     "data": {
      "text/plain": [
       "'見たことのないペンギンの子\\n学校がえりのがんこちゃんたちが、森の中をやってきました。「今日（きょう）のきゅうしょくもおいしかったよねぇ」とはなしていると、「あら？\\u3000なにかしら…？」とツムちゃん。「ビョン、ビョン、ビョン」と、なにかがはねるような音がします。すると！ 「ザワザワモリ～！\\u3000ザワザワモリ～！」といいながら、だれかがピョンピョンととんで、とおりすぎていきました。「いっちゃった…」。ところがまた、「ザワザワモリ～！」ともどってきて、がんこちゃんたちのそばにきました。ペンギンの男の子のようです。「おい、あいつ、だれだ？」。「見たことない子ね…」。「う、うん…」。\\n「ザワザワモリ？」\\nそのペンギンの子は、ふしぎなことばではなしかけてきました。「あわわわ…」とあわてる三人に、「ザワザワモリ？」ときいているようです。「え？\\u3000いま、『ざわざわ森』っていった？」とがんこちゃん。「い、いった、いった」とバンバン。そこでがんこちゃんは、「ここ、ざわざわ森」といってみました。「ザワザワモリ？\\u3000イェーイ！」と、その子は大よろこびしています。「ね、この子、だれ？\\u3000なにいってんの？」。がんこちゃんがききますが、「さあ、さっぱりわかんねえ」とバンバン。その子はまたなにかいうと、もってきたバッグをひきよせました。\\nアイスクリーム、おいしいね！\\nバッグのレバーをおすと、アイスクリームが２本とびだしてきました。その子はアイスクリームをおいしそうにたべています。「あぁ、おいしそう…」とがんこちゃんがみていると、その子は、がんこちゃんにアイスクリームを１本くれました。さっそくアイスをたべて、「わあ、おいしいね！」とがんこちゃん。\\nリアン？\\nその子は、がんこちゃんに「ハーイ！\\u3000……ミーチュー」といって、あくしゅしました。「あ、ははは。ミーチュー、ミーチュー」と、まねをするがんこちゃん。その子は「アイムリア…」といいます。「あいむりあ？」とがんこちゃんがくりかえすと、「ノー、ノー、ノー。リアン」。「あぁっ！\\u3000リアン？」。がんこちゃんは、その子の名前（なまえ）が「リアン」だと気がつきました。\\n「ハーイ、ガンコ！」「はーい、リアン！」\\n「そっかあ。リアンっていうんだ」。するとリアンが、がんこちゃんに「ワッチャネ？」とたずねてきます。「え？\\u3000ワッチャネ…？」。がんこちゃんは、いみがわかりません。リアンはじぶんをさして「リアン」。そして、がんこちゃんをさして「…ネーム？」とたずねます。そこで、がんこちゃんは、リアンが名前（なまえ）をきいているのだと気づきました。「ネーム？\\u3000ああ！\\u3000あたし？\\u3000あたしは、がんこ！」。「ガンコ？\\u3000ハーイ、ガンコ！」、「はーい、リアン！\\u3000あはははは」。それをみていたツムちゃんが、「がんこちゃん。リアンって、この子の名前なの？」とききました。「そうそう、リアン」とがんこちゃん。「がんこ。こいつがなにいってるのか、わかんのか？」とバンバン。すると、「ううん、ぜんぜん」。\\nバンバンとツムちゃんにもあいさつ\\nこんどは、リアンがバンバンに「ハーイ！\\u3000……ネーム？」とたずねます。「お、おいらの名前（なまえ）か？\\u3000おいら、バンバン！」。きんちょうしてこたえるバンバン。リアンはつづいて、「……ネーム？」とツムちゃんにたずねます。「わ、わたし…、ツム」と小さな声（こえ）でこたえるツムちゃん。「スー・ムー？」とリアンがいったので、「ちがう！\\u3000ツ・ム！」と大きな声でいって、きゅうにはずかしくなるツムちゃんです。「はーい、リアン！」。「ハーイ、ガンコ！」。「ははは～！」。リアンとあいさつができて、みんなはたのしくなりました。すると、「なあ、リアン。おれにもくれよ、アイス」とバンバン。「オー、アイスクリーム？\\u3000オーケー」。\\nリアンはなにをいっているの？！\\nバッグからアイスクリームを出そうとしたリアンは、きゅうに、「オー、ラッパー！\\u3000ガンコ！……？」といいだしました。リアンがなにかをいいますが、「あ…、ぜんぜんわかんないよ」とがんこちゃん。バンバンが「なにいってんだ、リアン？」とたずねますが、とうとう、なきだしてしまうリアン。「いま、『ラッパー』っていわなかった？」とツムちゃん。「がんこ、なんとかしろ！」とバンバンにいわれ、「えぇ？！\\u3000もう、どうしたらいいの～？」とこまってしまうがんこちゃん。そして、「ワァァァ～ン！」。ますます大声（おおごえ）でなきだすリアン…。'"
      ]
     },
     "execution_count": 53,
     "metadata": {},
     "output_type": "execute_result"
    }
   ],
   "source": [
    "text=record[\"outline\"]\n",
    "\n",
    "def clean_line(text):\n",
    "    lines=text.split(\"\\n\")\n",
    "\n",
    "    new_lines=[]\n",
    "    for line in lines:\n",
    "        if line in new_lines:\n",
    "            continue\n",
    "        if line.strip()==\"\":\n",
    "            continue\n",
    "        if line.find(\"【\")>=0:\n",
    "            continue\n",
    "        if line.find(\"オープニング\")>=0:\n",
    "            continue\n",
    "\n",
    "        new_lines.append(line)\n",
    "\n",
    "    return \"\\n\".join(new_lines)\n",
    "\n",
    "clean_line(text)\n",
    "\n"
   ]
  },
  {
   "cell_type": "code",
   "execution_count": 47,
   "metadata": {},
   "outputs": [
    {
     "name": "stdout",
     "output_type": "stream",
     "text": [
      "The autoreload extension is already loaded. To reload it, use:\n",
      "  %reload_ext autoreload\n"
     ]
    }
   ],
   "source": [
    "%load_ext autoreload\n",
    "%autoreload 2\n",
    "import sys\n",
    "sys.path.append(\"../01web_codes\")\n",
    "from src.cleaner.auto_cleaner import clean_text\n",
    "import glob"
   ]
  },
  {
   "cell_type": "code",
   "execution_count": 12,
   "metadata": {},
   "outputs": [
    {
     "data": {
      "text/plain": [
       "'10年以上も生き続ける「シスト」\\nダイズシストセンチュウによる被害はこれで終わりではありません。黄色く太ったセンチュウは、やがて体の中に卵をためこみ、自分は死んで殻になります。この茶色く硬い殻になった状態を、「シスト」といいます。シストは簡単に根からはずれ、畑の土の中に残ります。シストは乾燥や低温などにも強く、10年以上も生き続けます。駆除する薬も、殻にはばまれて十分な効果を上げることができません。いったん畑にすみつくと完全に駆除するのは難しいダイズシストセンチュウ。農家にとって、とてもやっかいな生きものなのです。'"
      ]
     },
     "execution_count": 12,
     "metadata": {},
     "output_type": "execute_result"
    }
   ],
   "source": [
    "clean_text(record[\"outline\"])"
   ]
  },
  {
   "cell_type": "code",
   "execution_count": null,
   "metadata": {},
   "outputs": [],
   "source": []
  }
 ],
 "metadata": {
  "kernelspec": {
   "display_name": "ft",
   "language": "python",
   "name": "python3"
  },
  "language_info": {
   "codemirror_mode": {
    "name": "ipython",
    "version": 3
   },
   "file_extension": ".py",
   "mimetype": "text/x-python",
   "name": "python",
   "nbconvert_exporter": "python",
   "pygments_lexer": "ipython3",
   "version": "3.12.2"
  }
 },
 "nbformat": 4,
 "nbformat_minor": 2
}
